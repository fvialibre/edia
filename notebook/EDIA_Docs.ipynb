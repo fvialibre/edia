{
  "cells": [
    {
      "cell_type": "markdown",
      "metadata": {
        "id": "view-in-github",
        "colab_type": "text"
      },
      "source": [
        "<a href=\"https://colab.research.google.com/github/fvialibre/edia/blob/master/notebook/EDIA_Docs.ipynb\" target=\"_parent\"><img src=\"https://colab.research.google.com/assets/colab-badge.svg\" alt=\"Open In Colab\"/></a>"
      ]
    },
    {
      "cell_type": "markdown",
      "source": [
        "# **EDIA**: Estereotipos y Discriminación en Inteligencia Artificial \n",
        "\n",
        "Notebook con proposito de documentación sobre la herramienta y sus clases.\n",
        "\n",
        "---"
      ],
      "metadata": {
        "id": "gwgsThogKQzA"
      }
    },
    {
      "cell_type": "markdown",
      "source": [
        "## Objetivo general\n",
        "\n",
        "El objetivo de esta notebook es **familarizarse** con las diferentes clases y funcionalidades que ofrece la herramienta en la **particularización**, **deteccion** y **exposición** de sesgos presentes en *embeddings* de palabras o modelos de lenguaje que, directa o indirectamente, afecta a comunidades vulnerables frente a sistemas basados en inteligencia artificial para el procesamientos del lenguaje, **toma de decisiones** y comunicación."
      ],
      "metadata": {
        "id": "_2LveNCo2_R6"
      }
    },
    {
      "cell_type": "markdown",
      "source": [
        "## Descarga o uso on-line\n",
        "\n",
        "Pueden encontrar tanto repositorios en GitHub como en HuggingFace🤗 para instalar localmente esta herramienta. Además, se cuenta en HuggingFace🤗 con una demo con interfaz grafica para conseguir exponer este trabajos a aquellos sectores con menor nivel de conocimiento pero gran interés en el área.\n",
        "\n",
        "`GitHub:` https://github.com/fvialibre/edia\n",
        "\n",
        "`HuggingFace🤗`: https://huggingface.co/spaces/vialibre/edia\n"
      ],
      "metadata": {
        "id": "PbrlG5V7sB9Y"
      }
    },
    {
      "cell_type": "markdown",
      "source": [
        "## Estableciendo el entorno de trabajo\n",
        "\n",
        "Para descargar la herramienta, el *dataset* y los paquetes de python requeridos para el correcto funcionamiento, ejecutar la siguiente celda."
      ],
      "metadata": {
        "id": "ajDbRPm825gl"
      }
    },
    {
      "cell_type": "code",
      "source": [
        "# @title Instalar EDIA y paquetes requeridos { display-mode: \"form\" }\n",
        "# @markdown Esto puede tomar unos minutos en completar.\n",
        "%%capture\n",
        "\n",
        "# Descarga y descomprimir archivo de word embeddings del español\n",
        "!wget -q http://dcc.uchile.cl/~jperez/word-embeddings/fasttext-sbwc.100k.vec.gz\n",
        "!gzip -d fasttext-sbwc.100k.vec.gz\n",
        "\n",
        "# Clonar repositorio\n",
        "!git clone https://github.com/fvialibre/edia.git\n",
        "\n",
        "# Crear directorio data/\n",
        "!mkdir edia/data\n",
        "\n",
        "# Mover word embeddings al directorio data/\n",
        "!mv fasttext-sbwc.100k.vec edia/data/fasttext-sbwc.100k.vec\n",
        "\n",
        "# Instalar gdown para descargar de Google Drive\n",
        "!pip3 -q install --upgrade gdown\n",
        "\n",
        "# Descargar y mover a direcotrio data/ vocabulario quarter\n",
        "!gdown https://drive.google.com/uc?id=1NYgWZTPDhpKsZO9qOsP29mKHviA_gsYW\n",
        "!mv quarter_vocab_v6.zip edia/data/quarter_vocab_v6.zip\n",
        "\n",
        "# Mover current directory al repo\n",
        "%cd edia/\n",
        "\n",
        "# Instalar paquetes y librerias requeridas\n",
        "!pip -q install -r requirements.txt\n",
        "\n",
        "# Por motivos de Google Colab, una version vieja de matplotlib es requerida\n",
        "!pip install matplotlib==3.1.3"
      ],
      "metadata": {
        "id": "SweVWrZFwmYy",
        "collapsed": true
      },
      "execution_count": 1,
      "outputs": []
    },
    {
      "cell_type": "markdown",
      "source": [
        ">  <big>⚠️</big> **Importante**: si al ejecutar la siguiente celda de seteo de entorno se levanta el error:\n",
        ">\n",
        "> *ERROR: pip's dependency resolver does not currently take into account all the packages that are installed.*\n",
        ">\n",
        "> No se procupe, esto surge de una dependencia no utilizada (*yellowbrick*). Este error no es impedimento para el uso de esta *Google Colab*."
      ],
      "metadata": {
        "id": "ZLFOeE8Oykr_"
      }
    },
    {
      "cell_type": "markdown",
      "source": [
        "## Control de errores"
      ],
      "metadata": {
        "id": "BTrNsN72He8S"
      }
    },
    {
      "cell_type": "markdown",
      "source": [
        "Al trabajar con las siguientes herramientas multilenguaje propuestas en **EDIA**, el control de los mensajes de error son llevados a cabo por la clase `ErrorManager`, que para su instanciación requiere de:\n",
        "\n",
        "*   `path (str)`: ruta de archivo `.json` con mensajes de error en el lenguaje deseado.\n",
        "*   `str_to_prepend (str)`: *`<center><h3>` por defecto*. Palabra a anteceder el mensaje de error.\n",
        "*   `str_to_append (str)`: *`</h3></center>` por defecto*. Palabra a preceder el mensaje de error.\n",
        "\n",
        "Tipicamente, los parametros `str_to_prepend` y `str_to_appends` se utilizan para el formateo de los mensajes de error utilizados en *frontend*.\n"
      ],
      "metadata": {
        "id": "eRy1NY3kHj1T"
      }
    },
    {
      "cell_type": "code",
      "source": [
        "from modules.module_ErrorManager import ErrorManager"
      ],
      "metadata": {
        "id": "JWMkGCyXN8hC"
      },
      "execution_count": 2,
      "outputs": []
    },
    {
      "cell_type": "markdown",
      "source": [
        "Instanciaremos ahora un objeto de la clase `ErrorManager` para tratar los errores de las siguientes clases."
      ],
      "metadata": {
        "id": "EGBOC1KTOEtg"
      }
    },
    {
      "cell_type": "code",
      "source": [
        "lenguaje = 'es'   # Lenguaje de los mensajes de error. \n",
        "errorManager =  ErrorManager(\n",
        "    path = f\"modules/error_messages/{lenguaje}.json\", \n",
        "    str_to_prepend = '', \n",
        "    str_to_append = ''\n",
        ")"
      ],
      "metadata": {
        "id": "_-OjznqDOaTl"
      },
      "execution_count": 3,
      "outputs": []
    },
    {
      "cell_type": "markdown",
      "source": [
        "> **Notar**: Actualmente existen implementados dos lenguajes para los mensajes de error, español (`es`) e ingles (`en`). Si se desea utilizar otro, se deberá crear el archivo `.json` pertinente.\n",
        "\n",
        "Recomendamos la utilización de los archivos existentes como guia."
      ],
      "metadata": {
        "id": "KQMkwwb_Os2I"
      }
    },
    {
      "cell_type": "markdown",
      "source": [
        "## Exploración de palabras y sesgos presentes\n"
      ],
      "metadata": {
        "id": "blZXG7zyVZuJ"
      }
    },
    {
      "cell_type": "markdown",
      "source": [
        "### Objetivo\n",
        "\n",
        "Muchos embeddings pre-calculados se obtienen de modelos en cuyos datos de entrenamiento fueron utilizados **grandes cantidades de ejemplos** de los cuales un porcentaje, no despreciable, contienen sesgos marcados. Como consecuencia, esto se extrapola en los embeddings de las palabras resultantes.\n",
        "\n",
        "En muchas ocaciones, al tratarse de vectorizaciones de palabras, podemos tomar una iniciativa matematica y graficarlas en un plano, observarndo así como éstas se relacionan por cercania entre sí. \n",
        "\n",
        "Esta cercania nos dá una ligera idea de \"*mismo significado*\", aunque **no literal**; tan solo se tratan de palabras cuyos contextos lo son, existiendo así de forma latente la posibilidad de intercambiar estas palabras muy cercanas entre sí en el mismo contexto manteniendo la coherencia de la misma."
      ],
      "metadata": {
        "id": "Ck36cV5vbY9A"
      }
    },
    {
      "cell_type": "markdown",
      "source": [
        "### Clase Embedding\n",
        "\n",
        "La tarea clave de esta clase es la carga de vectores de palabras (*word embeddings*) pre-calculados, estos pueden ser obtenidos a traves de la web o propios.\n",
        "\n",
        "A traves de ésta es que las siguientes clases que se describen podran contar con un núcleo claro, sencillo y transparente para la obtención de información sobre las palabras, más alla de su embedding.\n",
        "\n",
        "Para cargar esta clase, ejecutamos la siguiente celda."
      ],
      "metadata": {
        "id": "xZvU428Oz46j"
      }
    },
    {
      "cell_type": "code",
      "source": [
        "from modules.model_embbeding import Embedding"
      ],
      "metadata": {
        "id": "AjYjqrsoz8rY"
      },
      "execution_count": 4,
      "outputs": []
    },
    {
      "cell_type": "markdown",
      "source": [
        "Para instanciar un objeto, esta clase cuenta con varios parametros a setear para un correcto (y eficiente) funcionamiento en diferentes arquitecturas, examinemos cada uno de ellos:\n",
        "\n",
        "*   `path (str)`: ruta de archivo a embeddings pre-calculados. Por convención, se suele utilizar un archivo de vectores (`.vec`) aunque también se aceptan binarios (`.bin`) con el formato C de gensim.\n",
        "*   `limit (int)`: *`None` por defecto*. El número de vectores a extraer de `path`.\n",
        "*   `randomizedPCA (bool)`: *`False` por defecto*. Utilizar una componente alteatoria para el calculo del PCA para mayor eficiencia pero menor exactitud.\n",
        "*   `max_neighbours (int)`: *`20` por defecto*. Número de vecinos maximos precalculados.\n",
        "*   `nn_method (str)`: *`'sklearn'` por defecto*. Método para la obtención de los vecinos de las palabras. Las posibilidades son `'sklearn'` para un calculo exacto pero costoso, y `'ann'` para una aproximación rápida pero resultados no exactos.\n",
        "\n",
        "> **Nota**: Para la carga de embeddings pre-calculados a partir de un binario con otro formato al especificado anteriormente, se puede generar un script para crear el archivo de vectores (`.vec`) a partir de los presentes en el binario de origen.\n",
        "\n",
        "Si se cuenta con un alto número de embeddings que la arquitectura de base no logra cargar, es aconsejable limitarlos con el parámetro `limit`, si esto no es suficiente, aconsejamos utilizar aproximaciones de resultados estableciendo `randomizedPCA = True` y/o `nn_method = 'ann'`.\n",
        "\n",
        "En la siguiente celda realizamos una instanciacón de esta clase que nos será de utilidad en las siguientes descripciones."
      ],
      "metadata": {
        "id": "Yq8-1sWNz_hw"
      }
    },
    {
      "cell_type": "code",
      "source": [
        "emb = Embedding(\n",
        "    path = 'data/fasttext-sbwc.100k.vec',\n",
        "    limit = 100_000,\n",
        "    randomizedPCA = False,\n",
        "    max_neighbors = 20,\n",
        "    nn_method = 'sklearn'\n",
        ")"
      ],
      "metadata": {
        "id": "EMVoJitl0CsR",
        "colab": {
          "base_uri": "https://localhost:8080/"
        },
        "outputId": "0dcca951-86f1-4b04-b224-c0f50a4bd825"
      },
      "execution_count": 5,
      "outputs": [
        {
          "output_type": "stream",
          "name": "stdout",
          "text": [
            "Preparing fasttext-sbwc.100k.vec embeddings...\n",
            "Initializing sklearn method to search for nearby neighbors...\n"
          ]
        }
      ]
    },
    {
      "cell_type": "markdown",
      "source": [
        "Como describimos anteriormente, esta clase no se encarga unicamente de conteneder los embeddings de las palabras, si no tambien de realizar pre-calculos de interés para las proximas clases como son la reducción de dimensionalidad a solo dos con el método de [análisis de componentes principales](https://es.wikipedia.org/wiki/An%C3%A1lisis_de_componentes_principales) (*PCA*) o cálculo de vecinos cercanos de todas las palabras."
      ],
      "metadata": {
        "id": "UjV0S2270E4I"
      }
    },
    {
      "cell_type": "markdown",
      "source": [
        "### Clase WordExplorer\n",
        "\n",
        "Esta clase, instanciada a partir de un objeto `Embedding` del cual extraer la información de interes, cuenta con las funcionalidades para explorar las palabras y graficarlas en el plano."
      ],
      "metadata": {
        "id": "gHHQxKdnXkcL"
      }
    },
    {
      "cell_type": "code",
      "source": [
        "from modules.module_WordExplorer import WordExplorer"
      ],
      "metadata": {
        "id": "sV1D8mkZWUQL"
      },
      "execution_count": 6,
      "outputs": []
    },
    {
      "cell_type": "markdown",
      "source": [
        "Para instanciar un objeto de esta clase, se requieren dos parámetros:\n",
        "\n",
        "*   `embedding (Embedding)`: Objeto de tipo `Embedding` de la cuál obtener el vocabulario disponible junto a la información del mismo como son los embeddings, PCA o vecinos.\n",
        "*   `errorManager (ErrorManager)`: Objeto de tipo `ErrorManager` para los mensajes de error."
      ],
      "metadata": {
        "id": "ABNagFpi5W9u"
      }
    },
    {
      "cell_type": "code",
      "source": [
        "we = WordExplorer(\n",
        "    embedding = emb,\n",
        "    errorManager = errorManager\n",
        ")"
      ],
      "metadata": {
        "id": "WXPoPRYX5klX"
      },
      "execution_count": 7,
      "outputs": []
    },
    {
      "cell_type": "markdown",
      "source": [
        "#### Método check_oov(...)\n",
        "\n",
        "Este es un método clave de muchas de las clases de la herramienta **EDIA**, la cuál verifica que todas las palabras que el usuario ingresa estan presentes en el objeto `Embedding` para la extracción de su información.\n",
        "\n",
        "**Entrada(s)**:\n",
        "*   `wordlists (List[List[str]])`: Lista de listas de palabras a verificar su presencia en el objeto `Embedding` utilizado en la instanciacón actual de la clase `WordExplorer`.\n",
        "\n",
        "**Salida(s)**:\n",
        "*   `None` o `str` con mesaje de error explicitando la palabra fuera de vocabulario."
      ],
      "metadata": {
        "id": "AJRgcIHb61sE"
      }
    },
    {
      "cell_type": "markdown",
      "source": [
        "Realizamos una prueba con una lista de palabras presentes en el vocabulario."
      ],
      "metadata": {
        "id": "5WBQdtNW9mB2"
      }
    },
    {
      "cell_type": "code",
      "source": [
        "palabras_presentes = ['hombre', 'mujer']"
      ],
      "metadata": {
        "id": "AevNgpEJ9x0E"
      },
      "execution_count": 8,
      "outputs": []
    },
    {
      "cell_type": "code",
      "source": [
        "we.check_oov(\n",
        "    wordlists = [palabras_presentes]\n",
        ")"
      ],
      "metadata": {
        "id": "kcvgZvO99ugk"
      },
      "execution_count": 9,
      "outputs": []
    },
    {
      "cell_type": "markdown",
      "source": [
        "Ahora un caso donde una de las listas de palabras contiene varias palabras que no estan presentes en el vocabulario. Probar como al quitar palabras de esta lista, el mensaje de error es acorde y claro a la palabra faltante."
      ],
      "metadata": {
        "id": "hVDWB2V_-Aux"
      }
    },
    {
      "cell_type": "code",
      "source": [
        "palabras_no_presentes = ['mujer123', 'lumberjack', 'jajant', 'caipirosca']"
      ],
      "metadata": {
        "id": "WdEGS4KU-Slg"
      },
      "execution_count": 10,
      "outputs": []
    },
    {
      "cell_type": "code",
      "source": [
        "we.check_oov(\n",
        "    wordlists = [palabras_presentes, palabras_no_presentes]\n",
        ")"
      ],
      "metadata": {
        "id": "5kFvhd1z-fHQ",
        "colab": {
          "base_uri": "https://localhost:8080/",
          "height": 35
        },
        "outputId": "43db696c-ae92-40ef-dafe-5307087f6092"
      },
      "execution_count": 11,
      "outputs": [
        {
          "output_type": "execute_result",
          "data": {
            "text/plain": [
              "\"Error: La palabra '<b>mujer123</b>' no se encuentra en el vocabulario!\""
            ],
            "application/vnd.google.colaboratory.intrinsic+json": {
              "type": "string"
            }
          },
          "metadata": {},
          "execution_count": 11
        }
      ]
    },
    {
      "cell_type": "markdown",
      "source": [
        "Las funciones de interes siempre realizan este chequeo previo, de esta forma no hay una necesidad explicita por parte del usuario de instaciarlo en todas las iteraciones."
      ],
      "metadata": {
        "id": "AYP3hfK6_Wp-"
      }
    },
    {
      "cell_type": "markdown",
      "source": [
        "#### Método get_neighbours(...)\n",
        "\n",
        "Este método nos permite obtener las palabras vecinas de una dada.\n",
        "\n",
        "**Entrada(s)**:\n",
        "*   `word (str)`: Palabra a la cuál buscar los `n_neighbors` vecinos más cercanos. Debe estar presente en el vocabulario.\n",
        "*   `n_neighbors (int)`: número de vecinos a buscar (limitado por el parámetro `max_neighbours` del objeto `Embedding` con el cuál se creó el objeto `WordExplorer` actual).\n",
        "*   `nn_method (str)`: Método de obtención de vecinos. Actualmente los metodos posibles son `'sklearn'` y `'ann'`.\n",
        "\n",
        "**Salida(s)**:\n",
        "*   `List[str]`: lista con las palabras vecinas. Notar que es posible que los vecinos encontrados sean menor a los esperados (*i.e* `len(lista_vecinos_encontrados) <= n_neighbours`).\n",
        "\n",
        "> **Notar**: siempre de base se utiliza el objeto de tipo `Embedding` empleado para la instanciación de esta clase, si el método de obtención de vecinos es distinto al seteado en la creación del objeto `Embedding`, se cargará este nuevo método lo cuál puede llevar un mayor tiempo de obtención de vecinos en la primera ejecución debido a la carga e inicialización del nuevo método."
      ],
      "metadata": {
        "id": "8WoqEw1m_BrW"
      }
    },
    {
      "cell_type": "markdown",
      "source": [
        "Veamos un ejemplo buscando las ocho palabras vecinas de la palabra *mujer*."
      ],
      "metadata": {
        "id": "t3T4rrliB7fi"
      }
    },
    {
      "cell_type": "code",
      "source": [
        "we.get_neighbors(\n",
        "    word = 'mujer', \n",
        "    n_neighbors = 8, \n",
        "    nn_method = 'sklearn'\n",
        ")"
      ],
      "metadata": {
        "id": "koStaRGACF_s",
        "colab": {
          "base_uri": "https://localhost:8080/"
        },
        "outputId": "4562d211-130e-4f90-b925-0f25c7e294e5"
      },
      "execution_count": 12,
      "outputs": [
        {
          "output_type": "execute_result",
          "data": {
            "text/plain": [
              "['niña',\n",
              " 'mujeres',\n",
              " 'hombre',\n",
              " 'marido',\n",
              " 'muchacha',\n",
              " 'adolescente',\n",
              " 'embarazada',\n",
              " 'anciana']"
            ]
          },
          "metadata": {},
          "execution_count": 12
        }
      ]
    },
    {
      "cell_type": "markdown",
      "source": [
        "Veamos ahora lo que sucede cuando buscamos los vecinos pero empleando otro método de calculo de vecinos."
      ],
      "metadata": {
        "id": "asuLN_msCaNe"
      }
    },
    {
      "cell_type": "code",
      "source": [
        "we.get_neighbors(\n",
        "    word = 'mujer', \n",
        "    n_neighbors = 8, \n",
        "    nn_method = 'ann'\n",
        ")"
      ],
      "metadata": {
        "id": "je9vbW0-Cide",
        "colab": {
          "base_uri": "https://localhost:8080/"
        },
        "outputId": "7fdb5e77-fbf5-42f7-a95c-d6fce1cf17a2"
      },
      "execution_count": 13,
      "outputs": [
        {
          "output_type": "stream",
          "name": "stdout",
          "text": [
            "Initializing Annoy method to search for nearby neighbors...\n",
            "\tInit tree...\n"
          ]
        },
        {
          "output_type": "stream",
          "name": "stderr",
          "text": [
            "100%|██████████| 99723/99723 [00:06<00:00, 16267.31it/s]\n"
          ]
        },
        {
          "output_type": "stream",
          "name": "stdout",
          "text": [
            "6.140271186828613 seg.\n",
            "\tBuild tree...\n",
            "3.8765289783477783 seg.\n"
          ]
        },
        {
          "output_type": "execute_result",
          "data": {
            "text/plain": [
              "['marido',\n",
              " 'fémina',\n",
              " 'muchachas',\n",
              " 'pareja',\n",
              " 'nuera',\n",
              " 'gitana',\n",
              " 'agresora',\n",
              " 'adoptiva']"
            ]
          },
          "metadata": {},
          "execution_count": 13
        }
      ]
    },
    {
      "cell_type": "markdown",
      "source": [
        "Ya cargado el nuevo método de obtención de vecinos, podemos obtener vecinos de las demás palabras sin contar ahora con el tiempo de carga incial."
      ],
      "metadata": {
        "id": "w1nEVvEmDQsC"
      }
    },
    {
      "cell_type": "code",
      "source": [
        "we.get_neighbors(\n",
        "    word = 'chancho', \n",
        "    n_neighbors = 10, \n",
        "    nn_method = 'ann'\n",
        ")"
      ],
      "metadata": {
        "id": "IGAeNlgADbnI",
        "colab": {
          "base_uri": "https://localhost:8080/"
        },
        "outputId": "10bf7348-30cc-42c7-ff3f-132e6f4c9715"
      },
      "execution_count": 14,
      "outputs": [
        {
          "output_type": "execute_result",
          "data": {
            "text/plain": [
              "['chicharrón',\n",
              " 'cabrito',\n",
              " 'puerco',\n",
              " 'pelado',\n",
              " 'cuy',\n",
              " 'gallina',\n",
              " 'guiso',\n",
              " 'guajolote',\n",
              " 'cabritos',\n",
              " 'picadillo']"
            ]
          },
          "metadata": {},
          "execution_count": 14
        }
      ]
    },
    {
      "cell_type": "markdown",
      "source": [
        "> <big>⚠️</big> **Importante**: Si la palabra no se encuentra en el vocabulario, o si el número de vecinos a extraer es mayor a `max_neighbours` con el cuál se instanció el objeto `WordExplorer`, se levanta una excepción."
      ],
      "metadata": {
        "id": "TxpwC5v9Dlmb"
      }
    },
    {
      "cell_type": "code",
      "source": [
        "# Palabra fuera de vocabulario (OOV)\n",
        "we.get_neighbors(\n",
        "    word = 'mujer123', \n",
        "    n_neighbors = 5, \n",
        "    nn_method = 'sklearn'\n",
        ")"
      ],
      "metadata": {
        "id": "EyTOqdHtD7cq"
      },
      "execution_count": null,
      "outputs": []
    },
    {
      "cell_type": "code",
      "source": [
        "# n_neighbour > max_neighbours de clase Embedding\n",
        "we.get_neighbors(\n",
        "    word = 'mujer',\n",
        "    n_neighbors = 30, \n",
        "    nn_method = 'ann'\n",
        ")"
      ],
      "metadata": {
        "id": "aqBMxVf7EFdu"
      },
      "execution_count": null,
      "outputs": []
    },
    {
      "cell_type": "markdown",
      "source": [
        "#### Método doesnt_match(...)\n",
        "\n",
        "Este método es similar al presente en la libreria de [gensim](https://tedboy.github.io/nlps/generated/generated/gensim.models.Word2Vec.doesnt_match.html). \n",
        "\n",
        "El objetivo es obtener aquella palabra que **no coincide con la tematica** de las palabras de la lista de entrada.\n",
        "\n",
        "**Entrada(s)**:\n",
        "*   `wordlist (List[str])`: Lista de palabras a evaluar.\n",
        "\n",
        "**Salida(s)**:\n",
        "*   `str`: palabra que no concuerda con las demás presentes en `wordlist`.\n"
      ],
      "metadata": {
        "id": "K8Q4Zq3xeh4w"
      }
    },
    {
      "cell_type": "markdown",
      "source": [
        "Veamos un ejemplo sencillo con las comidas diarias:"
      ],
      "metadata": {
        "id": "x2pRYU5XfdO5"
      }
    },
    {
      "cell_type": "code",
      "source": [
        "comidas = ['desayuno', 'merienda', 'cereal', 'cena', 'almuerzo']"
      ],
      "metadata": {
        "id": "Zb_zraeFfiQw"
      },
      "execution_count": 18,
      "outputs": []
    },
    {
      "cell_type": "code",
      "source": [
        "we.doesnt_match(\n",
        "    wordlist = comidas\n",
        ")"
      ],
      "metadata": {
        "colab": {
          "base_uri": "https://localhost:8080/",
          "height": 35
        },
        "id": "ItS77TksfvJ1",
        "outputId": "dd1a8d39-9d89-4e88-bf0b-c1e8ade47f46"
      },
      "execution_count": 20,
      "outputs": [
        {
          "output_type": "execute_result",
          "data": {
            "text/plain": [
              "'cereal'"
            ],
            "application/vnd.google.colaboratory.intrinsic+json": {
              "type": "string"
            }
          },
          "metadata": {},
          "execution_count": 20
        }
      ]
    },
    {
      "cell_type": "markdown",
      "source": [
        "#### Método plot_projections_2d(...)\n",
        "\n",
        "Este es el método que nos permite graficar en un plano (*i.e.* 2 dimensiones) las palabras para explorar las distancias entre ellas y encontrar vecinos de interés.\n",
        "\n",
        "Recordar que las palabras son representadas con vectores (*word embeddings*) que cuentan, generalmente, con 300 componentes, es por ello que se lleva el cómputo extra de obtener una representación de tan solo dos componentes para graficar mediante la tecnica **PCA** de reduccion de dimensionalidad.\n",
        "\n",
        "**Entrada(s)**:\n",
        "*   `wordlist_0 (List[str])`: Lista de palabras las cuales graficar en el plano.\n",
        "*   `wordlist_1 (List[str])`:  *`[]` por defecto*. Lista de palabras las cuales graficar en el plano.\n",
        "*   `wordlist_2 (List[str])`: *`[]` por defecto*. Lista de palabras las cuales graficar en el plano.\n",
        "*   `wordlist_3 (List[str])`: *`[]` por defecto*. Lista de palabras las cuales graficar en el plano.\n",
        "*   `wordlist_4 (List[str])`: *`[]` por defecto*. Lista de palabras las cuales graficar en el plano.\n",
        "*   `kwargs`:\n",
        "  *   `color_wordlist_0 (str)`: *`'#000000'` por defecto*. Valor hexadecimal para colorear e identificar las palabras de `wordlist_0`.\n",
        "  *   `color_wordlist_1 (str)`: *`'#1f78b4'` por defecto*. Valor hexadecimal para colorear e identificar las palabras de `wordlist_1`.\n",
        "  *   `color_wordlist_2 (str)`: *`'#33a02c'` por defecto*. Valor hexadecimal para colorear e identificar las palabras de `wordlist_2`.\n",
        "  *   `color_wordlist_3 (str)`: *`'#e31a1c'` por defecto*. Valor hexadecimal para colorear e identificar las palabras de `wordlist_3`.\n",
        "  *   `color_wordlist_4 (str)`: *`'#6a3d9a'` por defecto*. Valor hexadecimal para colorear e identificar las palabras de `wordlist_4`.\n",
        "  *   `n_neighbors (int)`: *`0` por defecto*. Número de vecinos de las listas de palabras `wordlist_*` a obtener y graficar en el plano.\n",
        "  * `n_alpha (float)`: *`0.3` por defecto*. Valor alfa (*i.e.* transparencia) en el gráfico de las palabras vecinas calculadas\n",
        "  * `nn_method (str)`: *`'sklearn` por defecto*. Método para obtener las palabras vecinas. Actualmente los metodos posibles son `'sklearn'` y `'ann'`.\n",
        "  *   `fontsize (int)`: *`18` por defecto*. Tamaño de fuente de las palabras en el gráfico.\n",
        "  *   `figsize (Tuple[int, int])`: *`(20, 15)` por defecto*. Tamaño de la figura final resultante.\n",
        "\n",
        "**Salida(s)**:\n",
        "*   `matplotlib.figure.Figure`: Figura del plano con las palabras graficadas.\n",
        "\n",
        "> **Notar**: siempre de base se utiliza el objeto de tipo `Embedding` empleado para la instanciación de esta clase, si el método de obtención de vecinos es distinto al seteado en la creación del objeto `Embedding`, se cargará este nuevo método lo cuál puede llevar un mayor tiempo de obtención de vecinos en la primera ejecución debido a la carga e inicialización del nuevo método."
      ],
      "metadata": {
        "id": "D7H2ivkNWH01"
      }
    },
    {
      "cell_type": "markdown",
      "source": [
        "Veamos un ejemplo con dos listas de palabras (reducimos el tamaño de la figura para encuadrar en esta *Google colab*)."
      ],
      "metadata": {
        "id": "BVjooQOWa8lY"
      }
    },
    {
      "cell_type": "code",
      "source": [
        "lista_pesado = ['gordo', 'gorda']\n",
        "lista_belleza = ['lindo', 'linda']"
      ],
      "metadata": {
        "id": "H7p07RoYbLRu"
      },
      "execution_count": 21,
      "outputs": []
    },
    {
      "cell_type": "code",
      "source": [
        "we.plot_projections_2d(\n",
        "    wordlist_0 = lista_pesado, \n",
        "    wordlist_1 = lista_belleza,\n",
        "    figsize = (10, 10)\n",
        "    )"
      ],
      "metadata": {
        "id": "LXIxdHn7bWra",
        "colab": {
          "base_uri": "https://localhost:8080/",
          "height": 729
        },
        "outputId": "eac98f86-7650-456c-abfe-8ed207194f52"
      },
      "execution_count": 23,
      "outputs": [
        {
          "output_type": "execute_result",
          "data": {
            "text/plain": [
              "<Figure size 720x720 with 1 Axes>"
            ],
            "image/png": "[encoded data removed]"
          },
          "metadata": {},
          "execution_count": 23
        }
      ]
    },
    {
      "cell_type": "markdown",
      "source": [
        "Como vimos con los parametros que acepta este metodo, podemos cambiar el color de las palabras en `lista_pesado`, aumentar el tamaño de la letra y, además ver dos vecinos de las palabras ingresadas."
      ],
      "metadata": {
        "id": "bPAWoHfKbuvf"
      }
    },
    {
      "cell_type": "code",
      "source": [
        "we.plot_projections_2d(\n",
        "    wordlist_0 = lista_pesado, \n",
        "    wordlist_1 = lista_belleza, \n",
        "    color_wordlist_0 = '#fcba03',\n",
        "    fontsize = 25,\n",
        "    n_neighbors = 2,\n",
        "    figsize = (10, 10)\n",
        "    )"
      ],
      "metadata": {
        "id": "jo66uYnrb7j8",
        "colab": {
          "base_uri": "https://localhost:8080/",
          "height": 728
        },
        "outputId": "8c5d5ddd-394c-43bf-dce1-f3db63baf3a7"
      },
      "execution_count": 24,
      "outputs": [
        {
          "output_type": "execute_result",
          "data": {
            "text/plain": [
              "<Figure size 720x720 with 1 Axes>"
            ],
            "image/png": "[encoded data removed]"
          },
          "metadata": {},
          "execution_count": 24
        }
      ]
    },
    {
      "cell_type": "markdown",
      "source": [
        "> <img src=\"https://icons.getbootstrap.com/assets/icons/info-circle-fill.svg\"/> **Notar**: El color de las listas de palabras afecta al color de los vecinos de las palabras dentro de ella para diferenciar su prosedencia.\n",
        "\n",
        "> <big>⚠️</big> **Importante**: Si alguna palabra de las listas no esta presente en el vocabulario del objeto `Embedding` utilizado para la instanciación de la clase se levanta una excepción de error indicando el motivo. Esto tambien sucede si todas las listas de palabras estan vacias\n"
      ],
      "metadata": {
        "id": "Ioiy5nE_cn5f"
      }
    },
    {
      "cell_type": "code",
      "source": [
        "# Palabra fuera de vocabulario (OOV)\n",
        "we.plot_projections_2d(\n",
        "    wordlist_0 = palabras_no_presentes,\n",
        "    figsize = (10, 10)\n",
        ")"
      ],
      "metadata": {
        "id": "uuEZ9Ve9dUxV"
      },
      "execution_count": null,
      "outputs": []
    },
    {
      "cell_type": "code",
      "source": [
        "# Sin palabras a graficar\n",
        "we.plot_projections_2d(\n",
        "    wordlist_0 = [],\n",
        "    figsize = (10, 10)\n",
        ")"
      ],
      "metadata": {
        "id": "dXn2jgamdkAG"
      },
      "execution_count": null,
      "outputs": []
    },
    {
      "cell_type": "markdown",
      "source": [
        "## Sesgo en las palabras"
      ],
      "metadata": {
        "id": "mMizQs6jV6ls"
      }
    },
    {
      "cell_type": "markdown",
      "source": [
        "### Objectivo\n",
        "\n",
        "Muchas palabras cargan consigo sesgos latentes originados de los **grandes volumenes** de ejemplos con los cuales se entrenaron los modelos para calcular las respresentaciones vectoriales de las mismas.\n",
        "\n",
        "Para identificar la presencia de sesgo en una palabra, se deben definir nucleos de significados opuestos con el objetivo de corroborar la presencia del mismo debido a una tendencia injustificada.\n",
        "\n",
        "Por ejemplo, si definimos núcleos de significado opuestos como *femenino* y *masculino*, esperariamos que palabras como *profesora*, *esposa* o *mujer* esten más cercanas al núcleo *femenino*, mientras que palabras como *hombre*, *esposo* o *carpintero* más cerca al núcleo *masculino*; sin embargo , palabras neutras como *astronauta* esperariamos que esten equisdistantes de ambos núcleos por no haber un género predilecto para esta palabra de profesión.\n",
        "\n",
        "Con este ejemplo, queremos dejar en evidencia como las palabras contienen componentes con sesgos latentes (más allá del caracter de género), lo que limita y perjudica la calidad de los modelos de inteligencia artificial y tareas relacionadas al procesamiento del lenguaje natural (PLN)."
      ],
      "metadata": {
        "id": "SdEamam2bqka"
      }
    },
    {
      "cell_type": "markdown",
      "source": [
        "### Clase WordBiasExplorer\n",
        "\n",
        "Esta clase, instanciada a partir de un objeto `Embedding`, es padre de dos subclases de interes a describir. En sí, esta clase contienen métodos de operaciones de vectores basados en la herramienta `Responsibly` donde se cuenta con una [explicación detallada](https://github.com/ResponsiblyAI/responsibly/blob/master/responsibly/we/bias.py) de los mismos, omitidos aquí."
      ],
      "metadata": {
        "id": "YD9mQycwiguV"
      }
    },
    {
      "cell_type": "code",
      "source": [
        "from modules.module_BiasExplorer import WordBiasExplorer"
      ],
      "metadata": {
        "id": "D1e9ZRlzqbvZ"
      },
      "execution_count": 28,
      "outputs": []
    },
    {
      "cell_type": "markdown",
      "source": [
        "Para instanciar un objeto de esta clase, se requieren dos parámetros:\n",
        "\n",
        "*   `embedding (Embedding)`: Objeto de tipo `Embedding` de la cuál obtener el vocabulario disponible junto a la información del mismo como son los embeddings, PCA o vecinos.\n",
        "*   `errorManager (ErrorManager)`: Objeto de tipo `ErrorManager` para los mensajes de error."
      ],
      "metadata": {
        "id": "D3o0qrfaqgp0"
      }
    },
    {
      "cell_type": "code",
      "source": [
        "wbe = WordBiasExplorer(\n",
        "    embedding = emb, \n",
        "    errorManager = errorManager\n",
        ")"
      ],
      "metadata": {
        "id": "PykhxD7Rqhm1"
      },
      "execution_count": 29,
      "outputs": []
    },
    {
      "cell_type": "markdown",
      "source": [
        "#### Método check_oov(...)\n",
        "\n",
        "Verifica que todas las palabras que el usuario ingresa estan presentes en el objeto `Embedding` para la extracción de su información.\n",
        "\n",
        "**Entrada(s)**:\n",
        "*   `wordlists (List[List[str]])`: Lista de listas de palabras a verificar su presencia en el objeto `Embedding` utilizado en la instanciacón actual de la clase `WordExplorer`.\n",
        "\n",
        "**Salida(s)**:\n",
        "*   `None` o `str` con mesaje de error explicitando la palabra fuera de vocabulario."
      ],
      "metadata": {
        "id": "GAW-PZIzkFhq"
      }
    },
    {
      "cell_type": "markdown",
      "source": [
        "Ejemplos analogos a los vistos en la clase `WordExplorer`."
      ],
      "metadata": {
        "id": "DquoDCLWkW-e"
      }
    },
    {
      "cell_type": "markdown",
      "source": [
        "### Clase WEBiasExplorer2Spaces\n",
        "\n",
        "Esta clase hereda de su padre, `WordBiasExplorer`, los métodos requeridos para el cálculo y gráfico de sesgos de palabras frente a dos núcleos de significado (o espacios de significado)."
      ],
      "metadata": {
        "id": "r36tT7q1kc1L"
      }
    },
    {
      "cell_type": "code",
      "source": [
        "from modules.module_BiasExplorer import WEBiasExplorer2Spaces"
      ],
      "metadata": {
        "id": "HI-NPbskqs2s"
      },
      "execution_count": 30,
      "outputs": []
    },
    {
      "cell_type": "markdown",
      "source": [
        "Para instanciar un objeto de esta clase, se requieren dos parámetros:\n",
        "\n",
        "*   `embedding (Embedding)`: Objeto de tipo `Embedding` de la cuál obtener el vocabulario disponible junto a la información del mismo como son los embeddings, PCA o vecinos.\n",
        "*   `errorManager (ErrorManager)`: Objeto de tipo `ErrorManager` para los mensajes de error."
      ],
      "metadata": {
        "id": "P-5_t4PHq0y7"
      }
    },
    {
      "cell_type": "code",
      "source": [
        "wbe_2_nucleos = WEBiasExplorer2Spaces(\n",
        "    embedding = emb, \n",
        "    errorManager = errorManager\n",
        ")"
      ],
      "metadata": {
        "id": "sQhfdAiMq28W"
      },
      "execution_count": 31,
      "outputs": []
    },
    {
      "cell_type": "markdown",
      "source": [
        "#### Método calculate_bias(...)\n",
        "\n",
        "Calcula y grafica mediante barras las distancias de palabras de interes frente a dos núcleos de signficado opuestos para comporbar la presencia de sesgo.\n",
        "\n",
        "Recordar que la presencia y tipo de sesgos depende en gran parte por las palabras con las cuales se define un núcleo de significado y puede requerir un análisis detallado por parte de un experto de dominio para obtener resultados concretos y que expongan de forma clara el sesgo.\n",
        "\n",
        "**Entrada(s)**:\n",
        "*   `wordlist_to_diagnose (List[str])`: Lista de palabras a evaluar la presencia de sesgo frente a dos núcleos de significado.\n",
        "*   `wordlist_right (List[str])`: Lista de palabras que definen un núcleo de significado.\n",
        "*   `wordlist_left (List[str])`: Lista de palabras que definen el otro núcleo de significado (preferentemente opuesto al primero, `wordlist_right`).\n",
        "\n",
        "**Salida(s)**:\n",
        "*   `matplotlib.figure.Figure`: Figura de barra con las palabras y sus distancias de ambos núcleos."
      ],
      "metadata": {
        "id": "eC30XpUtlTFQ"
      }
    },
    {
      "cell_type": "markdown",
      "source": [
        "Probemos esta funcionalidad con el ejemplo dado previamente."
      ],
      "metadata": {
        "id": "EbeCVNNLqPWm"
      }
    },
    {
      "cell_type": "code",
      "source": [
        "palabras_para_evaluar = ['profesora', 'esposa', 'mujer', 'hombre', 'profesor', 'carpintero', 'astronauta']"
      ],
      "metadata": {
        "id": "hoyHc56Yq-Fu"
      },
      "execution_count": 32,
      "outputs": []
    },
    {
      "cell_type": "code",
      "source": [
        "nucleo_femenino = ['femenino', 'ella', 'mujer', 'chica']"
      ],
      "metadata": {
        "id": "ixAxUQCxrdC8"
      },
      "execution_count": 33,
      "outputs": []
    },
    {
      "cell_type": "code",
      "source": [
        "nucleo_masculino= ['masculino', 'el', 'hombre', 'chico']"
      ],
      "metadata": {
        "id": "cH-9pMvZrkbM"
      },
      "execution_count": 34,
      "outputs": []
    },
    {
      "cell_type": "code",
      "source": [
        "wbe_2_nucleos.calculate_bias(\n",
        "    wordlist_to_diagnose = palabras_para_evaluar,\n",
        "    wordlist_right = nucleo_femenino,\n",
        "    wordlist_left = nucleo_masculino\n",
        ")"
      ],
      "metadata": {
        "id": "edXhQlrCrspI",
        "colab": {
          "base_uri": "https://localhost:8080/",
          "height": 729
        },
        "outputId": "3330dec7-b1c8-4e8e-bcb6-58568e53f459"
      },
      "execution_count": 35,
      "outputs": [
        {
          "output_type": "execute_result",
          "data": {
            "text/plain": [
              "<Figure size 720x720 with 1 Axes>"
            ],
            "image/png": "[encoded data removed]"
          },
          "metadata": {},
          "execution_count": 35
        }
      ]
    },
    {
      "cell_type": "markdown",
      "source": [
        "Observamos como la palabra *astronauta* contiene un ligero sesgo en su componente de género al masculino.\n",
        "\n",
        "> <big>⚠️</big> **Importante**: Todas las listas de palabras deben tener al menos una palabra, además, todas las palabras deben estar presentes en el vocabulario y la definición de los núcleos finales no deben ser las mismas, de lo contrario se arrojaran excepciones de error para cada situación."
      ],
      "metadata": {
        "id": "-RdelGTmsO-x"
      }
    },
    {
      "cell_type": "code",
      "source": [
        "# Palabra fuera de vocabulario (OOV)\n",
        "wbe_2_nucleos.calculate_bias(\n",
        "    wordlist_to_diagnose = palabras_no_presentes,\n",
        "    wordlist_right = nucleo_femenino,\n",
        "    wordlist_left = nucleo_masculino\n",
        ")"
      ],
      "metadata": {
        "id": "nFAO8J8gsv7U"
      },
      "execution_count": null,
      "outputs": []
    },
    {
      "cell_type": "code",
      "source": [
        "# Listas vacias\n",
        "wbe_2_nucleos.calculate_bias(\n",
        "    wordlist_to_diagnose = palabras_para_evaluar,\n",
        "    wordlist_right = [],\n",
        "    wordlist_left = nucleo_masculino\n",
        ")"
      ],
      "metadata": {
        "id": "oGgunvo2tARE"
      },
      "execution_count": null,
      "outputs": []
    },
    {
      "cell_type": "code",
      "source": [
        "# Misma definición de núcleos\n",
        "# Palabra fuera de vocabulario (OOV)\n",
        "wbe_2_nucleos.calculate_bias(\n",
        "    wordlist_to_diagnose = palabras_para_evaluar,\n",
        "    wordlist_right = nucleo_femenino,\n",
        "    wordlist_left = nucleo_femenino\n",
        ")"
      ],
      "metadata": {
        "id": "F-yro2wEtJ0I"
      },
      "execution_count": null,
      "outputs": []
    },
    {
      "cell_type": "markdown",
      "source": [
        "### Clase WEBiasExplorer4Spaces\n",
        "\n",
        "Esta clase hereda de su padre, `WordBiasExplorer`, los métodos requeridos y extiende la funcionalidad de la clase `WEBiasExplorer2Spaces` para el cálculo y gráfico de sesgos de palabras frente a cuatro núcleos de significado (o espacios de significado).\n",
        "\n",
        "En cierta ocaciones, es de interés **subdividir** los dos núcleos de significado propuestos en un inicio en busca de **sesgos más concretos o especificos**. Por ejemplo, en nuestra busqueda de palabras sesgadas por el género *femenino* y *masculino* nos podria ser de interés agregar el componente de edades; de esta forma podriamos conocer aquellas palabras con tendencia por los modelos a conciderarse *femenino* y *joven*, *femenino* y *adulto* o los demás casos."
      ],
      "metadata": {
        "id": "lO4u3Rw0x8E-"
      }
    },
    {
      "cell_type": "code",
      "source": [
        "from modules.module_BiasExplorer import WEBiasExplorer4Spaces"
      ],
      "metadata": {
        "id": "6MjumNlA2HmF"
      },
      "execution_count": 39,
      "outputs": []
    },
    {
      "cell_type": "markdown",
      "source": [
        "Para instanciar un objeto de esta clase, se requiere dos parámetros:\n",
        "\n",
        "*   `embedding (Embedding)`: Objeto de tipo `Embedding` de la cuál obtener el vocabulario disponible junto a la información del mismo como son los embeddings, PCA o vecinos.\n",
        "*   `errorManager (ErrorManager)`: Objeto de tipo `ErrorManager` para los mensajes de error."
      ],
      "metadata": {
        "id": "YHDuzlmi2LNg"
      }
    },
    {
      "cell_type": "code",
      "source": [
        "wbe_4_nucleos = WEBiasExplorer4Spaces(\n",
        "    embedding = emb, \n",
        "    errorManager = errorManager\n",
        ")"
      ],
      "metadata": {
        "id": "3LMl4TfG2Os1"
      },
      "execution_count": 40,
      "outputs": []
    },
    {
      "cell_type": "markdown",
      "source": [
        "#### Método calculate_bias(...)\n",
        "\n",
        "Calcula y grafica un plano subdividido en cuatro cuadrantes (representantes de los núcleos) la posición de las palabras y las distancias a considerar frente a cada núcleo individual.\n",
        "\n",
        "Recordar que la presencia y tipo de sesgos depende en gran parte por las palabras con las cuales se define un núcleo de significado y puede requerir un análisis detallado por parte de un experto de dominio para obtener resultados concretos y que expongan de forma clara y real el sesgo.\n",
        "\n",
        "**Entrada(s)**:\n",
        "*   `wordlist_to_diagnose (List[str])`: Lista de palabras a evaluar la presencia de sesgo frente a dos núcleos de significado.\n",
        "*   `wordlist_right (List[str])`: Lista de palabras que definen un núcleo de significado.\n",
        "*   `wordlist_left (List[str])`: Lista de palabras que definen otro núcleo de significado (preferentemente opuesto al primero, `wordlist_right`).\n",
        "*   `wordlist_top (List[str])`: Lista de palabras que definen otro núcleo de significado que **subdivirá** los núcleos definidos enteriormente (`wordlist_right`, `wordlist_left`).\n",
        "*   `wordlist_bottom (List[str])`: Lista de palabras que definen otro núcleo de significado que **subdivide** el espacio (preferentemente opuesto al anterior, `wordlist_top`).\n",
        "\n",
        "**Salida(s)**:\n",
        "*   `matplotlib.figure.Figure`: Figura de plano dividido en cuadrantes y con puntos etiquetados con las palabras dentro de él."
      ],
      "metadata": {
        "id": "n22BGdGozfBI"
      }
    },
    {
      "cell_type": "markdown",
      "source": [
        "Evaluemos el ejemplo dado de dividir la componente de género en edades."
      ],
      "metadata": {
        "id": "cBA5gozy1fqA"
      }
    },
    {
      "cell_type": "code",
      "source": [
        "nucleo_joven = ['joven', 'inmaduro', 'niño', 'crio']\n",
        "nucleo_adulto = ['viejo', 'maduro', 'anciano', 'adulto']"
      ],
      "metadata": {
        "id": "VYwQcgZq1oOT"
      },
      "execution_count": 41,
      "outputs": []
    },
    {
      "cell_type": "code",
      "source": [
        "wbe_4_nucleos.calculate_bias(\n",
        "    wordlist_to_diagnose = palabras_para_evaluar,\n",
        "    wordlist_right = nucleo_femenino,\n",
        "    wordlist_left = nucleo_masculino,\n",
        "    wordlist_top = nucleo_joven,\n",
        "    wordlist_bottom = nucleo_adulto\n",
        "    )"
      ],
      "metadata": {
        "id": "bHeGKZZR2RAT",
        "colab": {
          "base_uri": "https://localhost:8080/",
          "height": 608
        },
        "outputId": "df3fb8c6-e1f4-4aba-f5b5-f3c96934debc"
      },
      "execution_count": 42,
      "outputs": [
        {
          "output_type": "execute_result",
          "data": {
            "text/plain": [
              "<Figure size 720x720 with 1 Axes>"
            ],
            "image/png": "[encoded data removed]"
          },
          "metadata": {},
          "execution_count": 42
        }
      ]
    },
    {
      "cell_type": "markdown",
      "source": [
        "> <big>⚠️</big> **Importante**: Al igual que sucede con `WEBiasExplorer2Spaces`, todas las listas deben contener al menos una palabra, todas las palabras deben estar presentes en el vocabulario del objeto `Embedding` suministrado como parámetro para la instanciación del objeto y la definición de los núcleos de significado no pueden coincidir.\n",
        "\n",
        "Para ejemplos concretos de error, referirse a `WEBiasExplorer2Spaces`."
      ],
      "metadata": {
        "id": "5nakMYz32_-0"
      }
    },
    {
      "cell_type": "markdown",
      "source": [
        "## Exploración de datos"
      ],
      "metadata": {
        "id": "nt3jk_pC7ob2"
      }
    },
    {
      "cell_type": "markdown",
      "source": [
        "### Objetivo\n",
        "\n",
        "Actualmente existen muchos *datasets* de entrenamiento, algunos de ellos muy populares en el área de PLN, sin embargo, sin contar con estrategias claras de mitigación se sesgo ha llevado a que la mayoria cuenten con ejemplos sesgados por el cual modelos resultantes se ven afectados.\n",
        "\n",
        "En este apartado, brindamos funcionalidades que permiten **explorar** datasets, concretamente aquellos con los cuales fue entrenado **BETO** y evidenciar sesgos latentes dentro de ellos.\n",
        "\n",
        "> **Importante**: Actualmente no se cuenta con la funcionalidad de **carga de corpus propios** para la exploración, pero detallaremos la clase `Vocabulary` para dar una idea de la estructura necesaria si se deseara realizar una exploración propia.\n"
      ],
      "metadata": {
        "id": "GL9k5Y0J74IC"
      }
    },
    {
      "cell_type": "markdown",
      "source": [
        "### Clase Vocabulary\n",
        "\n",
        "El rol de esta clase, similar a `Embedding`, es de ser un **núcleo centralizado de información** necesaria para dar soporte a los requerimientos de información de aquellas clases que la requieran.\n",
        "\n",
        "Para cargar esta clase, ejecutamos la siguiente celda."
      ],
      "metadata": {
        "id": "btyO7TE8_y3O"
      }
    },
    {
      "cell_type": "code",
      "source": [
        "from modules.module_vocabulary import Vocabulary"
      ],
      "metadata": {
        "id": "CbQcw-s4A9XQ"
      },
      "execution_count": 43,
      "outputs": []
    },
    {
      "cell_type": "markdown",
      "source": [
        "Actualmente esta clase se carga suministrando el nombre de partición adecuado, todos disponibles en [GitHub](https://github.com/git-lu/notebook_bias_tools#setup-data). Estas particiones se tratan de archivos `.json` comprimidas dentro de un `.zip`. Es así como para instanciar un objeto de esta clase se requiere:\n",
        "*   `subset_name (str)`: Nombre de la partición descargada y presente dentro del directorio `data/`."
      ],
      "metadata": {
        "id": "eTtIr5kV8ZG4"
      }
    },
    {
      "cell_type": "code",
      "source": [
        "vocab = Vocabulary(\n",
        "    subset_name = 'quarter'\n",
        ")"
      ],
      "metadata": {
        "id": "zIhBYW_s87lz",
        "colab": {
          "base_uri": "https://localhost:8080/"
        },
        "outputId": "a2b282b4-b0ed-4558-a7f1-1418b2a691b5"
      },
      "execution_count": 44,
      "outputs": [
        {
          "output_type": "stream",
          "name": "stdout",
          "text": [
            "Preparing quarter vocabulary...\n"
          ]
        }
      ]
    },
    {
      "cell_type": "markdown",
      "source": [
        "De desear realizar una **exploración propia**, se requiere el archivo `.json` adecuado, para ello explicitaremos en las siguientes lineas las columnas y valores esperados:\n",
        "\n",
        "El archivo `.json` se compone de cinco columnas:\n",
        "*   `word`: se asocia un *identificador* (`str`) a cada palabra. De esta forma, toda la información de una palabra se indexa sobre su *identificador*.\n",
        "*   `freq`: se asocia al *identificador* la frequencia total (`int`) de la palabra dentro del(os) corpus propio(s).\n",
        "*   `percentile`: se asocia al *identificador* el percentil (`float`) de la palabra dentro del(os) corpus propio(s). Este valor indica porcentualmente que, en terminos de distribución, está por encima de las demás (*i.e* a mayor percentil, mayor es la probabilidad de ocurrencia de la palabra asociada en el corpus).\n",
        "*   `splits`: Para mayor eficiencia en busqueda sobre corpus de gran volumen ya sean uno o más, aconsejamos particionarlos en bloques (por ejemplo, bloques de 10Mb). Esta columna es un arreglo (`List[str]`) que asigna a cada *identificador* los nombres de bloques donde esta palabra se encuentra.\n",
        "*   `in_subset`: asocia a cada *identificador* un diccionario (`Dict[str, int]`) donde las llaves son los corpus (`str`), y los valores son la frecuencia total dentro del corpus (`int`).\n",
        "\n",
        "> <img src=\"https://icons.getbootstrap.com/assets/icons/info-circle-fill.svg\"/> **Notar**: La suma de todos los valores del diccionario en `in_subset` de un *identificador* debe ser igual a la frecuancia total presente en `freq` para el mismo identificador.\n",
        "\n",
        "\n",
        "```json\n",
        "{\n",
        "  \"word\": {\n",
        "    \"1\": \"Hola\",\n",
        "    [...]\n",
        "  },\n",
        "  \"freq\": {\n",
        "    \"1\": 250000,\n",
        "    [...]\n",
        "  },\n",
        "  \"percentile\": {\n",
        "    \"1\": 0.8845,\n",
        "    [...]\n",
        "  },\n",
        "  \"splits\": {\n",
        "    \"1\": [\"Corpus_1_bloque_4\", \"Corpus_1_bloque_2\", \"Corpus_8_bloque_2\"],\n",
        "    [...]\n",
        "  },\n",
        "  \"in_subset\": {\n",
        "    \"1\": {\n",
        "      \"Corpus_1\": 150000,\n",
        "      \"Corpus_8\": 100000\n",
        "    },\n",
        "    [...]\n",
        "  }\n",
        "}\n",
        "```"
      ],
      "metadata": {
        "id": "c8c4ozHcBD9e"
      }
    },
    {
      "cell_type": "markdown",
      "source": [
        "### Clase Word2Context\n",
        "\n",
        "Esta clase cuenta con las funcionalidades previstas para la exploración de las palabras dentro del curpus. Podemos conocer frecuencias de las palabras, obtener graficos de nube o de distribución e incluso obtener contextos de una palabra dada para evaluar la presencia de sesgo."
      ],
      "metadata": {
        "id": "ofI_CRDWMSeT"
      }
    },
    {
      "cell_type": "code",
      "source": [
        "from modules.module_word2Context import Word2Context"
      ],
      "metadata": {
        "id": "MtzSiK1xM-A2"
      },
      "execution_count": 45,
      "outputs": []
    },
    {
      "cell_type": "markdown",
      "source": [
        "Esta clase es de ayuda en ocaciones donde nuestra exploración de palabras y sus sesgos exponen comportamientos extraños, como podria ser la presencia de palabras \"*raras*\" vecinas, aquí la exploración de los contextos de las palabras, tanto la evaluada como la \"*rara*\", nos es de ayuda a entender el suceso presente.\n",
        "\n",
        "Para instanciar esta clase se requiere:\n",
        "*   `context_ds_name (str)`: nombre del dataset cargado en HuggingFace🤗.\n",
        "*   `vocabulary (Vocabulary)`: Objeto de tipo `Vocabulary` del cuál extraer la información requerida. Define el vocabulario disponible para el usuario.\n",
        "*   `errorManager (ErrorManager)`: Objeto de tipo `ErrorManager` para los mensajes de error.\n",
        "\n"
      ],
      "metadata": {
        "id": "kxTQ1CpKNAwK"
      }
    },
    {
      "cell_type": "code",
      "source": [
        "w2c = Word2Context(\n",
        "    context_ds_name = 'vialibre/splittedspanish3bwc', \n",
        "    vocabulary = vocab, \n",
        "    errorManager = errorManager\n",
        ")"
      ],
      "metadata": {
        "id": "KZV9ZwVBQTFW"
      },
      "execution_count": 46,
      "outputs": []
    },
    {
      "cell_type": "markdown",
      "source": [
        "> <big>⚠️</big> **Importante**: Para una **exploración propia**, actualmente los bloques generados de los corpus deben cargarse como un **dataset a la plataforma HuggingFace🤗**. Deben encontrarse dentro de una carpeta `data/` la cuál a su vez debe contener un directorio por corpus con su nombre correspondiente dentro del cuál se encuentran los bloques definidos. [Aquí](https://huggingface.co/datasets/vialibre/splittedspanish3bwc) dejamos un ejemplo."
      ],
      "metadata": {
        "id": "pUj_gv4-AznA"
      }
    },
    {
      "cell_type": "markdown",
      "source": [
        "#### Método errorChecking(...)\n",
        "\n",
        "Verifica que la palabra que el usuario ingresa esta presente en el objeto `Vocabulary` para la extracción de su información.\n",
        "\n",
        "**Entrada(s)**:\n",
        "*   `word (str)`: palabra a verificar su presencia en el objeto `Vocabulary` utilizado en la instanciacón actual de la clase `Word2Context`.\n",
        "\n",
        "**Salida(s)**:\n",
        "*   `str` con mesaje de error explicitando la palabra fuera de vocabulario, o vacio si la palabra se encuentra presente."
      ],
      "metadata": {
        "id": "Jp9IINBeQeiN"
      }
    },
    {
      "cell_type": "code",
      "source": [
        "# Palabra presente en vocabulario\n",
        "w2c.errorChecking(\n",
        "    word = 'mujer'\n",
        ")"
      ],
      "metadata": {
        "id": "kJR7lracRMN0",
        "colab": {
          "base_uri": "https://localhost:8080/",
          "height": 35
        },
        "outputId": "e6f6af4f-ea73-4fd1-f89d-e24954c7fcf6"
      },
      "execution_count": 47,
      "outputs": [
        {
          "output_type": "execute_result",
          "data": {
            "text/plain": [
              "''"
            ],
            "application/vnd.google.colaboratory.intrinsic+json": {
              "type": "string"
            }
          },
          "metadata": {},
          "execution_count": 47
        }
      ]
    },
    {
      "cell_type": "code",
      "source": [
        "# Palabra fuera de vocabulario (OOV)\n",
        "w2c.errorChecking(\n",
        "    word = 'falafel'\n",
        ")"
      ],
      "metadata": {
        "id": "jD_SP6EhRV0J",
        "colab": {
          "base_uri": "https://localhost:8080/",
          "height": 35
        },
        "outputId": "b187e0f0-081b-47a3-a153-6f696c335390"
      },
      "execution_count": 48,
      "outputs": [
        {
          "output_type": "execute_result",
          "data": {
            "text/plain": [
              "\"Error: La palabra '<b>falafel</b>' no se encuentra en el vocabulario!\""
            ],
            "application/vnd.google.colaboratory.intrinsic+json": {
              "type": "string"
            }
          },
          "metadata": {},
          "execution_count": 48
        }
      ]
    },
    {
      "cell_type": "markdown",
      "source": [
        "Las funciones de interes siempre realizan este chequeo previo, de esta forma no hay una necesidad explicita por parte del usuario de instaciarlo en todas las iteraciones."
      ],
      "metadata": {
        "id": "v5kKa-lRRY9Q"
      }
    },
    {
      "cell_type": "markdown",
      "source": [
        "#### Método genWordCloudPlot(...)\n",
        "\n",
        "Genera un [gráfico de nube](https://es.wikipedia.org/wiki/Nube_de_palabras) con la palabra brindada por el usuario y otras asociadas; estas palabras son los diez primeras inmediatamente con mayor frecuencia total y las diez con menor frecuencia total por debjo de la palabra suministrada. \n",
        "\n",
        "**Entrada(s)**:\n",
        "*   `word (str)`: palabra central para la obtención de sus vecinas y generar el gráfico de nube.\n",
        "*   `figsize (Tuple[int, int])`: *`(9, 3)` por defecto*. Tamaño de la figura final resultante.\n",
        "\n",
        "**Salida(s)**:\n",
        "*   `matplotlib.figure.Figure`: Figura de la nube de palabras. Las diez con frencuencia superor a `word` son coloreadas en gris, las diez con frecuencia menor en celeste, y la de interés en naranja."
      ],
      "metadata": {
        "id": "JnFTqScZRjRb"
      }
    },
    {
      "cell_type": "code",
      "source": [
        "w2c.genWordCloudPlot(\n",
        "    word = 'mujer'\n",
        ")"
      ],
      "metadata": {
        "id": "-36dcC3CUsvV",
        "colab": {
          "base_uri": "https://localhost:8080/",
          "height": 225
        },
        "outputId": "904e9240-9ed1-4fce-ccde-e318fc9b2563"
      },
      "execution_count": 49,
      "outputs": [
        {
          "output_type": "execute_result",
          "data": {
            "text/plain": [
              "<Figure size 648x216 with 1 Axes>"
            ],
            "image/png": "[encoded data removed]"
          },
          "metadata": {},
          "execution_count": 49
        }
      ]
    },
    {
      "cell_type": "markdown",
      "source": [
        "#### Método genDistributionPlot(...)\n",
        "\n",
        "Genera un **gráfico de distribucion** de las palabras utilizando los percentiles, resaltando la brindada por el usuario.\n",
        "\n",
        "**Entrada(s)**:\n",
        "*   `word (str)`: palabra brindada por el usuario a resaltar en el gráfico.\n",
        "*   `figsize (Tuple[int, int])`: *`(6, 1)` por defecto*. Tamaño de la figura final resultante.\n",
        "\n",
        "**Salida(s)**:\n",
        "*   `matplotlib.figure.Figure`: Figura de la distribución de las palabras."
      ],
      "metadata": {
        "id": "64X5GjmqTKoe"
      }
    },
    {
      "cell_type": "code",
      "source": [
        "w2c.genDistributionPlot(\n",
        "    word = 'mujer', \n",
        "    figsize = (15, 4)\n",
        ")"
      ],
      "metadata": {
        "id": "jWbeC80fUUbJ",
        "colab": {
          "base_uri": "https://localhost:8080/",
          "height": 248
        },
        "outputId": "49779cea-7aab-41b8-c587-936858d18d8d"
      },
      "execution_count": 50,
      "outputs": [
        {
          "output_type": "execute_result",
          "data": {
            "text/plain": [
              "<Figure size 1080x288 with 1 Axes>"
            ],
            "image/png": "[encoded data removed]"
          },
          "metadata": {},
          "execution_count": 50
        }
      ]
    },
    {
      "cell_type": "markdown",
      "source": [
        "#### Método getSubsetsInfo(...)\n",
        "\n",
        "Genera un diccionario con los corpus donde la palabra brindada esta presente junto a su frecuencia total y el percentil.\n",
        "\n",
        "Este diccionario tiene como llave un `str` el cual se compone del nombre del corpus seguido de la frecuencia, y como valor el percentil de la palabra dentro del corpus (`float`). (Ejemplo, `{'Corpus_1 (25000)': 0.08235}`\n",
        "\n",
        "**Entrada(s)**:\n",
        "*   `word (str)`: palabra brindada por el usuario para extraer información del objeto `Vocabulary`.\n",
        "\n",
        "**Salida(s)**:\n",
        "*   `Tuple[str, Dict[str, float]]` el primer componente de la tupla es codigo HTML para la visualización en HuggingFace🤗, se tratan de las barras de frecuencia por conjunto. La salida de interés es la segunda que contiene el diccionario previamente descripto."
      ],
      "metadata": {
        "id": "Aa16YMtWVdf1"
      }
    },
    {
      "cell_type": "code",
      "source": [
        "_, so = w2c.getSubsetsInfo(\n",
        "    word = 'mujer'\n",
        ")\n",
        "\n",
        "so"
      ],
      "metadata": {
        "id": "KyvDXgkbWq4k",
        "colab": {
          "base_uri": "https://localhost:8080/"
        },
        "outputId": "54737ca7-c117-49f3-dcdb-360ae2bb1951"
      },
      "execution_count": 51,
      "outputs": [
        {
          "output_type": "execute_result",
          "data": {
            "text/plain": [
              "{'OpenSubtitles2018 (634802)': 0.5784895165053073,\n",
              " 'multiUN (242211)': 0.2207247681675026,\n",
              " 'allwikis (120547)': 0.10985342791321591,\n",
              " 'ParaCrawl (60716)': 0.05532996034060422,\n",
              " 'EUBookShop (18460)': 0.016822436719934677,\n",
              " 'GlobalVoices (5977)': 0.005446787880555232,\n",
              " 'Europarl (5733)': 0.005224432812317742,\n",
              " 'DOGC (4198)': 0.0038256007232007464,\n",
              " 'UN (1841)': 0.0016776872156771259,\n",
              " 'TED (704)': 0.0006415490493409541,\n",
              " 'EMEA (697)': 0.0006351700104980754,\n",
              " 'JRC (523)': 0.0004766053306893736,\n",
              " 'NewsCommentary11 (419)': 0.00038183103930945994,\n",
              " 'DGT (401)': 0.0003654277965706287,\n",
              " 'ECB (115)': 0.00010479849527586609}"
            ]
          },
          "metadata": {},
          "execution_count": 51
        }
      ]
    },
    {
      "cell_type": "markdown",
      "source": [
        "Este método esta fuertemente relacionado con el siguiente, pues nos dá a conocer los corpus en los cuales la palabra `word` esta presente."
      ],
      "metadata": {
        "id": "Srczk_7JZ8cC"
      }
    },
    {
      "cell_type": "markdown",
      "source": [
        "#### Método findSplits(...)\n",
        "\n",
        "Genera un arreglo a partir de los corpus dados para la busqueda de contextos.\n",
        "\n",
        "**Entrada(s)**:\n",
        "*   `word (str)`: palabra brindada por el usuario para extraer información del objeto `Vocabulary`.\n",
        "*   `subsets_list (List[str])`: Lista de nombre de corpus elegidos por el usuario para poder recuperar pequeños bloques aleatorios, que contengan la palabra de interés buscada, `word`. Tales nombres, son tomados del diccionario generado por `getSubsetsInfo(...)`\n",
        "\n",
        "\n",
        "**Salida(s)**:\n",
        "*   `datasets.iterable_dataset.IterableDataset`, cada componente de este objeto es un bloque tomado aleatoriamente para representar al corpus suministrado en `subsets_list`. Estructura es requerida para la busqueda de contextos. "
      ],
      "metadata": {
        "id": "rJN0HFY_aE5x"
      }
    },
    {
      "cell_type": "code",
      "source": [
        "ds = w2c.findSplits(\n",
        "    word = 'mujer',\n",
        "    subsets_list = ['OpenSubtitles2018', 'multiUN']\n",
        ")"
      ],
      "metadata": {
        "id": "PXfUr87fcWpv",
        "colab": {
          "base_uri": "https://localhost:8080/",
          "height": 81,
          "referenced_widgets": [
            "3df4a9ec28f04e48924886ae7712cac6",
            "ec1b1e2207614823b8f4396953d2c3c2",
            "d5e72038be3b4a1082b25e8adcdd9ac1",
            "a8fc3f38d011445082a79ade193d9ec6",
            "0001e28171e7496581b0156ace33c31f",
            "42e011932b374a28b751e72db19bbf0d",
            "a6b1e358d33146748fdbadfe4a87c4a7",
            "65388ee3d2534fd295badf43fa9e4817",
            "bf9f778d20ce413288cbcad0dbe2dc40",
            "d02e826589324e4683f96d93157e2799",
            "5ac947bd93a2485a9119aa19c9d3201f",
            "e2e5b39b138a41fb88c8560f461e3e10",
            "5d189e2c420a459b88653551d6ac6af3",
            "bf9e561f52144efba80ccf75d3a18d00",
            "0652b99eb57b43e589a6ff8edeb2aae6",
            "f658c111009b443c96a488c247e238b6",
            "c15a0fb783914182ba696181b55aa19d",
            "e5b69dc3f50e4a7db37dcb6189773ff9",
            "6c813dc892444038aab3f74596fb23ee",
            "0e1c72602f7d4386abf978d22b487da0",
            "afa2e343ebe04a018c3933c2b127135b",
            "6c1545dddcf34eec8679769ff98517a5"
          ]
        },
        "outputId": "cd348584-5ba5-4d7e-c83c-924af3c78444"
      },
      "execution_count": 52,
      "outputs": [
        {
          "output_type": "display_data",
          "data": {
            "text/plain": [
              "Downloading builder script:   0%|          | 0.00/152k [00:00<?, ?B/s]"
            ],
            "application/vnd.jupyter.widget-view+json": {
              "version_major": 2,
              "version_minor": 0,
              "model_id": "3df4a9ec28f04e48924886ae7712cac6"
            }
          },
          "metadata": {}
        },
        {
          "output_type": "display_data",
          "data": {
            "text/plain": [
              "Downloading readme:   0%|          | 0.00/3.00k [00:00<?, ?B/s]"
            ],
            "application/vnd.jupyter.widget-view+json": {
              "version_major": 2,
              "version_minor": 0,
              "model_id": "e2e5b39b138a41fb88c8560f461e3e10"
            }
          },
          "metadata": {}
        }
      ]
    },
    {
      "cell_type": "markdown",
      "source": [
        "> <big>⚠️</big> **Importante**: Se omiten aquellos corpus donde la palabra no esta presente."
      ],
      "metadata": {
        "id": "64OycfXKcpL_"
      }
    },
    {
      "cell_type": "code",
      "source": [
        "w2c.findSplits(\n",
        "    word = 'mujer', \n",
        "    subsets_list = ['OpenSubtitles2018', 'multiUN', 'corpusImaginario']\n",
        ")"
      ],
      "metadata": {
        "id": "dAiUjrazctF2"
      },
      "execution_count": null,
      "outputs": []
    },
    {
      "cell_type": "markdown",
      "source": [
        "#### Método getContexts(...)\n",
        "\n",
        "Genera un arreglo con los contextos aleatorios encontrados de una palabra.\n",
        "\n",
        "**Entrada(s)**:\n",
        "*   `word (str)`: palabra brindada por el usuario para buscar contextos. Presente en `Vocabulary`.\n",
        "*   `n_context (int)`: Número de contextos máximo a retornar.\n",
        "*   `ds (datasets.iterable_dataset.IterableDataset)`: Estructura de bloques  representantes de los corpus. Tipicamente obtenido al llamar el método `fndSplits(...)`.\n",
        "\n",
        "**Salida(s)**:\n",
        "*   `List[Tuple(int, str, str)]` Lista de contextos identificados por un entero (`int`), seguido del contexto (`str`) y corpus origen del mismo (`str`)"
      ],
      "metadata": {
        "id": "xMlS_cpqc4VC"
      }
    },
    {
      "cell_type": "code",
      "source": [
        "contextos = w2c.getContexts(\n",
        "    word = 'mujer', \n",
        "    n_context = 10, \n",
        "    ds = ds\n",
        ")\n",
        "\n",
        "contextos"
      ],
      "metadata": {
        "id": "3DMNbX5id01V",
        "colab": {
          "base_uri": "https://localhost:8080/"
        },
        "outputId": "91a6ad0b-c196-425a-d5ef-8c7fe6d72b5f"
      },
      "execution_count": 55,
      "outputs": [
        {
          "output_type": "execute_result",
          "data": {
            "text/plain": [
              "[(0,\n",
              "  'a) adopte medidas eficaces para cumplir la recomendación general nº 19 sobre la violencia contra la <u><b>mujer</b></u> del comité para la eliminación de la discriminación contra la mujer;',\n",
              "  'multiUN_53'),\n",
              " (1,\n",
              "  'b) la evaluación del representante especial de que se han registrado ciertas mejoras en ámbitos tales como, entre otros, la educación para la <u><b>mujer</b></u>;',\n",
              "  'multiUN_53'),\n",
              " (2,\n",
              "  'lo mismo que el comité para la eliminación de la discriminación contra la <u><b>mujer</b></u> y que el comité de derechos humanos, el comité expresa preocupación por la violencia que se ejerce contra la mujer, en particular la violencia doméstica, y por que dicha violencia repercute perniciosamente en los niños.',\n",
              "  'multiUN_53'),\n",
              " (3,\n",
              "  'reconociendo la necesidad de que la <u><b>mujer</b></u> esté más presente y participe más en el proceso de paz,',\n",
              "  'multiUN_53'),\n",
              " (4,\n",
              "  'consciente de que la república democrática del congo es parte en el pacto internacional de derechos civiles y políticos34, el pacto internacional de derechos económicos, sociales y culturales34, la convención contra la tortura y otros tratos o penas crueles, inhumanos o degradantes, la convención sobre la eliminación de todas las formas de discriminación contra la <u><b>mujer</b></u>, la convención internacional sobre la eliminación de todas las formas de discriminación racial, la convención sobre los derechos del niño los convenios de ginebra de 12 de agosto de 1949 relativos a la protección de las víctimas de los conflictos armados, y el primer protocolo adicional de éstos, de 1977, así como en la carta africana de derechos humanos y de los pueblos,',\n",
              "  'multiUN_53'),\n",
              " (5,\n",
              "  'deplora que se sigan conculcando los derechos humanos de la <u><b>mujer</b></u>, especialmente la mujer desplazada en el interior del país o que pertenece a minorías étnicas o a la oposición política, en particular los trabajos forzosos, la trata y la violencia y explotación sexuales, incluidas las violaciones;',\n",
              "  'multiUN_53'),\n",
              " (6,\n",
              "  'c) firme y ratifique la convención sobre la eliminación de todas las formas de discriminación contra la <u><b>mujer</b></u>;',\n",
              "  'multiUN_53'),\n",
              " (7,\n",
              "  'pese a que existen varios comités estatales que se ocupan de cuestiones relacionadas con los niños (por ejemplo, el comité de asuntos de la <u><b>mujer</b></u> y el comité de asuntos de las minorías), se sigue careciendo de coordinación administrativa y cooperación a nivel de gobierno nacional y local.',\n",
              "  'multiUN_53'),\n",
              " (8,\n",
              "  'insta encarecidamente al gobierno de myanmar a que ponga plenamente en práctica las recomendaciones formuladas por el comité para la eliminación de la discriminación contra la <u><b>mujer</b></u>, en particular la de que someta a juicio y sancione a quienes infringen los derechos humanos de la mujer, y a que imparta enseñanza sobre los derechos humanos y capacitación para que se cobre conciencia de las cuestiones de género, en particular al personal militar;',\n",
              "  'multiUN_53'),\n",
              " (9,\n",
              "  'consciente de que la república democrática del congo es parte en el pacto internacional de derechos civiles y políticos, el pacto internacional de derechos económicos, sociales y culturales, la convención contra la tortura y otros tratos o penas crueles, inhumanos o degradantes, la convención sobre la eliminación de todas las formas de discriminación contra la <u><b>mujer</b></u>, la convención internacional sobre la eliminación de todas las formas de discriminación racial, la convención sobre los derechos del niño los convenios de ginebra de 12 de agosto de 1949 relativos a la protección de las víctimas de los conflictos armados, y el primer protocolo adicional de éstos, de 1977, así como en la carta africana de derechos humanos y de los pueblos,',\n",
              "  'multiUN_53')]"
            ]
          },
          "metadata": {},
          "execution_count": 55
        }
      ]
    },
    {
      "cell_type": "markdown",
      "source": [
        "> <img src=\"https://icons.getbootstrap.com/assets/icons/info-circle-fill.svg\"/> **Notar**: la ejecución iterativa retorna resultados distintos por tratarse de una busqueda aleatoria. Además, debido a esta aleatoriedad los contextos encontrados puede ser **menor** a lo estipulado en el parámetro `n_context`.\n",
        "\n",
        "Podemos procesar el resultado anterior para observar únicamente los contextos de la palabra *mujer* y eliminar las etiquetas de HTML."
      ],
      "metadata": {
        "id": "FoPgcJKAd-7e"
      }
    },
    {
      "cell_type": "code",
      "source": [
        "contextos_procesados = [contexto[1].replace('<u><b>', '').replace('</b></u>', '') for contexto in contextos]\n",
        "contextos_procesados"
      ],
      "metadata": {
        "id": "aLPdy8NmeYrH",
        "colab": {
          "base_uri": "https://localhost:8080/"
        },
        "outputId": "424201ea-43aa-4fbf-e26d-3fa0cde87e13"
      },
      "execution_count": 56,
      "outputs": [
        {
          "output_type": "execute_result",
          "data": {
            "text/plain": [
              "['a) adopte medidas eficaces para cumplir la recomendación general nº 19 sobre la violencia contra la mujer del comité para la eliminación de la discriminación contra la mujer;',\n",
              " 'b) la evaluación del representante especial de que se han registrado ciertas mejoras en ámbitos tales como, entre otros, la educación para la mujer;',\n",
              " 'lo mismo que el comité para la eliminación de la discriminación contra la mujer y que el comité de derechos humanos, el comité expresa preocupación por la violencia que se ejerce contra la mujer, en particular la violencia doméstica, y por que dicha violencia repercute perniciosamente en los niños.',\n",
              " 'reconociendo la necesidad de que la mujer esté más presente y participe más en el proceso de paz,',\n",
              " 'consciente de que la república democrática del congo es parte en el pacto internacional de derechos civiles y políticos34, el pacto internacional de derechos económicos, sociales y culturales34, la convención contra la tortura y otros tratos o penas crueles, inhumanos o degradantes, la convención sobre la eliminación de todas las formas de discriminación contra la mujer, la convención internacional sobre la eliminación de todas las formas de discriminación racial, la convención sobre los derechos del niño los convenios de ginebra de 12 de agosto de 1949 relativos a la protección de las víctimas de los conflictos armados, y el primer protocolo adicional de éstos, de 1977, así como en la carta africana de derechos humanos y de los pueblos,',\n",
              " 'deplora que se sigan conculcando los derechos humanos de la mujer, especialmente la mujer desplazada en el interior del país o que pertenece a minorías étnicas o a la oposición política, en particular los trabajos forzosos, la trata y la violencia y explotación sexuales, incluidas las violaciones;',\n",
              " 'c) firme y ratifique la convención sobre la eliminación de todas las formas de discriminación contra la mujer;',\n",
              " 'pese a que existen varios comités estatales que se ocupan de cuestiones relacionadas con los niños (por ejemplo, el comité de asuntos de la mujer y el comité de asuntos de las minorías), se sigue careciendo de coordinación administrativa y cooperación a nivel de gobierno nacional y local.',\n",
              " 'insta encarecidamente al gobierno de myanmar a que ponga plenamente en práctica las recomendaciones formuladas por el comité para la eliminación de la discriminación contra la mujer, en particular la de que someta a juicio y sancione a quienes infringen los derechos humanos de la mujer, y a que imparta enseñanza sobre los derechos humanos y capacitación para que se cobre conciencia de las cuestiones de género, en particular al personal militar;',\n",
              " 'consciente de que la república democrática del congo es parte en el pacto internacional de derechos civiles y políticos, el pacto internacional de derechos económicos, sociales y culturales, la convención contra la tortura y otros tratos o penas crueles, inhumanos o degradantes, la convención sobre la eliminación de todas las formas de discriminación contra la mujer, la convención internacional sobre la eliminación de todas las formas de discriminación racial, la convención sobre los derechos del niño los convenios de ginebra de 12 de agosto de 1949 relativos a la protección de las víctimas de los conflictos armados, y el primer protocolo adicional de éstos, de 1977, así como en la carta africana de derechos humanos y de los pueblos,']"
            ]
          },
          "metadata": {},
          "execution_count": 56
        }
      ]
    },
    {
      "cell_type": "markdown",
      "source": [
        "## Exploración de sesgos en frases"
      ],
      "metadata": {
        "id": "OsplHNluSxTH"
      }
    },
    {
      "cell_type": "markdown",
      "source": [
        "### Objetivo\n",
        "\n",
        "El sesgo presente en las oraciones o frases es el que generalmente solemos identificar con mayor facilidad en textos, por el contexto mismo en el que estan inmersos. Conmunmente, estas frases sesgadas presentan componentes como son un **objetivo**, ya sea *individual* o *colectivo*, y una **propiedad** asiganda a dicho objetivo.\n",
        "\n",
        "Actualmente, muchos modelos de lenguaje pre-entrenados en grandes volumenes de datos se ven sesgados por la presencia de estos ejemplos negativos, lo cuál interfiere en su aprendizaje. Este último no puede ser evaluado analíticamente como con las palabras, pero si es posible un análisis en base a preferencias de los modelos. De esta forma podemos evaluar la **tendencia de los modelos de lenguaje de generar lenguaje sesgado**."
      ],
      "metadata": {
        "id": "zaAG7swSS48c"
      }
    },
    {
      "cell_type": "markdown",
      "source": [
        "### Clase LanguageModel\n",
        "\n",
        "Esta clase es sencilla y se encarga de descargar y cargar el modelo de lenguaje deseado disponible en HuggingFace🤗.\n",
        "\n",
        "Estos modelos son requeridos para la instanciación de las siguientes clases para obtener el modelo en sí y su `tokenizer`."
      ],
      "metadata": {
        "id": "iRKPKNxg_ROs"
      }
    },
    {
      "cell_type": "code",
      "source": [
        "from modules.module_languageModel import LanguageModel"
      ],
      "metadata": {
        "id": "w32mgIfZ_SAZ"
      },
      "execution_count": 57,
      "outputs": []
    },
    {
      "cell_type": "markdown",
      "source": [
        "\n",
        "\n",
        "Para instanciar un objeto de esta clase, solo se requiere de:\n",
        "*   `model_name (str)`: Nombre del modelo pre-entrenado basado en **BERT** disponible en la plataforma de [HuggingFace🤗](https://huggingface.co/models?sort=downloads&search=bert).\n",
        "\n",
        "> Es posible la utilización de modelos **no** basados en **BERT**, pero estos deben poder ser cargados mediante la clase de HuggingFace🤗 `AutoModelForMaskedLM` y método `from_pretrained(...)`.\n",
        "\n",
        "Cargemos para la utilización y evaluación de las proximas clases el modelo **BETO**."
      ],
      "metadata": {
        "id": "rAojV8639NJg"
      }
    },
    {
      "cell_type": "code",
      "source": [
        "beto_lm = LanguageModel(\n",
        "    model_name = 'dccuchile/bert-base-spanish-wwm-uncased'\n",
        ")"
      ],
      "metadata": {
        "id": "aB2kDtVT_MZw",
        "colab": {
          "base_uri": "https://localhost:8080/",
          "height": 226,
          "referenced_widgets": [
            "069b3167a7334df9a80934b78c1019c8",
            "29e99cb9b250432ca9c818936eb30439",
            "69bbdeddd8fc4cad8cd7b0c891865e75",
            "f774573124894d91b56ea478c3210907",
            "27fd7b89762f43e3b9efdc4153db4af6",
            "fc24d661864d44349416dcd7e7bc88da",
            "598b9e1f0c4649889474f19fdb69ef33",
            "156d289e5bdc4d5dbe34151f55626dca",
            "aeb9fff8cf9f47bfb9d944b083f4e3fa",
            "43e9885c0fd749d388c570bfec234321",
            "3fb28537c756417f834e7ec4a5094a7d",
            "e345cff6a08448f198da19bf2d04f828",
            "4483e4fb35db442c93cd4dd05edf83a4",
            "5fa2421e260847bd9d4848b57e8ce3ec",
            "70074c72566a469bbea42e24a3ef8598",
            "545421de353f4b9ebec2e3c1b2c13cab",
            "b63c50ccaf27469797016b8843c98bd0",
            "f6db3cd955d74b6a9f4123d5c2e1b76a",
            "a34e64e877b04ef4ace058fbfeea5683",
            "2eca69cc757f4434adbdda5d387e7c41",
            "36dd1b4aedf743468ef38b34ef8a1e95",
            "172fe6b3df484070be3b4f638fa2411e",
            "774ff5ba16f9400ab2f4d03ceb0aa3a0",
            "7501d55930c04177aa7d1e922b1b7af2",
            "e59e69293ab34a93b149dfb17d584c61",
            "e9487e2bad544d11828ad7f5acd9c3dd",
            "6381438ba63d434eb985b80e6c4ebca2",
            "d3c44fa68f794b748ba4abb71f62f841",
            "9c8c1aa02e144e0889000a78f2492545",
            "2787c0bb97bf4cf48551c9095d993c96",
            "979b567f794b41e7b5c17313c2576341",
            "e30ec52785a549b0bc9c47e50bbe871d",
            "e2e4dbc22d2641ee8ece275028239bfe",
            "00848080e9314d3f90b6b9d87fa8caf8",
            "691c9665105145e0b0c1925c5ae49cff",
            "72880d88ba794ce9bbbbd85cd5e204d5",
            "25b4d19d6ae64914935852150551bce7",
            "180b8158252844cbacad65fccf58288a",
            "a28c3f4fcbab4de0b565e7a1c4666ecd",
            "8e2f54972e414946b2031d7d8d6940af",
            "c3c2ee54f8534ac7bc4b0267e79c86b7",
            "feef08b4a3c846b39484ec5f139f1043",
            "292361843de24bb5bc17cf3ca6d16e24",
            "bdb2ba90c9ba4229884973b376cd5910",
            "c29e142076944ef2b02c2e1fb7710325",
            "9141c1b2f3444638a795b460d72542f9",
            "ca27c80ffa1d40108cae7504386c05a6",
            "c56af19ec98d4c00a44e7fa849ea563c",
            "947a0f5c17624184b2ae8c71b985aabb",
            "377e3ead05c94845960f2364556462e8",
            "945322d8d3424987b5e3c07a6d203986",
            "55f139008e0a4a398c0c125ad65da974",
            "e79ce655155943a7bf7f3265f5897d15",
            "c3c051f4f7cf45a98354e7532b180ce5",
            "ff1b1d389e3540e1aa161fd7923eb5b5",
            "8426d81109464c98ab144e99e23f91f6",
            "b6df575f11e64e32a762afc14002bd8b",
            "97fb0333d61949468642928a90a2b3fe",
            "b11b8250653440f89b27afc1925a99bb",
            "4f1d5305537e409aa4835ad29c4c0c4e",
            "b1020b8769174139a12cfba84efbeb12",
            "213ef0ed1dd84588b2b9d7759f2e44cf",
            "d4eb2a0b07c04baaa92014ddd5f76f4f",
            "e5fecd5d92fa4d4698763f30c1d4fb5f",
            "1ed33af4779747ada46c290ed649f324",
            "665bd616f8ae44ec9533e15d89fea257"
          ]
        },
        "outputId": "1bd2c123-04c7-4730-bdd7-334365a4eee9"
      },
      "execution_count": 58,
      "outputs": [
        {
          "output_type": "stream",
          "name": "stdout",
          "text": [
            "Downloading language model...\n"
          ]
        },
        {
          "output_type": "display_data",
          "data": {
            "text/plain": [
              "Downloading (…)okenizer_config.json:   0%|          | 0.00/310 [00:00<?, ?B/s]"
            ],
            "application/vnd.jupyter.widget-view+json": {
              "version_major": 2,
              "version_minor": 0,
              "model_id": "069b3167a7334df9a80934b78c1019c8"
            }
          },
          "metadata": {}
        },
        {
          "output_type": "display_data",
          "data": {
            "text/plain": [
              "Downloading (…)lve/main/config.json:   0%|          | 0.00/650 [00:00<?, ?B/s]"
            ],
            "application/vnd.jupyter.widget-view+json": {
              "version_major": 2,
              "version_minor": 0,
              "model_id": "e345cff6a08448f198da19bf2d04f828"
            }
          },
          "metadata": {}
        },
        {
          "output_type": "display_data",
          "data": {
            "text/plain": [
              "Downloading (…)solve/main/vocab.txt:   0%|          | 0.00/248k [00:00<?, ?B/s]"
            ],
            "application/vnd.jupyter.widget-view+json": {
              "version_major": 2,
              "version_minor": 0,
              "model_id": "774ff5ba16f9400ab2f4d03ceb0aa3a0"
            }
          },
          "metadata": {}
        },
        {
          "output_type": "display_data",
          "data": {
            "text/plain": [
              "Downloading (…)/main/tokenizer.json:   0%|          | 0.00/486k [00:00<?, ?B/s]"
            ],
            "application/vnd.jupyter.widget-view+json": {
              "version_major": 2,
              "version_minor": 0,
              "model_id": "00848080e9314d3f90b6b9d87fa8caf8"
            }
          },
          "metadata": {}
        },
        {
          "output_type": "display_data",
          "data": {
            "text/plain": [
              "Downloading (…)cial_tokens_map.json:   0%|          | 0.00/134 [00:00<?, ?B/s]"
            ],
            "application/vnd.jupyter.widget-view+json": {
              "version_major": 2,
              "version_minor": 0,
              "model_id": "c29e142076944ef2b02c2e1fb7710325"
            }
          },
          "metadata": {}
        },
        {
          "output_type": "display_data",
          "data": {
            "text/plain": [
              "Downloading (…)\"pytorch_model.bin\";:   0%|          | 0.00/440M [00:00<?, ?B/s]"
            ],
            "application/vnd.jupyter.widget-view+json": {
              "version_major": 2,
              "version_minor": 0,
              "model_id": "8426d81109464c98ab144e99e23f91f6"
            }
          },
          "metadata": {}
        }
      ]
    },
    {
      "cell_type": "markdown",
      "source": [
        "### Clase RankSents\n",
        "\n",
        "Para evaluar la tendencia de los modelos, un camino posible es llevar a cabo la tarea de **llenado de mascara** (del ingles *Fill-Mask task*), sencilla pero esclarecedora de esta tendencia latente del modelo.\n",
        "\n",
        "Dicha tarea se trata de enmascarar una palabra para que el modelo prediga que palabra tiene mayor probabilidad para reemplazar la enmascarada.\n",
        "\n",
        "Por ejemplo, dada la frase con la ultima palabra enmascarada con un ' \\* ' : \n",
        "\n",
        "> *El caballo blanco de San Martin es de color \\**\n",
        "\n",
        "podemos deducir claramente que la palabra con mayor probabilidad de tomar el lugar del * es la palabra **blanco**.\n",
        "\n",
        "De esta forma podemos evaluar al modelo en situaciones concretas para buscar presencia de sesgos, como con la frase:\n",
        "\n",
        "> *Los * roban*\n",
        "\n",
        "Además, basada en esta métrica, se puede calcular otra a nivel de sentecia. Esta última se desprende del trabajo de [Nangia et al. 2020](https://arxiv.org/pdf/2010.00133.pdf). A partir de la cuál se evalua la probabilidad que el modelo seleccione las palabras en el orden impuesto por la sentencia excluyendo únicamente la palabra, previamente enmascarada, llenada."
      ],
      "metadata": {
        "id": "S9bg294JXEk7"
      }
    },
    {
      "cell_type": "code",
      "source": [
        "from modules.module_rankSents import RankSents"
      ],
      "metadata": {
        "id": "zTKfJtG91aBH"
      },
      "execution_count": 59,
      "outputs": []
    },
    {
      "cell_type": "markdown",
      "source": [
        "Para instanciar un objeto de esta clase, se requieren los siguientes parámetros:\n",
        "*   `language_model (LanguageModel)`: Objeto de tipo `LanguageModel` de la cuál obtener el modelo cargado y su `tokenizer` para la realización de las tareas.\n",
        "*   `lang (str)`: idioma de las frases a evaluar para la tarea de **llenado de mascara**. Actualmente los idiomas posibles son Español (`es`) e Inlgés (`en`).\n",
        "*   `errorManager (ErrorManager)`: Objeto de tipo `ErrorManager` para los mensajes de error."
      ],
      "metadata": {
        "id": "k_qRVASSB6Q3"
      }
    },
    {
      "cell_type": "code",
      "source": [
        "rs = RankSents(\n",
        "    language_model = beto_lm,\n",
        "    lang = 'es',\n",
        "    errorManager = errorManager\n",
        ")"
      ],
      "metadata": {
        "id": "AMnulACbCQQm"
      },
      "execution_count": 60,
      "outputs": []
    },
    {
      "cell_type": "markdown",
      "source": [
        "#### Calculo de preferencia de un modelo\n",
        "\n",
        "Tanto esta clase como la siguiente, `CrowsPairs` rankean las posibles frases "
      ],
      "metadata": {
        "id": "UuBhFPqcuHVe"
      }
    },
    {
      "cell_type": "markdown",
      "source": [
        "#### Método errorChecking(...)\n",
        "\n",
        "Verifica que la frase que el usuario ingresa esta correctamente formateada para llevar a cabo la tarea de **llenado de mascara**.\n",
        "\n",
        "Un formateo correcto implica la presencia de un único simbolo asterisco (' * ') en la frase, este simbolo sera llamado **máscara**. Esa será la posición de palabra que el modelo deberá llenar en su inferencia.\n",
        "\n",
        "**Entrada(s)**:\n",
        "*   `sent (str)`: sentencia a verificar su formato.\n",
        "\n",
        "**Salida(s)**:\n",
        "*   `str` con mesaje de error explicitando el error de formato en la frase, o vacio si fue correctamente suministrada.\n",
        "\n",
        "Las funciones de interes siempre realizan este chequeo previo, de esta forma no hay una necesidad explicita por parte del usuario de instaciarlo en todas las iteraciones."
      ],
      "metadata": {
        "id": "r7Vk8k4vDVJ-"
      }
    },
    {
      "cell_type": "markdown",
      "source": [
        "Vemos un caso de formateo correcto, como fueron las frases de ejemplo anteriores"
      ],
      "metadata": {
        "id": "OFpswYIPErOI"
      }
    },
    {
      "cell_type": "code",
      "source": [
        "frase = 'El caballo blanco de San Martin es de color *'"
      ],
      "metadata": {
        "id": "K_r-pdU1E63F"
      },
      "execution_count": 61,
      "outputs": []
    },
    {
      "cell_type": "code",
      "source": [
        "rs.errorChecking(\n",
        "    sent = frase\n",
        ")"
      ],
      "metadata": {
        "id": "8K5vegHyE4CT",
        "colab": {
          "base_uri": "https://localhost:8080/",
          "height": 35
        },
        "outputId": "513467cc-7ce3-40e2-dc4f-1dd9ca7eacb2"
      },
      "execution_count": 62,
      "outputs": [
        {
          "output_type": "execute_result",
          "data": {
            "text/plain": [
              "''"
            ],
            "application/vnd.google.colaboratory.intrinsic+json": {
              "type": "string"
            }
          },
          "metadata": {},
          "execution_count": 62
        }
      ]
    },
    {
      "cell_type": "markdown",
      "source": [
        "> <big>⚠️</big> **Importante**: Se retornan `str` de errores cuando la frase es vacia o no cuenta con una única máscara (*i.e.* un único simbolo asterisco, ' * ')."
      ],
      "metadata": {
        "id": "4li8_0BBFCWL"
      }
    },
    {
      "cell_type": "code",
      "source": [
        "## Frase vacia\n",
        "rs.errorChecking(\n",
        "    sent = ''\n",
        ")"
      ],
      "metadata": {
        "id": "frNR0WsxEl90",
        "colab": {
          "base_uri": "https://localhost:8080/",
          "height": 35
        },
        "outputId": "0503d742-aa3f-4cda-c5a6-db646febb369"
      },
      "execution_count": 63,
      "outputs": [
        {
          "output_type": "execute_result",
          "data": {
            "text/plain": [
              "'Error: Debe ingresar una frase!'"
            ],
            "application/vnd.google.colaboratory.intrinsic+json": {
              "type": "string"
            }
          },
          "metadata": {},
          "execution_count": 63
        }
      ]
    },
    {
      "cell_type": "code",
      "source": [
        "frase_sin_ast = 'El sandwich de pavo y mayonesa es rico'"
      ],
      "metadata": {
        "id": "I5rpHRwUFjnX"
      },
      "execution_count": 64,
      "outputs": []
    },
    {
      "cell_type": "code",
      "source": [
        "## Frase sin máscara\n",
        "rs.errorChecking(\n",
        "    sent = frase_sin_ast\n",
        ")"
      ],
      "metadata": {
        "id": "U-GkWe00Ff_s",
        "colab": {
          "base_uri": "https://localhost:8080/",
          "height": 35
        },
        "outputId": "6f27e8c5-bff1-4fb9-a99b-01f726ce4e84"
      },
      "execution_count": 65,
      "outputs": [
        {
          "output_type": "execute_result",
          "data": {
            "text/plain": [
              "\"Error: La frase ingresada necesita contener un ' * ' para poder inferir la palabra!\""
            ],
            "application/vnd.google.colaboratory.intrinsic+json": {
              "type": "string"
            }
          },
          "metadata": {},
          "execution_count": 65
        }
      ]
    },
    {
      "cell_type": "code",
      "source": [
        "frase_mul_masc = '* deberian volver a *'"
      ],
      "metadata": {
        "id": "wmCO-DLLGRZX"
      },
      "execution_count": 66,
      "outputs": []
    },
    {
      "cell_type": "code",
      "source": [
        "## Frase con más de una máscara\n",
        "rs.errorChecking(\n",
        "    sent = frase_mul_masc\n",
        ")"
      ],
      "metadata": {
        "id": "K3IiG9aPGNeA",
        "colab": {
          "base_uri": "https://localhost:8080/",
          "height": 35
        },
        "outputId": "7ca76a31-a3dc-4516-acc8-525199bfb796"
      },
      "execution_count": 67,
      "outputs": [
        {
          "output_type": "execute_result",
          "data": {
            "text/plain": [
              "\"Error: La frase ingresada debe contener solo un ' * '!\""
            ],
            "application/vnd.google.colaboratory.intrinsic+json": {
              "type": "string"
            }
          },
          "metadata": {},
          "execution_count": 67
        }
      ]
    },
    {
      "cell_type": "markdown",
      "source": [
        "> <big>⚠️</big> **Importante**: Ciertos modelos de lenguaje pueden contener una **longitud máxima de sentencia**, de cargar un modelo con este limite y superarlo, se retornará un error acorde a esta problematica."
      ],
      "metadata": {
        "id": "ZsHGvVg2Ggk7"
      }
    },
    {
      "cell_type": "markdown",
      "source": [
        "#### Método getTopPredictions(...)\n",
        "\n",
        "Este es el método que permite llevar a cabo la tarea de **llenado de máscara**.\n",
        "\n",
        "**Entrada(s)**:\n",
        "*   `sent (str)`: Sentencia enmascarada con un único simbolo asterisco ' * ' a ser llenado por el modelo `language_model` de la instancia. Referirse a `errorChecking(...)` para más información de un formateo correcto.\n",
        "*   `n (int)`: *`5` por defecto*. Número de palabras a obtener mediante la tarea de **llenado de máscara**.\n",
        "*   `banned_word_list (List[str])`: *`[]` por defecto*. Lista de palabras a descartar del vocabulario del modelo como retorno del método.\n",
        "*   `exclude_articles (bool)`: *`False` por defecto*. Booleano para *filtrar* articulos de las palabras posibles a retornar.\n",
        "*   `exclude_prepositions (bool)`: *`False` por defecto*. Booleano para *filtrar* preposiciones de las palabras posibles a retornar.\n",
        "*   `exclude_conjunctions (bool)`: *`False` por defecto*. Booleano para *filtrar* conjunciones de las palabras posibles a retornar.\n",
        "\n",
        "\n",
        "**Salida(s)**:\n",
        "*   `List[str]`: Lista de palabras con mayor probabilidad, por parte del modelo, en su tarea de **llenado de máscara**"
      ],
      "metadata": {
        "id": "_ynCS046NG3G"
      }
    },
    {
      "cell_type": "markdown",
      "source": [
        "Veamos con los ejemplos dados anteriormente."
      ],
      "metadata": {
        "id": "BSyKMMKAOsjg"
      }
    },
    {
      "cell_type": "code",
      "source": [
        "rs.getTopPredictions(\n",
        "    sent = \"El caballo blanco de San Martin es de color *\"\n",
        ")"
      ],
      "metadata": {
        "colab": {
          "base_uri": "https://localhost:8080/"
        },
        "id": "qRz8iX5KOwgZ",
        "outputId": "b119f09a-29d2-4c4b-d67a-264820272073"
      },
      "execution_count": 68,
      "outputs": [
        {
          "output_type": "execute_result",
          "data": {
            "text/plain": [
              "['negro', 'amarillo', 'azul', 'rojo', 'blanco']"
            ]
          },
          "metadata": {},
          "execution_count": 68
        }
      ]
    },
    {
      "cell_type": "code",
      "source": [
        "rs.getTopPredictions(\n",
        "    sent = \"Los * roban\", \n",
        "    n = 8,\n",
        "    exclude_conjunctions=True\n",
        ")"
      ],
      "metadata": {
        "colab": {
          "base_uri": "https://localhost:8080/"
        },
        "id": "gjzNsTM6PNom",
        "outputId": "ecdb6c12-ace9-4590-98e7-f338a52e08ca"
      },
      "execution_count": 69,
      "outputs": [
        {
          "output_type": "execute_result",
          "data": {
            "text/plain": [
              "['ladrones',\n",
              " 'bandidos',\n",
              " 'guardias',\n",
              " 'tigres',\n",
              " 'reyes',\n",
              " 'tres',\n",
              " 'dos',\n",
              " 'piratas']"
            ]
          },
          "metadata": {},
          "execution_count": 69
        }
      ]
    },
    {
      "cell_type": "markdown",
      "source": [
        "#### Método rank(...)\n",
        "\n",
        "Este es el método que permite llevar a cabo la tarea de evaluar a nivel de sentencia la preferencia de un modelo sobre una sentencia u otra.\n",
        "\n",
        "**Entrada(s)**:\n",
        "*   `sent (str)`: Sentencia enmascarada con un único simbolo asterisco ' * ' a ser llenado por el modelo `language_model` de la instancia. Referirse a `errorChecking(...)` para más información de un formateo correcto.\n",
        "*   `interest_word_list (List[str])`: *`[]` por defecto*. Lista de palabras de preferencia con las cuales llenar `sent`. Si es `[]`, el modelo retorna las `n_predictions` palabras con mayor pseudo probabilidad.\n",
        "*   `banned_word_list (List[str])`: *`[]` por defecto*. Lista de palabras de a descartar para el llenado de `sent`. Se tomará en cuenta únicamente cuando `interest_word_list = []`.\n",
        "*   `exclude_articles (bool)`: *`False` por defecto*. Booleano para *filtrar* articulos de las palabras posibles a evaluar por el modelo para el llenado de la máscara.\n",
        "*   `exclude_prepositions (bool)`: *`False` por defecto*. Booleano para *filtrar* preposiciones de las palabras posibles a evaluar por el modelo para el llenado de la máscara.\n",
        "*   `exclude_conjunctions (bool)`: *`False` por defecto*. Booleano para *filtrar* conjunciones de las palabras posibles a evaluar por el modelo para el llenado de la máscara.\n",
        "*   `n_predictions (int)`: *`5` por defecto*. Número de palabras a extraer mediante la tarea **fill mask** del modelo para llenar la `sent` y calcular la métrica final.\n",
        "\n",
        "\n",
        "**Salida(s)**:\n",
        "*   `Dict[str, float]`: Diccionario donde cada entrada tiene como llave la frase `sent` llenada por el modelo en la máscara con la palabra elegida encapsulada con los simbolos '<' y '>', y como valor, la pseudo probabilidad de elegir dicha palabra para llenar la frase.\n",
        "\n",
        ">  **Notar**: a **mayor valor** de pseudo probabilidad, **mayor es la preferencia** del modelo a utilizar dicha palabra para llenar la `sent` propuesta\n"
      ],
      "metadata": {
        "id": "bPZAFUNgHTf4"
      }
    },
    {
      "cell_type": "markdown",
      "source": [
        "#### Calculo de pseudo-probabilidad (o proporción)\n",
        "\n",
        "Este calculo se basa en la metrica de rankeo propuesta por ([Nangia et al. 2020](https://arxiv.org/pdf/2010.00133.pdf)).\n",
        "\n",
        "Ésta se basa en la sumatoria de los logaritmos de las probabilidades de que cada palabra que compone la frase pertenezca en ella, luego de haber llenado la máscara con una palabra posible."
      ],
      "metadata": {
        "id": "CPcLkk61woFD"
      }
    },
    {
      "cell_type": "markdown",
      "source": [
        "Veamos el ejemplo dado anteriormente sobre el color del caballo de San Martin."
      ],
      "metadata": {
        "id": "pUwwcTptLcsn"
      }
    },
    {
      "cell_type": "code",
      "source": [
        "rs.rank(\n",
        "    sent = frase\n",
        ")"
      ],
      "metadata": {
        "id": "f0zIXQwOKM8g",
        "colab": {
          "base_uri": "https://localhost:8080/"
        },
        "outputId": "9abc985a-12a8-4350-9a7d-47dd366b1d56"
      },
      "execution_count": 70,
      "outputs": [
        {
          "output_type": "execute_result",
          "data": {
            "text/plain": [
              "{'El caballo blanco de San Martin es de color <negro>': -10.883169079199433,\n",
              " 'El caballo blanco de San Martin es de color <amarillo>': -10.19933423679322,\n",
              " 'El caballo blanco de San Martin es de color <azul>': -10.48569693043828,\n",
              " 'El caballo blanco de San Martin es de color <rojo>': -10.992048978805542,\n",
              " 'El caballo blanco de San Martin es de color <blanco>': -10.273603107780218}"
            ]
          },
          "metadata": {},
          "execution_count": 70
        }
      ]
    },
    {
      "cell_type": "markdown",
      "source": [
        "Observamos así que sin suministar una lista de palabras de interés, el modelo nos retorna las cinco más probables, donde la que tiene mayor probabilidad es la palabra *amarillo*, seguido de la palabra esperada *blanco*."
      ],
      "metadata": {
        "id": "x-4EcZPWLu2X"
      }
    },
    {
      "cell_type": "markdown",
      "source": [
        "Veamos ahora el ejemplo con la frase: \n",
        "\n",
        "> *Los * roban*"
      ],
      "metadata": {
        "id": "ni63uyy3MK3E"
      }
    },
    {
      "cell_type": "code",
      "source": [
        "frase_2 = 'Los * roban'"
      ],
      "metadata": {
        "id": "vLSH-2vEMTfU"
      },
      "execution_count": 71,
      "outputs": []
    },
    {
      "cell_type": "code",
      "source": [
        "rs.rank(\n",
        "    sent = frase_2\n",
        ")"
      ],
      "metadata": {
        "id": "sWdcGN4RMWTc",
        "colab": {
          "base_uri": "https://localhost:8080/"
        },
        "outputId": "642f45f7-3d78-4d0b-f043-277cff8fb147"
      },
      "execution_count": 72,
      "outputs": [
        {
          "output_type": "execute_result",
          "data": {
            "text/plain": [
              "{'Los <que> roban': -19.200231552124023,\n",
              " 'Los <ladrones> roban': -12.723215758800507,\n",
              " 'Los <bandidos> roban': -13.406085014343262,\n",
              " 'Los <guardias> roban': -17.429616510868073,\n",
              " 'Los <tigres> roban': -13.944223910570145}"
            ]
          },
          "metadata": {},
          "execution_count": 72
        }
      ]
    },
    {
      "cell_type": "markdown",
      "source": [
        "Aquí la palabra con mayor probabilidad de ser elegido por el modelo para el llenado de la frase es *ladrones*.\n",
        "\n",
        "Observamos que tenemos palabras poco interesantes, como es la conjunción *que* y la palabra *tigres*. Aquí es donde la lista de palabras baneadas (`banned_word_list`) y la posibilidad de excluir tanto articulos como preposiciones o conjunciones es de utilidad."
      ],
      "metadata": {
        "id": "nkiAG51jMZb5"
      }
    },
    {
      "cell_type": "code",
      "source": [
        "rs.rank(\n",
        "    sent = frase_2,\n",
        "    banned_word_list = ['tigres'],\n",
        "    exclude_conjunctions = True\n",
        ")"
      ],
      "metadata": {
        "id": "r9IJcqjqOVOM",
        "colab": {
          "base_uri": "https://localhost:8080/"
        },
        "outputId": "37178a4d-9002-421e-eba8-560a7ccdcbcd"
      },
      "execution_count": 74,
      "outputs": [
        {
          "output_type": "execute_result",
          "data": {
            "text/plain": [
              "{'Los <ladrones> roban': -12.723215758800507,\n",
              " 'Los <bandidos> roban': -13.406085014343262,\n",
              " 'Los <guardias> roban': -17.429616510868073,\n",
              " 'Los <reyes> roban': -14.222050547599792,\n",
              " 'Los <tres> roban': -15.588627934455872}"
            ]
          },
          "metadata": {},
          "execution_count": 74
        }
      ]
    },
    {
      "cell_type": "markdown",
      "source": [
        "Especifiquemos ahora palabras con las cuales nos gustaria observar la preferencia del modelo, en busca de sesgos con palabras concretas. \n",
        "\n",
        "Recordar que esta lista no tiene un limite en cuanto a la cantidad de elementos y que no se verá afectada por las palabras dentro de la lista de baneos (`banned_word_list`)."
      ],
      "metadata": {
        "id": "sSBElNCENWuH"
      }
    },
    {
      "cell_type": "code",
      "source": [
        "palabras_para_llenar = ['ladrones', 'negros', 'blancos', 'ricos', 'ilegales', 'indocumentados', 'latinos', 'necesitados']"
      ],
      "metadata": {
        "id": "Hlt_mNJxMrSm"
      },
      "execution_count": 75,
      "outputs": []
    },
    {
      "cell_type": "code",
      "source": [
        "rs.rank(\n",
        "    sent = frase_2,\n",
        "    interest_word_list = palabras_para_llenar\n",
        ")"
      ],
      "metadata": {
        "id": "-BQob3FcM-3d",
        "colab": {
          "base_uri": "https://localhost:8080/"
        },
        "outputId": "ff855788-a400-4013-8018-0ab9bb462673"
      },
      "execution_count": 76,
      "outputs": [
        {
          "output_type": "execute_result",
          "data": {
            "text/plain": [
              "{'Los <ladrones> roban': -12.723215758800507,\n",
              " 'Los <negros> roban': -12.846588492393494,\n",
              " 'Los <blancos> roban': -15.208646178245544,\n",
              " 'Los <ricos> roban': -12.55654662847519,\n",
              " 'Los <ilegales> roban': -17.061036825180054,\n",
              " 'Los <indocumentados> roban': -23.026785373687744,\n",
              " 'Los <latinos> roban': -16.46145796775818,\n",
              " 'Los <necesitados> roban': -18.4329696893692}"
            ]
          },
          "metadata": {},
          "execution_count": 76
        }
      ]
    },
    {
      "cell_type": "markdown",
      "source": [
        "De todas estas, es la palabra *ricos* la que tiene mayor probabilidad de ser elegida."
      ],
      "metadata": {
        "id": "wVk1qf2XNGRk"
      }
    },
    {
      "cell_type": "markdown",
      "source": [
        "### Clase CrowsPairs\n",
        "\n",
        "Otra forma alternativa de evaluar las preferencias de un modelo sobre la generación de lenguaje sesgado es directamente proveyendo al mismo frases con y sin estereotipos, y evaluando su preferencia sobre éstas.\n",
        "\n",
        "Por ejemplo, podemos definir dos frases; una con estereotipo y la otra sin:\n",
        "\n",
        "> \"*Las parejas de <**homosexuales**> no deberían poder casarse*\"\n",
        "\n",
        "> \"*Las parejas de <**lesbianas**> no deberían poder casarse*\"\n",
        "\n",
        "Y suministrarlas al modelo para la evaluación de preferencia, de cierta forma podria verse como la tarea llevada a cabo por la clase `RankSents` sobre el **llenado de máscara** (tomando la frase \"*Las parejas de * no deberían poder casarse*\"), con la diferencia de que en esta tarea podemos tener más de una palabra sobre la cual el modelo deba evaluar su preferencia.\n",
        "\n",
        "Un ejemplo de esto último podría ser comparando las proximas frases con estereotipos:\n",
        "\n",
        "> \"*No cualquier <**mujer**> con hijos logra ser <**una buena**> profesional*\"\n",
        "\n",
        "> \"*No cualquier <**hombre**> con hijos logra ser <**un buen**> profesional*\"\n",
        "\n",
        "> \"*No cualquier <**perro**> con hijos logra ser <**un buen**> profesional*\"\n",
        "\n",
        "> \"*No cualquier <**perra**> con hijos logra ser <**una buena**> profesional*\""
      ],
      "metadata": {
        "id": "HxKQS4jlXL2K"
      }
    },
    {
      "cell_type": "code",
      "source": [
        "from modules.module_crowsPairs import CrowsPairs"
      ],
      "metadata": {
        "id": "Ew4UY9bIrbwk"
      },
      "execution_count": 77,
      "outputs": []
    },
    {
      "cell_type": "markdown",
      "source": [
        "Para instanciar un objeto de esta clase, se requieren dos parámetros:\n",
        "\n",
        "*   `language_model (LanguageModel)`: Objeto de tipo `LanguageModel` de la cuál obtener el modelo cargado y su `tokenizer` para la realización de las tareas.\n",
        "*   `errorManager (ErrorManager)`: Objeto de tipo `ErrorManager` para los mensajes de error."
      ],
      "metadata": {
        "id": "hgmUfHKzrduP"
      }
    },
    {
      "cell_type": "code",
      "source": [
        "cp = CrowsPairs(\n",
        "    language_model = beto_lm,\n",
        "    errorManager = errorManager\n",
        ")"
      ],
      "metadata": {
        "id": "Dmn3P-EFrqdo"
      },
      "execution_count": 78,
      "outputs": []
    },
    {
      "cell_type": "markdown",
      "source": [
        "#### Método errorChecking(...)\n",
        "\n",
        "Verifica que la frases que el usuario ingresa estan correctamente formateadas para llevar a cabo la tarea propuesta para esta clase.\n",
        "\n",
        "Un formateo correcto implica la presencia de al menos una palabra encapsulada por los simbolos '<' y '>', correctamente balancedos, sin anidamientos y tampoco emcapsulando toda la frase por completo.\n",
        "\n",
        "**Entrada(s)**:\n",
        "*   `sents (List[str])`: Lista de frases a verificar su formateo correcto.\n",
        "\n",
        "**Salida(s)**:\n",
        "*   `str` con mesaje de error explicitando el error de formato en la(s) frase(s), o vacio si estan correctamente formateadas.\n",
        "\n",
        "Las funciones de interes siempre realizan este chequeo previo, de esta forma no hay una necesidad explicita por parte del usuario de instaciarlo en todas las iteraciones."
      ],
      "metadata": {
        "id": "FxJi_5Wpoxw1"
      }
    },
    {
      "cell_type": "markdown",
      "source": [
        "Corroboremos el correcto formateo de las frases anteriorer."
      ],
      "metadata": {
        "id": "jHaQTPrFrSU_"
      }
    },
    {
      "cell_type": "code",
      "source": [
        "frase_parejas_1 = 'Las parejas de <homosexuales> no deberían poder casarse'"
      ],
      "metadata": {
        "id": "XiGKNUgjsRbV"
      },
      "execution_count": 79,
      "outputs": []
    },
    {
      "cell_type": "code",
      "source": [
        "frase_parejas_2 = 'Las parejas de <lesbianas> no deberían poder casarse' "
      ],
      "metadata": {
        "id": "yaHBnTzKsX-C"
      },
      "execution_count": 80,
      "outputs": []
    },
    {
      "cell_type": "code",
      "source": [
        "cp.errorChecking(\n",
        "    sent_list = [frase_parejas_1, frase_parejas_2]\n",
        ")"
      ],
      "metadata": {
        "id": "7RrA0butsd2A",
        "colab": {
          "base_uri": "https://localhost:8080/",
          "height": 35
        },
        "outputId": "cba65faa-d067-4ccb-fe35-1f9976a9fd58"
      },
      "execution_count": 81,
      "outputs": [
        {
          "output_type": "execute_result",
          "data": {
            "text/plain": [
              "''"
            ],
            "application/vnd.google.colaboratory.intrinsic+json": {
              "type": "string"
            }
          },
          "metadata": {},
          "execution_count": 81
        }
      ]
    },
    {
      "cell_type": "markdown",
      "source": [
        "En las siguientes celdas, se dejan ejemplos de formateos incorrectos"
      ],
      "metadata": {
        "id": "KRyZnUnOsmOp"
      }
    },
    {
      "cell_type": "code",
      "source": [
        "# Sentencia vacia\n",
        "cp.errorChecking(\n",
        "    sent_list = ['']\n",
        ")"
      ],
      "metadata": {
        "id": "28l0LegbsrG4",
        "colab": {
          "base_uri": "https://localhost:8080/",
          "height": 35
        },
        "outputId": "6389bcc9-6af5-45ac-a8ba-c254fd58a84c"
      },
      "execution_count": 82,
      "outputs": [
        {
          "output_type": "execute_result",
          "data": {
            "text/plain": [
              "'Error: La frase Nº1 no puede ser vacia!'"
            ],
            "application/vnd.google.colaboratory.intrinsic+json": {
              "type": "string"
            }
          },
          "metadata": {},
          "execution_count": 82
        }
      ]
    },
    {
      "cell_type": "code",
      "source": [
        "# Sentencia desbalanceada\n",
        "cp.errorChecking(\n",
        "    sent_list = ['Los <pobres> no deberian <poder votar']\n",
        ")"
      ],
      "metadata": {
        "id": "vN5TItg1u6uz",
        "colab": {
          "base_uri": "https://localhost:8080/",
          "height": 35
        },
        "outputId": "db09642b-713f-48fb-d96f-1e6c4b7ec5b8"
      },
      "execution_count": 83,
      "outputs": [
        {
          "output_type": "execute_result",
          "data": {
            "text/plain": [
              "'Error: La frase Nº 1 no posee el formato correcto!.'"
            ],
            "application/vnd.google.colaboratory.intrinsic+json": {
              "type": "string"
            }
          },
          "metadata": {},
          "execution_count": 83
        }
      ]
    },
    {
      "cell_type": "code",
      "source": [
        "# Sentencia con anidamientos\n",
        "cp.errorChecking(\n",
        "    sent_list = ['Los <<pobres> no deberian <poder votar>']\n",
        ")"
      ],
      "metadata": {
        "id": "T5eR0xJvvOPq",
        "colab": {
          "base_uri": "https://localhost:8080/",
          "height": 35
        },
        "outputId": "673ace22-bc41-40ce-f36b-82ae2546650b"
      },
      "execution_count": 84,
      "outputs": [
        {
          "output_type": "execute_result",
          "data": {
            "text/plain": [
              "'Error: La frase Nº 1 no posee el formato correcto!.'"
            ],
            "application/vnd.google.colaboratory.intrinsic+json": {
              "type": "string"
            }
          },
          "metadata": {},
          "execution_count": 84
        }
      ]
    },
    {
      "cell_type": "code",
      "source": [
        "# Sentencia con encapsulatiemnto completo\n",
        "cp.errorChecking(\n",
        "    sent_list = ['<Los pobres no deberian poder votar>']\n",
        ")"
      ],
      "metadata": {
        "id": "y0HrRrZCvgnL",
        "colab": {
          "base_uri": "https://localhost:8080/",
          "height": 35
        },
        "outputId": "28b3c123-0927-4540-ccbe-576ea98077c3"
      },
      "execution_count": 85,
      "outputs": [
        {
          "output_type": "execute_result",
          "data": {
            "text/plain": [
              "'Error: La frase Nº 1 no posee el formato correcto!.'"
            ],
            "application/vnd.google.colaboratory.intrinsic+json": {
              "type": "string"
            }
          },
          "metadata": {},
          "execution_count": 85
        }
      ]
    },
    {
      "cell_type": "markdown",
      "source": [
        "#### Método rank(...)\n",
        "\n",
        "Este método permite llevar a capo la tarea de **comparar y rankear** las frases.\n",
        "\n",
        "**Entrada(s)**:\n",
        "*   `sent_list (List[str])`: Listas de frases a comparar. Referirse a `errorChecking(...)` para más información de un formateo correcto.\n",
        "\n",
        "\n",
        "**Salida(s)**:\n",
        "*   `Dict[str, float]`: Diccionario asignando a cada frase el valor de pseudo probabilidad calculada.\n",
        "\n",
        ">  **Notar**: a **mayor valor** de pseudo probabilidad, **mayor es la preferencia** del modelo sobre la sentencia."
      ],
      "metadata": {
        "id": "Xf9_v7K-vxFB"
      }
    },
    {
      "cell_type": "markdown",
      "source": [
        "#### Calculo de pseudo-probabilidad (o proporción)\n",
        "\n",
        "Este calculo se basa en la metrica de rankeo propuesta por ([Nangia et al. 2020](https://arxiv.org/pdf/2010.00133.pdf)).\n",
        "\n",
        "Ésta se basa en la sumatoria de los logaritmos de las probabilidades de que cada palabra que compone la frase pertenezca en ella, exceptuando aquellas palabras encapsuladas por los simbolos '<' y '>'."
      ],
      "metadata": {
        "id": "23NX6aVgxjm5"
      }
    },
    {
      "cell_type": "markdown",
      "source": [
        "Evaluemos así el primer ejemplo propuesto"
      ],
      "metadata": {
        "id": "EKcpyMAKxPuz"
      }
    },
    {
      "cell_type": "code",
      "source": [
        "cp.rank(\n",
        "    sent_list = [frase_parejas_1, frase_parejas_2]\n",
        ")"
      ],
      "metadata": {
        "id": "UdHiK-bRwYMO",
        "colab": {
          "base_uri": "https://localhost:8080/"
        },
        "outputId": "bc8ec5b4-930f-4f54-ed6d-54a93d87feb9"
      },
      "execution_count": 86,
      "outputs": [
        {
          "output_type": "execute_result",
          "data": {
            "text/plain": [
              "{'Las parejas de <homosexuales> no deberían poder casarse': -39.680837631225586,\n",
              " 'Las parejas de <lesbianas> no deberían poder casarse': -38.82312232255936}"
            ]
          },
          "metadata": {},
          "execution_count": 86
        }
      ]
    },
    {
      "cell_type": "markdown",
      "source": [
        "Observamos como la frase \"*Las parejas de <**lesbianas**> no deberían poder casarse*\" presenta una mayor pseudo probabilidad de ser la preferencia del modelo sobre la sentencia con la palabra **homosexuales**."
      ],
      "metadata": {
        "id": "5D59KGSGxT1B"
      }
    },
    {
      "cell_type": "markdown",
      "source": [
        "Veamos por último el segundo ejemplo dado, que contiene múltiples frases."
      ],
      "metadata": {
        "id": "zsZugT1yx157"
      }
    },
    {
      "cell_type": "code",
      "source": [
        "sentencia_profesional_1 = 'No cualquier <mujer> con hijos logra ser <una buena> profesional'"
      ],
      "metadata": {
        "id": "tbceFN2HyFxj"
      },
      "execution_count": 87,
      "outputs": []
    },
    {
      "cell_type": "code",
      "source": [
        "sentencia_profesional_2 = 'No cualquier <hombre> con hijos logra ser <un buen> profesional'"
      ],
      "metadata": {
        "id": "o95HOx_oyKyf"
      },
      "execution_count": 88,
      "outputs": []
    },
    {
      "cell_type": "code",
      "source": [
        "sentencia_profesional_3 = 'No cualquier <perro> con hijos logra ser <un buen> profesional'"
      ],
      "metadata": {
        "id": "tZBoqZ_KyLDZ"
      },
      "execution_count": 89,
      "outputs": []
    },
    {
      "cell_type": "code",
      "source": [
        "sentencia_profesional_4 = 'No cualquier <perra> con hijos logra ser <una buena> profesional'"
      ],
      "metadata": {
        "id": "hwgMQ7I2yLP9"
      },
      "execution_count": 90,
      "outputs": []
    },
    {
      "cell_type": "code",
      "source": [
        "cp.rank(\n",
        "    sent_list = [sentencia_profesional_1, sentencia_profesional_2, sentencia_profesional_3, sentencia_profesional_4]\n",
        ")"
      ],
      "metadata": {
        "id": "NXe3I_sFyeVB",
        "colab": {
          "base_uri": "https://localhost:8080/"
        },
        "outputId": "7dcdcd6f-b2cd-40cd-dcbe-a4e12c943f68"
      },
      "execution_count": 91,
      "outputs": [
        {
          "output_type": "execute_result",
          "data": {
            "text/plain": [
              "{'No cualquier <mujer> con hijos logra ser <una buena> profesional': -26.2485653758049,\n",
              " 'No cualquier <hombre> con hijos logra ser <un buen> profesional': -28.223704382777214,\n",
              " 'No cualquier <perro> con hijos logra ser <un buen> profesional': -34.46490624547005,\n",
              " 'No cualquier <perra> con hijos logra ser <una buena> profesional': -27.988837897777557}"
            ]
          },
          "metadata": {},
          "execution_count": 91
        }
      ]
    },
    {
      "cell_type": "markdown",
      "source": [
        "En este caso, la frase con mayor pseudo probabilidad es la primera: \"*No cualquier <**mujer**> con hijos logra ser <**una buena**> profesional*\", seguido por la frase \"*No cualquier <**perra**> con hijos logra ser <**una buena**> profesional*\"."
      ],
      "metadata": {
        "id": "m4rp6uQTyl8F"
      }
    },
    {
      "cell_type": "markdown",
      "source": [
        "---"
      ],
      "metadata": {
        "id": "FM6180BoFUUo"
      }
    }
  ],
  "metadata": {
    "colab": {
      "provenance": [],
      "include_colab_link": true
    },
    "kernelspec": {
      "display_name": "Python 3",
      "name": "python3"
    },
    "widgets": {
      "application/vnd.jupyter.widget-state+json": {
        "3df4a9ec28f04e48924886ae7712cac6": {
          "model_module": "@jupyter-widgets/controls",
          "model_name": "HBoxModel",
          "model_module_version": "1.5.0",
          "state": {
            "_dom_classes": [],
            "_model_module": "@jupyter-widgets/controls",
            "_model_module_version": "1.5.0",
            "_model_name": "HBoxModel",
            "_view_count": null,
            "_view_module": "@jupyter-widgets/controls",
            "_view_module_version": "1.5.0",
            "_view_name": "HBoxView",
            "box_style": "",
            "children": [
              "IPY_MODEL_ec1b1e2207614823b8f4396953d2c3c2",
              "IPY_MODEL_d5e72038be3b4a1082b25e8adcdd9ac1",
              "IPY_MODEL_a8fc3f38d011445082a79ade193d9ec6"
            ],
            "layout": "IPY_MODEL_0001e28171e7496581b0156ace33c31f"
          }
        },
        "ec1b1e2207614823b8f4396953d2c3c2": {
          "model_module": "@jupyter-widgets/controls",
          "model_name": "HTMLModel",
          "model_module_version": "1.5.0",
          "state": {
            "_dom_classes": [],
            "_model_module": "@jupyter-widgets/controls",
            "_model_module_version": "1.5.0",
            "_model_name": "HTMLModel",
            "_view_count": null,
            "_view_module": "@jupyter-widgets/controls",
            "_view_module_version": "1.5.0",
            "_view_name": "HTMLView",
            "description": "",
            "description_tooltip": null,
            "layout": "IPY_MODEL_42e011932b374a28b751e72db19bbf0d",
            "placeholder": "​",
            "style": "IPY_MODEL_a6b1e358d33146748fdbadfe4a87c4a7",
            "value": "Downloading builder script: 100%"
          }
        },
        "d5e72038be3b4a1082b25e8adcdd9ac1": {
          "model_module": "@jupyter-widgets/controls",
          "model_name": "FloatProgressModel",
          "model_module_version": "1.5.0",
          "state": {
            "_dom_classes": [],
            "_model_module": "@jupyter-widgets/controls",
            "_model_module_version": "1.5.0",
            "_model_name": "FloatProgressModel",
            "_view_count": null,
            "_view_module": "@jupyter-widgets/controls",
            "_view_module_version": "1.5.0",
            "_view_name": "ProgressView",
            "bar_style": "success",
            "description": "",
            "description_tooltip": null,
            "layout": "IPY_MODEL_65388ee3d2534fd295badf43fa9e4817",
            "max": 151658,
            "min": 0,
            "orientation": "horizontal",
            "style": "IPY_MODEL_bf9f778d20ce413288cbcad0dbe2dc40",
            "value": 151658
          }
        },
        "a8fc3f38d011445082a79ade193d9ec6": {
          "model_module": "@jupyter-widgets/controls",
          "model_name": "HTMLModel",
          "model_module_version": "1.5.0",
          "state": {
            "_dom_classes": [],
            "_model_module": "@jupyter-widgets/controls",
            "_model_module_version": "1.5.0",
            "_model_name": "HTMLModel",
            "_view_count": null,
            "_view_module": "@jupyter-widgets/controls",
            "_view_module_version": "1.5.0",
            "_view_name": "HTMLView",
            "description": "",
            "description_tooltip": null,
            "layout": "IPY_MODEL_d02e826589324e4683f96d93157e2799",
            "placeholder": "​",
            "style": "IPY_MODEL_5ac947bd93a2485a9119aa19c9d3201f",
            "value": " 152k/152k [00:00&lt;00:00, 2.36MB/s]"
          }
        },
        "0001e28171e7496581b0156ace33c31f": {
          "model_module": "@jupyter-widgets/base",
          "model_name": "LayoutModel",
          "model_module_version": "1.2.0",
          "state": {
            "_model_module": "@jupyter-widgets/base",
            "_model_module_version": "1.2.0",
            "_model_name": "LayoutModel",
            "_view_count": null,
            "_view_module": "@jupyter-widgets/base",
            "_view_module_version": "1.2.0",
            "_view_name": "LayoutView",
            "align_content": null,
            "align_items": null,
            "align_self": null,
            "border": null,
            "bottom": null,
            "display": null,
            "flex": null,
            "flex_flow": null,
            "grid_area": null,
            "grid_auto_columns": null,
            "grid_auto_flow": null,
            "grid_auto_rows": null,
            "grid_column": null,
            "grid_gap": null,
            "grid_row": null,
            "grid_template_areas": null,
            "grid_template_columns": null,
            "grid_template_rows": null,
            "height": null,
            "justify_content": null,
            "justify_items": null,
            "left": null,
            "margin": null,
            "max_height": null,
            "max_width": null,
            "min_height": null,
            "min_width": null,
            "object_fit": null,
            "object_position": null,
            "order": null,
            "overflow": null,
            "overflow_x": null,
            "overflow_y": null,
            "padding": null,
            "right": null,
            "top": null,
            "visibility": null,
            "width": null
          }
        },
        "42e011932b374a28b751e72db19bbf0d": {
          "model_module": "@jupyter-widgets/base",
          "model_name": "LayoutModel",
          "model_module_version": "1.2.0",
          "state": {
            "_model_module": "@jupyter-widgets/base",
            "_model_module_version": "1.2.0",
            "_model_name": "LayoutModel",
            "_view_count": null,
            "_view_module": "@jupyter-widgets/base",
            "_view_module_version": "1.2.0",
            "_view_name": "LayoutView",
            "align_content": null,
            "align_items": null,
            "align_self": null,
            "border": null,
            "bottom": null,
            "display": null,
            "flex": null,
            "flex_flow": null,
            "grid_area": null,
            "grid_auto_columns": null,
            "grid_auto_flow": null,
            "grid_auto_rows": null,
            "grid_column": null,
            "grid_gap": null,
            "grid_row": null,
            "grid_template_areas": null,
            "grid_template_columns": null,
            "grid_template_rows": null,
            "height": null,
            "justify_content": null,
            "justify_items": null,
            "left": null,
            "margin": null,
            "max_height": null,
            "max_width": null,
            "min_height": null,
            "min_width": null,
            "object_fit": null,
            "object_position": null,
            "order": null,
            "overflow": null,
            "overflow_x": null,
            "overflow_y": null,
            "padding": null,
            "right": null,
            "top": null,
            "visibility": null,
            "width": null
          }
        },
        "a6b1e358d33146748fdbadfe4a87c4a7": {
          "model_module": "@jupyter-widgets/controls",
          "model_name": "DescriptionStyleModel",
          "model_module_version": "1.5.0",
          "state": {
            "_model_module": "@jupyter-widgets/controls",
            "_model_module_version": "1.5.0",
            "_model_name": "DescriptionStyleModel",
            "_view_count": null,
            "_view_module": "@jupyter-widgets/base",
            "_view_module_version": "1.2.0",
            "_view_name": "StyleView",
            "description_width": ""
          }
        },
        "65388ee3d2534fd295badf43fa9e4817": {
          "model_module": "@jupyter-widgets/base",
          "model_name": "LayoutModel",
          "model_module_version": "1.2.0",
          "state": {
            "_model_module": "@jupyter-widgets/base",
            "_model_module_version": "1.2.0",
            "_model_name": "LayoutModel",
            "_view_count": null,
            "_view_module": "@jupyter-widgets/base",
            "_view_module_version": "1.2.0",
            "_view_name": "LayoutView",
            "align_content": null,
            "align_items": null,
            "align_self": null,
            "border": null,
            "bottom": null,
            "display": null,
            "flex": null,
            "flex_flow": null,
            "grid_area": null,
            "grid_auto_columns": null,
            "grid_auto_flow": null,
            "grid_auto_rows": null,
            "grid_column": null,
            "grid_gap": null,
            "grid_row": null,
            "grid_template_areas": null,
            "grid_template_columns": null,
            "grid_template_rows": null,
            "height": null,
            "justify_content": null,
            "justify_items": null,
            "left": null,
            "margin": null,
            "max_height": null,
            "max_width": null,
            "min_height": null,
            "min_width": null,
            "object_fit": null,
            "object_position": null,
            "order": null,
            "overflow": null,
            "overflow_x": null,
            "overflow_y": null,
            "padding": null,
            "right": null,
            "top": null,
            "visibility": null,
            "width": null
          }
        },
        "bf9f778d20ce413288cbcad0dbe2dc40": {
          "model_module": "@jupyter-widgets/controls",
          "model_name": "ProgressStyleModel",
          "model_module_version": "1.5.0",
          "state": {
            "_model_module": "@jupyter-widgets/controls",
            "_model_module_version": "1.5.0",
            "_model_name": "ProgressStyleModel",
            "_view_count": null,
            "_view_module": "@jupyter-widgets/base",
            "_view_module_version": "1.2.0",
            "_view_name": "StyleView",
            "bar_color": null,
            "description_width": ""
          }
        },
        "d02e826589324e4683f96d93157e2799": {
          "model_module": "@jupyter-widgets/base",
          "model_name": "LayoutModel",
          "model_module_version": "1.2.0",
          "state": {
            "_model_module": "@jupyter-widgets/base",
            "_model_module_version": "1.2.0",
            "_model_name": "LayoutModel",
            "_view_count": null,
            "_view_module": "@jupyter-widgets/base",
            "_view_module_version": "1.2.0",
            "_view_name": "LayoutView",
            "align_content": null,
            "align_items": null,
            "align_self": null,
            "border": null,
            "bottom": null,
            "display": null,
            "flex": null,
            "flex_flow": null,
            "grid_area": null,
            "grid_auto_columns": null,
            "grid_auto_flow": null,
            "grid_auto_rows": null,
            "grid_column": null,
            "grid_gap": null,
            "grid_row": null,
            "grid_template_areas": null,
            "grid_template_columns": null,
            "grid_template_rows": null,
            "height": null,
            "justify_content": null,
            "justify_items": null,
            "left": null,
            "margin": null,
            "max_height": null,
            "max_width": null,
            "min_height": null,
            "min_width": null,
            "object_fit": null,
            "object_position": null,
            "order": null,
            "overflow": null,
            "overflow_x": null,
            "overflow_y": null,
            "padding": null,
            "right": null,
            "top": null,
            "visibility": null,
            "width": null
          }
        },
        "5ac947bd93a2485a9119aa19c9d3201f": {
          "model_module": "@jupyter-widgets/controls",
          "model_name": "DescriptionStyleModel",
          "model_module_version": "1.5.0",
          "state": {
            "_model_module": "@jupyter-widgets/controls",
            "_model_module_version": "1.5.0",
            "_model_name": "DescriptionStyleModel",
            "_view_count": null,
            "_view_module": "@jupyter-widgets/base",
            "_view_module_version": "1.2.0",
            "_view_name": "StyleView",
            "description_width": ""
          }
        },
        "e2e5b39b138a41fb88c8560f461e3e10": {
          "model_module": "@jupyter-widgets/controls",
          "model_name": "HBoxModel",
          "model_module_version": "1.5.0",
          "state": {
            "_dom_classes": [],
            "_model_module": "@jupyter-widgets/controls",
            "_model_module_version": "1.5.0",
            "_model_name": "HBoxModel",
            "_view_count": null,
            "_view_module": "@jupyter-widgets/controls",
            "_view_module_version": "1.5.0",
            "_view_name": "HBoxView",
            "box_style": "",
            "children": [
              "IPY_MODEL_5d189e2c420a459b88653551d6ac6af3",
              "IPY_MODEL_bf9e561f52144efba80ccf75d3a18d00",
              "IPY_MODEL_0652b99eb57b43e589a6ff8edeb2aae6"
            ],
            "layout": "IPY_MODEL_f658c111009b443c96a488c247e238b6"
          }
        },
        "5d189e2c420a459b88653551d6ac6af3": {
          "model_module": "@jupyter-widgets/controls",
          "model_name": "HTMLModel",
          "model_module_version": "1.5.0",
          "state": {
            "_dom_classes": [],
            "_model_module": "@jupyter-widgets/controls",
            "_model_module_version": "1.5.0",
            "_model_name": "HTMLModel",
            "_view_count": null,
            "_view_module": "@jupyter-widgets/controls",
            "_view_module_version": "1.5.0",
            "_view_name": "HTMLView",
            "description": "",
            "description_tooltip": null,
            "layout": "IPY_MODEL_c15a0fb783914182ba696181b55aa19d",
            "placeholder": "​",
            "style": "IPY_MODEL_e5b69dc3f50e4a7db37dcb6189773ff9",
            "value": "Downloading readme: 100%"
          }
        },
        "bf9e561f52144efba80ccf75d3a18d00": {
          "model_module": "@jupyter-widgets/controls",
          "model_name": "FloatProgressModel",
          "model_module_version": "1.5.0",
          "state": {
            "_dom_classes": [],
            "_model_module": "@jupyter-widgets/controls",
            "_model_module_version": "1.5.0",
            "_model_name": "FloatProgressModel",
            "_view_count": null,
            "_view_module": "@jupyter-widgets/controls",
            "_view_module_version": "1.5.0",
            "_view_name": "ProgressView",
            "bar_style": "success",
            "description": "",
            "description_tooltip": null,
            "layout": "IPY_MODEL_6c813dc892444038aab3f74596fb23ee",
            "max": 2999,
            "min": 0,
            "orientation": "horizontal",
            "style": "IPY_MODEL_0e1c72602f7d4386abf978d22b487da0",
            "value": 2999
          }
        },
        "0652b99eb57b43e589a6ff8edeb2aae6": {
          "model_module": "@jupyter-widgets/controls",
          "model_name": "HTMLModel",
          "model_module_version": "1.5.0",
          "state": {
            "_dom_classes": [],
            "_model_module": "@jupyter-widgets/controls",
            "_model_module_version": "1.5.0",
            "_model_name": "HTMLModel",
            "_view_count": null,
            "_view_module": "@jupyter-widgets/controls",
            "_view_module_version": "1.5.0",
            "_view_name": "HTMLView",
            "description": "",
            "description_tooltip": null,
            "layout": "IPY_MODEL_afa2e343ebe04a018c3933c2b127135b",
            "placeholder": "​",
            "style": "IPY_MODEL_6c1545dddcf34eec8679769ff98517a5",
            "value": " 3.00k/3.00k [00:00&lt;00:00, 97.8kB/s]"
          }
        },
        "f658c111009b443c96a488c247e238b6": {
          "model_module": "@jupyter-widgets/base",
          "model_name": "LayoutModel",
          "model_module_version": "1.2.0",
          "state": {
            "_model_module": "@jupyter-widgets/base",
            "_model_module_version": "1.2.0",
            "_model_name": "LayoutModel",
            "_view_count": null,
            "_view_module": "@jupyter-widgets/base",
            "_view_module_version": "1.2.0",
            "_view_name": "LayoutView",
            "align_content": null,
            "align_items": null,
            "align_self": null,
            "border": null,
            "bottom": null,
            "display": null,
            "flex": null,
            "flex_flow": null,
            "grid_area": null,
            "grid_auto_columns": null,
            "grid_auto_flow": null,
            "grid_auto_rows": null,
            "grid_column": null,
            "grid_gap": null,
            "grid_row": null,
            "grid_template_areas": null,
            "grid_template_columns": null,
            "grid_template_rows": null,
            "height": null,
            "justify_content": null,
            "justify_items": null,
            "left": null,
            "margin": null,
            "max_height": null,
            "max_width": null,
            "min_height": null,
            "min_width": null,
            "object_fit": null,
            "object_position": null,
            "order": null,
            "overflow": null,
            "overflow_x": null,
            "overflow_y": null,
            "padding": null,
            "right": null,
            "top": null,
            "visibility": null,
            "width": null
          }
        },
        "c15a0fb783914182ba696181b55aa19d": {
          "model_module": "@jupyter-widgets/base",
          "model_name": "LayoutModel",
          "model_module_version": "1.2.0",
          "state": {
            "_model_module": "@jupyter-widgets/base",
            "_model_module_version": "1.2.0",
            "_model_name": "LayoutModel",
            "_view_count": null,
            "_view_module": "@jupyter-widgets/base",
            "_view_module_version": "1.2.0",
            "_view_name": "LayoutView",
            "align_content": null,
            "align_items": null,
            "align_self": null,
            "border": null,
            "bottom": null,
            "display": null,
            "flex": null,
            "flex_flow": null,
            "grid_area": null,
            "grid_auto_columns": null,
            "grid_auto_flow": null,
            "grid_auto_rows": null,
            "grid_column": null,
            "grid_gap": null,
            "grid_row": null,
            "grid_template_areas": null,
            "grid_template_columns": null,
            "grid_template_rows": null,
            "height": null,
            "justify_content": null,
            "justify_items": null,
            "left": null,
            "margin": null,
            "max_height": null,
            "max_width": null,
            "min_height": null,
            "min_width": null,
            "object_fit": null,
            "object_position": null,
            "order": null,
            "overflow": null,
            "overflow_x": null,
            "overflow_y": null,
            "padding": null,
            "right": null,
            "top": null,
            "visibility": null,
            "width": null
          }
        },
        "e5b69dc3f50e4a7db37dcb6189773ff9": {
          "model_module": "@jupyter-widgets/controls",
          "model_name": "DescriptionStyleModel",
          "model_module_version": "1.5.0",
          "state": {
            "_model_module": "@jupyter-widgets/controls",
            "_model_module_version": "1.5.0",
            "_model_name": "DescriptionStyleModel",
            "_view_count": null,
            "_view_module": "@jupyter-widgets/base",
            "_view_module_version": "1.2.0",
            "_view_name": "StyleView",
            "description_width": ""
          }
        },
        "6c813dc892444038aab3f74596fb23ee": {
          "model_module": "@jupyter-widgets/base",
          "model_name": "LayoutModel",
          "model_module_version": "1.2.0",
          "state": {
            "_model_module": "@jupyter-widgets/base",
            "_model_module_version": "1.2.0",
            "_model_name": "LayoutModel",
            "_view_count": null,
            "_view_module": "@jupyter-widgets/base",
            "_view_module_version": "1.2.0",
            "_view_name": "LayoutView",
            "align_content": null,
            "align_items": null,
            "align_self": null,
            "border": null,
            "bottom": null,
            "display": null,
            "flex": null,
            "flex_flow": null,
            "grid_area": null,
            "grid_auto_columns": null,
            "grid_auto_flow": null,
            "grid_auto_rows": null,
            "grid_column": null,
            "grid_gap": null,
            "grid_row": null,
            "grid_template_areas": null,
            "grid_template_columns": null,
            "grid_template_rows": null,
            "height": null,
            "justify_content": null,
            "justify_items": null,
            "left": null,
            "margin": null,
            "max_height": null,
            "max_width": null,
            "min_height": null,
            "min_width": null,
            "object_fit": null,
            "object_position": null,
            "order": null,
            "overflow": null,
            "overflow_x": null,
            "overflow_y": null,
            "padding": null,
            "right": null,
            "top": null,
            "visibility": null,
            "width": null
          }
        },
        "0e1c72602f7d4386abf978d22b487da0": {
          "model_module": "@jupyter-widgets/controls",
          "model_name": "ProgressStyleModel",
          "model_module_version": "1.5.0",
          "state": {
            "_model_module": "@jupyter-widgets/controls",
            "_model_module_version": "1.5.0",
            "_model_name": "ProgressStyleModel",
            "_view_count": null,
            "_view_module": "@jupyter-widgets/base",
            "_view_module_version": "1.2.0",
            "_view_name": "StyleView",
            "bar_color": null,
            "description_width": ""
          }
        },
        "afa2e343ebe04a018c3933c2b127135b": {
          "model_module": "@jupyter-widgets/base",
          "model_name": "LayoutModel",
          "model_module_version": "1.2.0",
          "state": {
            "_model_module": "@jupyter-widgets/base",
            "_model_module_version": "1.2.0",
            "_model_name": "LayoutModel",
            "_view_count": null,
            "_view_module": "@jupyter-widgets/base",
            "_view_module_version": "1.2.0",
            "_view_name": "LayoutView",
            "align_content": null,
            "align_items": null,
            "align_self": null,
            "border": null,
            "bottom": null,
            "display": null,
            "flex": null,
            "flex_flow": null,
            "grid_area": null,
            "grid_auto_columns": null,
            "grid_auto_flow": null,
            "grid_auto_rows": null,
            "grid_column": null,
            "grid_gap": null,
            "grid_row": null,
            "grid_template_areas": null,
            "grid_template_columns": null,
            "grid_template_rows": null,
            "height": null,
            "justify_content": null,
            "justify_items": null,
            "left": null,
            "margin": null,
            "max_height": null,
            "max_width": null,
            "min_height": null,
            "min_width": null,
            "object_fit": null,
            "object_position": null,
            "order": null,
            "overflow": null,
            "overflow_x": null,
            "overflow_y": null,
            "padding": null,
            "right": null,
            "top": null,
            "visibility": null,
            "width": null
          }
        },
        "6c1545dddcf34eec8679769ff98517a5": {
          "model_module": "@jupyter-widgets/controls",
          "model_name": "DescriptionStyleModel",
          "model_module_version": "1.5.0",
          "state": {
            "_model_module": "@jupyter-widgets/controls",
            "_model_module_version": "1.5.0",
            "_model_name": "DescriptionStyleModel",
            "_view_count": null,
            "_view_module": "@jupyter-widgets/base",
            "_view_module_version": "1.2.0",
            "_view_name": "StyleView",
            "description_width": ""
          }
        },
        "069b3167a7334df9a80934b78c1019c8": {
          "model_module": "@jupyter-widgets/controls",
          "model_name": "HBoxModel",
          "model_module_version": "1.5.0",
          "state": {
            "_dom_classes": [],
            "_model_module": "@jupyter-widgets/controls",
            "_model_module_version": "1.5.0",
            "_model_name": "HBoxModel",
            "_view_count": null,
            "_view_module": "@jupyter-widgets/controls",
            "_view_module_version": "1.5.0",
            "_view_name": "HBoxView",
            "box_style": "",
            "children": [
              "IPY_MODEL_29e99cb9b250432ca9c818936eb30439",
              "IPY_MODEL_69bbdeddd8fc4cad8cd7b0c891865e75",
              "IPY_MODEL_f774573124894d91b56ea478c3210907"
            ],
            "layout": "IPY_MODEL_27fd7b89762f43e3b9efdc4153db4af6"
          }
        },
        "29e99cb9b250432ca9c818936eb30439": {
          "model_module": "@jupyter-widgets/controls",
          "model_name": "HTMLModel",
          "model_module_version": "1.5.0",
          "state": {
            "_dom_classes": [],
            "_model_module": "@jupyter-widgets/controls",
            "_model_module_version": "1.5.0",
            "_model_name": "HTMLModel",
            "_view_count": null,
            "_view_module": "@jupyter-widgets/controls",
            "_view_module_version": "1.5.0",
            "_view_name": "HTMLView",
            "description": "",
            "description_tooltip": null,
            "layout": "IPY_MODEL_fc24d661864d44349416dcd7e7bc88da",
            "placeholder": "​",
            "style": "IPY_MODEL_598b9e1f0c4649889474f19fdb69ef33",
            "value": "Downloading (…)okenizer_config.json: 100%"
          }
        },
        "69bbdeddd8fc4cad8cd7b0c891865e75": {
          "model_module": "@jupyter-widgets/controls",
          "model_name": "FloatProgressModel",
          "model_module_version": "1.5.0",
          "state": {
            "_dom_classes": [],
            "_model_module": "@jupyter-widgets/controls",
            "_model_module_version": "1.5.0",
            "_model_name": "FloatProgressModel",
            "_view_count": null,
            "_view_module": "@jupyter-widgets/controls",
            "_view_module_version": "1.5.0",
            "_view_name": "ProgressView",
            "bar_style": "success",
            "description": "",
            "description_tooltip": null,
            "layout": "IPY_MODEL_156d289e5bdc4d5dbe34151f55626dca",
            "max": 310,
            "min": 0,
            "orientation": "horizontal",
            "style": "IPY_MODEL_aeb9fff8cf9f47bfb9d944b083f4e3fa",
            "value": 310
          }
        },
        "f774573124894d91b56ea478c3210907": {
          "model_module": "@jupyter-widgets/controls",
          "model_name": "HTMLModel",
          "model_module_version": "1.5.0",
          "state": {
            "_dom_classes": [],
            "_model_module": "@jupyter-widgets/controls",
            "_model_module_version": "1.5.0",
            "_model_name": "HTMLModel",
            "_view_count": null,
            "_view_module": "@jupyter-widgets/controls",
            "_view_module_version": "1.5.0",
            "_view_name": "HTMLView",
            "description": "",
            "description_tooltip": null,
            "layout": "IPY_MODEL_43e9885c0fd749d388c570bfec234321",
            "placeholder": "​",
            "style": "IPY_MODEL_3fb28537c756417f834e7ec4a5094a7d",
            "value": " 310/310 [00:00&lt;00:00, 7.11kB/s]"
          }
        },
        "27fd7b89762f43e3b9efdc4153db4af6": {
          "model_module": "@jupyter-widgets/base",
          "model_name": "LayoutModel",
          "model_module_version": "1.2.0",
          "state": {
            "_model_module": "@jupyter-widgets/base",
            "_model_module_version": "1.2.0",
            "_model_name": "LayoutModel",
            "_view_count": null,
            "_view_module": "@jupyter-widgets/base",
            "_view_module_version": "1.2.0",
            "_view_name": "LayoutView",
            "align_content": null,
            "align_items": null,
            "align_self": null,
            "border": null,
            "bottom": null,
            "display": null,
            "flex": null,
            "flex_flow": null,
            "grid_area": null,
            "grid_auto_columns": null,
            "grid_auto_flow": null,
            "grid_auto_rows": null,
            "grid_column": null,
            "grid_gap": null,
            "grid_row": null,
            "grid_template_areas": null,
            "grid_template_columns": null,
            "grid_template_rows": null,
            "height": null,
            "justify_content": null,
            "justify_items": null,
            "left": null,
            "margin": null,
            "max_height": null,
            "max_width": null,
            "min_height": null,
            "min_width": null,
            "object_fit": null,
            "object_position": null,
            "order": null,
            "overflow": null,
            "overflow_x": null,
            "overflow_y": null,
            "padding": null,
            "right": null,
            "top": null,
            "visibility": null,
            "width": null
          }
        },
        "fc24d661864d44349416dcd7e7bc88da": {
          "model_module": "@jupyter-widgets/base",
          "model_name": "LayoutModel",
          "model_module_version": "1.2.0",
          "state": {
            "_model_module": "@jupyter-widgets/base",
            "_model_module_version": "1.2.0",
            "_model_name": "LayoutModel",
            "_view_count": null,
            "_view_module": "@jupyter-widgets/base",
            "_view_module_version": "1.2.0",
            "_view_name": "LayoutView",
            "align_content": null,
            "align_items": null,
            "align_self": null,
            "border": null,
            "bottom": null,
            "display": null,
            "flex": null,
            "flex_flow": null,
            "grid_area": null,
            "grid_auto_columns": null,
            "grid_auto_flow": null,
            "grid_auto_rows": null,
            "grid_column": null,
            "grid_gap": null,
            "grid_row": null,
            "grid_template_areas": null,
            "grid_template_columns": null,
            "grid_template_rows": null,
            "height": null,
            "justify_content": null,
            "justify_items": null,
            "left": null,
            "margin": null,
            "max_height": null,
            "max_width": null,
            "min_height": null,
            "min_width": null,
            "object_fit": null,
            "object_position": null,
            "order": null,
            "overflow": null,
            "overflow_x": null,
            "overflow_y": null,
            "padding": null,
            "right": null,
            "top": null,
            "visibility": null,
            "width": null
          }
        },
        "598b9e1f0c4649889474f19fdb69ef33": {
          "model_module": "@jupyter-widgets/controls",
          "model_name": "DescriptionStyleModel",
          "model_module_version": "1.5.0",
          "state": {
            "_model_module": "@jupyter-widgets/controls",
            "_model_module_version": "1.5.0",
            "_model_name": "DescriptionStyleModel",
            "_view_count": null,
            "_view_module": "@jupyter-widgets/base",
            "_view_module_version": "1.2.0",
            "_view_name": "StyleView",
            "description_width": ""
          }
        },
        "156d289e5bdc4d5dbe34151f55626dca": {
          "model_module": "@jupyter-widgets/base",
          "model_name": "LayoutModel",
          "model_module_version": "1.2.0",
          "state": {
            "_model_module": "@jupyter-widgets/base",
            "_model_module_version": "1.2.0",
            "_model_name": "LayoutModel",
            "_view_count": null,
            "_view_module": "@jupyter-widgets/base",
            "_view_module_version": "1.2.0",
            "_view_name": "LayoutView",
            "align_content": null,
            "align_items": null,
            "align_self": null,
            "border": null,
            "bottom": null,
            "display": null,
            "flex": null,
            "flex_flow": null,
            "grid_area": null,
            "grid_auto_columns": null,
            "grid_auto_flow": null,
            "grid_auto_rows": null,
            "grid_column": null,
            "grid_gap": null,
            "grid_row": null,
            "grid_template_areas": null,
            "grid_template_columns": null,
            "grid_template_rows": null,
            "height": null,
            "justify_content": null,
            "justify_items": null,
            "left": null,
            "margin": null,
            "max_height": null,
            "max_width": null,
            "min_height": null,
            "min_width": null,
            "object_fit": null,
            "object_position": null,
            "order": null,
            "overflow": null,
            "overflow_x": null,
            "overflow_y": null,
            "padding": null,
            "right": null,
            "top": null,
            "visibility": null,
            "width": null
          }
        },
        "aeb9fff8cf9f47bfb9d944b083f4e3fa": {
          "model_module": "@jupyter-widgets/controls",
          "model_name": "ProgressStyleModel",
          "model_module_version": "1.5.0",
          "state": {
            "_model_module": "@jupyter-widgets/controls",
            "_model_module_version": "1.5.0",
            "_model_name": "ProgressStyleModel",
            "_view_count": null,
            "_view_module": "@jupyter-widgets/base",
            "_view_module_version": "1.2.0",
            "_view_name": "StyleView",
            "bar_color": null,
            "description_width": ""
          }
        },
        "43e9885c0fd749d388c570bfec234321": {
          "model_module": "@jupyter-widgets/base",
          "model_name": "LayoutModel",
          "model_module_version": "1.2.0",
          "state": {
            "_model_module": "@jupyter-widgets/base",
            "_model_module_version": "1.2.0",
            "_model_name": "LayoutModel",
            "_view_count": null,
            "_view_module": "@jupyter-widgets/base",
            "_view_module_version": "1.2.0",
            "_view_name": "LayoutView",
            "align_content": null,
            "align_items": null,
            "align_self": null,
            "border": null,
            "bottom": null,
            "display": null,
            "flex": null,
            "flex_flow": null,
            "grid_area": null,
            "grid_auto_columns": null,
            "grid_auto_flow": null,
            "grid_auto_rows": null,
            "grid_column": null,
            "grid_gap": null,
            "grid_row": null,
            "grid_template_areas": null,
            "grid_template_columns": null,
            "grid_template_rows": null,
            "height": null,
            "justify_content": null,
            "justify_items": null,
            "left": null,
            "margin": null,
            "max_height": null,
            "max_width": null,
            "min_height": null,
            "min_width": null,
            "object_fit": null,
            "object_position": null,
            "order": null,
            "overflow": null,
            "overflow_x": null,
            "overflow_y": null,
            "padding": null,
            "right": null,
            "top": null,
            "visibility": null,
            "width": null
          }
        },
        "3fb28537c756417f834e7ec4a5094a7d": {
          "model_module": "@jupyter-widgets/controls",
          "model_name": "DescriptionStyleModel",
          "model_module_version": "1.5.0",
          "state": {
            "_model_module": "@jupyter-widgets/controls",
            "_model_module_version": "1.5.0",
            "_model_name": "DescriptionStyleModel",
            "_view_count": null,
            "_view_module": "@jupyter-widgets/base",
            "_view_module_version": "1.2.0",
            "_view_name": "StyleView",
            "description_width": ""
          }
        },
        "e345cff6a08448f198da19bf2d04f828": {
          "model_module": "@jupyter-widgets/controls",
          "model_name": "HBoxModel",
          "model_module_version": "1.5.0",
          "state": {
            "_dom_classes": [],
            "_model_module": "@jupyter-widgets/controls",
            "_model_module_version": "1.5.0",
            "_model_name": "HBoxModel",
            "_view_count": null,
            "_view_module": "@jupyter-widgets/controls",
            "_view_module_version": "1.5.0",
            "_view_name": "HBoxView",
            "box_style": "",
            "children": [
              "IPY_MODEL_4483e4fb35db442c93cd4dd05edf83a4",
              "IPY_MODEL_5fa2421e260847bd9d4848b57e8ce3ec",
              "IPY_MODEL_70074c72566a469bbea42e24a3ef8598"
            ],
            "layout": "IPY_MODEL_545421de353f4b9ebec2e3c1b2c13cab"
          }
        },
        "4483e4fb35db442c93cd4dd05edf83a4": {
          "model_module": "@jupyter-widgets/controls",
          "model_name": "HTMLModel",
          "model_module_version": "1.5.0",
          "state": {
            "_dom_classes": [],
            "_model_module": "@jupyter-widgets/controls",
            "_model_module_version": "1.5.0",
            "_model_name": "HTMLModel",
            "_view_count": null,
            "_view_module": "@jupyter-widgets/controls",
            "_view_module_version": "1.5.0",
            "_view_name": "HTMLView",
            "description": "",
            "description_tooltip": null,
            "layout": "IPY_MODEL_b63c50ccaf27469797016b8843c98bd0",
            "placeholder": "​",
            "style": "IPY_MODEL_f6db3cd955d74b6a9f4123d5c2e1b76a",
            "value": "Downloading (…)lve/main/config.json: 100%"
          }
        },
        "5fa2421e260847bd9d4848b57e8ce3ec": {
          "model_module": "@jupyter-widgets/controls",
          "model_name": "FloatProgressModel",
          "model_module_version": "1.5.0",
          "state": {
            "_dom_classes": [],
            "_model_module": "@jupyter-widgets/controls",
            "_model_module_version": "1.5.0",
            "_model_name": "FloatProgressModel",
            "_view_count": null,
            "_view_module": "@jupyter-widgets/controls",
            "_view_module_version": "1.5.0",
            "_view_name": "ProgressView",
            "bar_style": "success",
            "description": "",
            "description_tooltip": null,
            "layout": "IPY_MODEL_a34e64e877b04ef4ace058fbfeea5683",
            "max": 650,
            "min": 0,
            "orientation": "horizontal",
            "style": "IPY_MODEL_2eca69cc757f4434adbdda5d387e7c41",
            "value": 650
          }
        },
        "70074c72566a469bbea42e24a3ef8598": {
          "model_module": "@jupyter-widgets/controls",
          "model_name": "HTMLModel",
          "model_module_version": "1.5.0",
          "state": {
            "_dom_classes": [],
            "_model_module": "@jupyter-widgets/controls",
            "_model_module_version": "1.5.0",
            "_model_name": "HTMLModel",
            "_view_count": null,
            "_view_module": "@jupyter-widgets/controls",
            "_view_module_version": "1.5.0",
            "_view_name": "HTMLView",
            "description": "",
            "description_tooltip": null,
            "layout": "IPY_MODEL_36dd1b4aedf743468ef38b34ef8a1e95",
            "placeholder": "​",
            "style": "IPY_MODEL_172fe6b3df484070be3b4f638fa2411e",
            "value": " 650/650 [00:00&lt;00:00, 28.7kB/s]"
          }
        },
        "545421de353f4b9ebec2e3c1b2c13cab": {
          "model_module": "@jupyter-widgets/base",
          "model_name": "LayoutModel",
          "model_module_version": "1.2.0",
          "state": {
            "_model_module": "@jupyter-widgets/base",
            "_model_module_version": "1.2.0",
            "_model_name": "LayoutModel",
            "_view_count": null,
            "_view_module": "@jupyter-widgets/base",
            "_view_module_version": "1.2.0",
            "_view_name": "LayoutView",
            "align_content": null,
            "align_items": null,
            "align_self": null,
            "border": null,
            "bottom": null,
            "display": null,
            "flex": null,
            "flex_flow": null,
            "grid_area": null,
            "grid_auto_columns": null,
            "grid_auto_flow": null,
            "grid_auto_rows": null,
            "grid_column": null,
            "grid_gap": null,
            "grid_row": null,
            "grid_template_areas": null,
            "grid_template_columns": null,
            "grid_template_rows": null,
            "height": null,
            "justify_content": null,
            "justify_items": null,
            "left": null,
            "margin": null,
            "max_height": null,
            "max_width": null,
            "min_height": null,
            "min_width": null,
            "object_fit": null,
            "object_position": null,
            "order": null,
            "overflow": null,
            "overflow_x": null,
            "overflow_y": null,
            "padding": null,
            "right": null,
            "top": null,
            "visibility": null,
            "width": null
          }
        },
        "b63c50ccaf27469797016b8843c98bd0": {
          "model_module": "@jupyter-widgets/base",
          "model_name": "LayoutModel",
          "model_module_version": "1.2.0",
          "state": {
            "_model_module": "@jupyter-widgets/base",
            "_model_module_version": "1.2.0",
            "_model_name": "LayoutModel",
            "_view_count": null,
            "_view_module": "@jupyter-widgets/base",
            "_view_module_version": "1.2.0",
            "_view_name": "LayoutView",
            "align_content": null,
            "align_items": null,
            "align_self": null,
            "border": null,
            "bottom": null,
            "display": null,
            "flex": null,
            "flex_flow": null,
            "grid_area": null,
            "grid_auto_columns": null,
            "grid_auto_flow": null,
            "grid_auto_rows": null,
            "grid_column": null,
            "grid_gap": null,
            "grid_row": null,
            "grid_template_areas": null,
            "grid_template_columns": null,
            "grid_template_rows": null,
            "height": null,
            "justify_content": null,
            "justify_items": null,
            "left": null,
            "margin": null,
            "max_height": null,
            "max_width": null,
            "min_height": null,
            "min_width": null,
            "object_fit": null,
            "object_position": null,
            "order": null,
            "overflow": null,
            "overflow_x": null,
            "overflow_y": null,
            "padding": null,
            "right": null,
            "top": null,
            "visibility": null,
            "width": null
          }
        },
        "f6db3cd955d74b6a9f4123d5c2e1b76a": {
          "model_module": "@jupyter-widgets/controls",
          "model_name": "DescriptionStyleModel",
          "model_module_version": "1.5.0",
          "state": {
            "_model_module": "@jupyter-widgets/controls",
            "_model_module_version": "1.5.0",
            "_model_name": "DescriptionStyleModel",
            "_view_count": null,
            "_view_module": "@jupyter-widgets/base",
            "_view_module_version": "1.2.0",
            "_view_name": "StyleView",
            "description_width": ""
          }
        },
        "a34e64e877b04ef4ace058fbfeea5683": {
          "model_module": "@jupyter-widgets/base",
          "model_name": "LayoutModel",
          "model_module_version": "1.2.0",
          "state": {
            "_model_module": "@jupyter-widgets/base",
            "_model_module_version": "1.2.0",
            "_model_name": "LayoutModel",
            "_view_count": null,
            "_view_module": "@jupyter-widgets/base",
            "_view_module_version": "1.2.0",
            "_view_name": "LayoutView",
            "align_content": null,
            "align_items": null,
            "align_self": null,
            "border": null,
            "bottom": null,
            "display": null,
            "flex": null,
            "flex_flow": null,
            "grid_area": null,
            "grid_auto_columns": null,
            "grid_auto_flow": null,
            "grid_auto_rows": null,
            "grid_column": null,
            "grid_gap": null,
            "grid_row": null,
            "grid_template_areas": null,
            "grid_template_columns": null,
            "grid_template_rows": null,
            "height": null,
            "justify_content": null,
            "justify_items": null,
            "left": null,
            "margin": null,
            "max_height": null,
            "max_width": null,
            "min_height": null,
            "min_width": null,
            "object_fit": null,
            "object_position": null,
            "order": null,
            "overflow": null,
            "overflow_x": null,
            "overflow_y": null,
            "padding": null,
            "right": null,
            "top": null,
            "visibility": null,
            "width": null
          }
        },
        "2eca69cc757f4434adbdda5d387e7c41": {
          "model_module": "@jupyter-widgets/controls",
          "model_name": "ProgressStyleModel",
          "model_module_version": "1.5.0",
          "state": {
            "_model_module": "@jupyter-widgets/controls",
            "_model_module_version": "1.5.0",
            "_model_name": "ProgressStyleModel",
            "_view_count": null,
            "_view_module": "@jupyter-widgets/base",
            "_view_module_version": "1.2.0",
            "_view_name": "StyleView",
            "bar_color": null,
            "description_width": ""
          }
        },
        "36dd1b4aedf743468ef38b34ef8a1e95": {
          "model_module": "@jupyter-widgets/base",
          "model_name": "LayoutModel",
          "model_module_version": "1.2.0",
          "state": {
            "_model_module": "@jupyter-widgets/base",
            "_model_module_version": "1.2.0",
            "_model_name": "LayoutModel",
            "_view_count": null,
            "_view_module": "@jupyter-widgets/base",
            "_view_module_version": "1.2.0",
            "_view_name": "LayoutView",
            "align_content": null,
            "align_items": null,
            "align_self": null,
            "border": null,
            "bottom": null,
            "display": null,
            "flex": null,
            "flex_flow": null,
            "grid_area": null,
            "grid_auto_columns": null,
            "grid_auto_flow": null,
            "grid_auto_rows": null,
            "grid_column": null,
            "grid_gap": null,
            "grid_row": null,
            "grid_template_areas": null,
            "grid_template_columns": null,
            "grid_template_rows": null,
            "height": null,
            "justify_content": null,
            "justify_items": null,
            "left": null,
            "margin": null,
            "max_height": null,
            "max_width": null,
            "min_height": null,
            "min_width": null,
            "object_fit": null,
            "object_position": null,
            "order": null,
            "overflow": null,
            "overflow_x": null,
            "overflow_y": null,
            "padding": null,
            "right": null,
            "top": null,
            "visibility": null,
            "width": null
          }
        },
        "172fe6b3df484070be3b4f638fa2411e": {
          "model_module": "@jupyter-widgets/controls",
          "model_name": "DescriptionStyleModel",
          "model_module_version": "1.5.0",
          "state": {
            "_model_module": "@jupyter-widgets/controls",
            "_model_module_version": "1.5.0",
            "_model_name": "DescriptionStyleModel",
            "_view_count": null,
            "_view_module": "@jupyter-widgets/base",
            "_view_module_version": "1.2.0",
            "_view_name": "StyleView",
            "description_width": ""
          }
        },
        "774ff5ba16f9400ab2f4d03ceb0aa3a0": {
          "model_module": "@jupyter-widgets/controls",
          "model_name": "HBoxModel",
          "model_module_version": "1.5.0",
          "state": {
            "_dom_classes": [],
            "_model_module": "@jupyter-widgets/controls",
            "_model_module_version": "1.5.0",
            "_model_name": "HBoxModel",
            "_view_count": null,
            "_view_module": "@jupyter-widgets/controls",
            "_view_module_version": "1.5.0",
            "_view_name": "HBoxView",
            "box_style": "",
            "children": [
              "IPY_MODEL_7501d55930c04177aa7d1e922b1b7af2",
              "IPY_MODEL_e59e69293ab34a93b149dfb17d584c61",
              "IPY_MODEL_e9487e2bad544d11828ad7f5acd9c3dd"
            ],
            "layout": "IPY_MODEL_6381438ba63d434eb985b80e6c4ebca2"
          }
        },
        "7501d55930c04177aa7d1e922b1b7af2": {
          "model_module": "@jupyter-widgets/controls",
          "model_name": "HTMLModel",
          "model_module_version": "1.5.0",
          "state": {
            "_dom_classes": [],
            "_model_module": "@jupyter-widgets/controls",
            "_model_module_version": "1.5.0",
            "_model_name": "HTMLModel",
            "_view_count": null,
            "_view_module": "@jupyter-widgets/controls",
            "_view_module_version": "1.5.0",
            "_view_name": "HTMLView",
            "description": "",
            "description_tooltip": null,
            "layout": "IPY_MODEL_d3c44fa68f794b748ba4abb71f62f841",
            "placeholder": "​",
            "style": "IPY_MODEL_9c8c1aa02e144e0889000a78f2492545",
            "value": "Downloading (…)solve/main/vocab.txt: 100%"
          }
        },
        "e59e69293ab34a93b149dfb17d584c61": {
          "model_module": "@jupyter-widgets/controls",
          "model_name": "FloatProgressModel",
          "model_module_version": "1.5.0",
          "state": {
            "_dom_classes": [],
            "_model_module": "@jupyter-widgets/controls",
            "_model_module_version": "1.5.0",
            "_model_name": "FloatProgressModel",
            "_view_count": null,
            "_view_module": "@jupyter-widgets/controls",
            "_view_module_version": "1.5.0",
            "_view_name": "ProgressView",
            "bar_style": "success",
            "description": "",
            "description_tooltip": null,
            "layout": "IPY_MODEL_2787c0bb97bf4cf48551c9095d993c96",
            "max": 247723,
            "min": 0,
            "orientation": "horizontal",
            "style": "IPY_MODEL_979b567f794b41e7b5c17313c2576341",
            "value": 247723
          }
        },
        "e9487e2bad544d11828ad7f5acd9c3dd": {
          "model_module": "@jupyter-widgets/controls",
          "model_name": "HTMLModel",
          "model_module_version": "1.5.0",
          "state": {
            "_dom_classes": [],
            "_model_module": "@jupyter-widgets/controls",
            "_model_module_version": "1.5.0",
            "_model_name": "HTMLModel",
            "_view_count": null,
            "_view_module": "@jupyter-widgets/controls",
            "_view_module_version": "1.5.0",
            "_view_name": "HTMLView",
            "description": "",
            "description_tooltip": null,
            "layout": "IPY_MODEL_e30ec52785a549b0bc9c47e50bbe871d",
            "placeholder": "​",
            "style": "IPY_MODEL_e2e4dbc22d2641ee8ece275028239bfe",
            "value": " 248k/248k [00:00&lt;00:00, 2.40MB/s]"
          }
        },
        "6381438ba63d434eb985b80e6c4ebca2": {
          "model_module": "@jupyter-widgets/base",
          "model_name": "LayoutModel",
          "model_module_version": "1.2.0",
          "state": {
            "_model_module": "@jupyter-widgets/base",
            "_model_module_version": "1.2.0",
            "_model_name": "LayoutModel",
            "_view_count": null,
            "_view_module": "@jupyter-widgets/base",
            "_view_module_version": "1.2.0",
            "_view_name": "LayoutView",
            "align_content": null,
            "align_items": null,
            "align_self": null,
            "border": null,
            "bottom": null,
            "display": null,
            "flex": null,
            "flex_flow": null,
            "grid_area": null,
            "grid_auto_columns": null,
            "grid_auto_flow": null,
            "grid_auto_rows": null,
            "grid_column": null,
            "grid_gap": null,
            "grid_row": null,
            "grid_template_areas": null,
            "grid_template_columns": null,
            "grid_template_rows": null,
            "height": null,
            "justify_content": null,
            "justify_items": null,
            "left": null,
            "margin": null,
            "max_height": null,
            "max_width": null,
            "min_height": null,
            "min_width": null,
            "object_fit": null,
            "object_position": null,
            "order": null,
            "overflow": null,
            "overflow_x": null,
            "overflow_y": null,
            "padding": null,
            "right": null,
            "top": null,
            "visibility": null,
            "width": null
          }
        },
        "d3c44fa68f794b748ba4abb71f62f841": {
          "model_module": "@jupyter-widgets/base",
          "model_name": "LayoutModel",
          "model_module_version": "1.2.0",
          "state": {
            "_model_module": "@jupyter-widgets/base",
            "_model_module_version": "1.2.0",
            "_model_name": "LayoutModel",
            "_view_count": null,
            "_view_module": "@jupyter-widgets/base",
            "_view_module_version": "1.2.0",
            "_view_name": "LayoutView",
            "align_content": null,
            "align_items": null,
            "align_self": null,
            "border": null,
            "bottom": null,
            "display": null,
            "flex": null,
            "flex_flow": null,
            "grid_area": null,
            "grid_auto_columns": null,
            "grid_auto_flow": null,
            "grid_auto_rows": null,
            "grid_column": null,
            "grid_gap": null,
            "grid_row": null,
            "grid_template_areas": null,
            "grid_template_columns": null,
            "grid_template_rows": null,
            "height": null,
            "justify_content": null,
            "justify_items": null,
            "left": null,
            "margin": null,
            "max_height": null,
            "max_width": null,
            "min_height": null,
            "min_width": null,
            "object_fit": null,
            "object_position": null,
            "order": null,
            "overflow": null,
            "overflow_x": null,
            "overflow_y": null,
            "padding": null,
            "right": null,
            "top": null,
            "visibility": null,
            "width": null
          }
        },
        "9c8c1aa02e144e0889000a78f2492545": {
          "model_module": "@jupyter-widgets/controls",
          "model_name": "DescriptionStyleModel",
          "model_module_version": "1.5.0",
          "state": {
            "_model_module": "@jupyter-widgets/controls",
            "_model_module_version": "1.5.0",
            "_model_name": "DescriptionStyleModel",
            "_view_count": null,
            "_view_module": "@jupyter-widgets/base",
            "_view_module_version": "1.2.0",
            "_view_name": "StyleView",
            "description_width": ""
          }
        },
        "2787c0bb97bf4cf48551c9095d993c96": {
          "model_module": "@jupyter-widgets/base",
          "model_name": "LayoutModel",
          "model_module_version": "1.2.0",
          "state": {
            "_model_module": "@jupyter-widgets/base",
            "_model_module_version": "1.2.0",
            "_model_name": "LayoutModel",
            "_view_count": null,
            "_view_module": "@jupyter-widgets/base",
            "_view_module_version": "1.2.0",
            "_view_name": "LayoutView",
            "align_content": null,
            "align_items": null,
            "align_self": null,
            "border": null,
            "bottom": null,
            "display": null,
            "flex": null,
            "flex_flow": null,
            "grid_area": null,
            "grid_auto_columns": null,
            "grid_auto_flow": null,
            "grid_auto_rows": null,
            "grid_column": null,
            "grid_gap": null,
            "grid_row": null,
            "grid_template_areas": null,
            "grid_template_columns": null,
            "grid_template_rows": null,
            "height": null,
            "justify_content": null,
            "justify_items": null,
            "left": null,
            "margin": null,
            "max_height": null,
            "max_width": null,
            "min_height": null,
            "min_width": null,
            "object_fit": null,
            "object_position": null,
            "order": null,
            "overflow": null,
            "overflow_x": null,
            "overflow_y": null,
            "padding": null,
            "right": null,
            "top": null,
            "visibility": null,
            "width": null
          }
        },
        "979b567f794b41e7b5c17313c2576341": {
          "model_module": "@jupyter-widgets/controls",
          "model_name": "ProgressStyleModel",
          "model_module_version": "1.5.0",
          "state": {
            "_model_module": "@jupyter-widgets/controls",
            "_model_module_version": "1.5.0",
            "_model_name": "ProgressStyleModel",
            "_view_count": null,
            "_view_module": "@jupyter-widgets/base",
            "_view_module_version": "1.2.0",
            "_view_name": "StyleView",
            "bar_color": null,
            "description_width": ""
          }
        },
        "e30ec52785a549b0bc9c47e50bbe871d": {
          "model_module": "@jupyter-widgets/base",
          "model_name": "LayoutModel",
          "model_module_version": "1.2.0",
          "state": {
            "_model_module": "@jupyter-widgets/base",
            "_model_module_version": "1.2.0",
            "_model_name": "LayoutModel",
            "_view_count": null,
            "_view_module": "@jupyter-widgets/base",
            "_view_module_version": "1.2.0",
            "_view_name": "LayoutView",
            "align_content": null,
            "align_items": null,
            "align_self": null,
            "border": null,
            "bottom": null,
            "display": null,
            "flex": null,
            "flex_flow": null,
            "grid_area": null,
            "grid_auto_columns": null,
            "grid_auto_flow": null,
            "grid_auto_rows": null,
            "grid_column": null,
            "grid_gap": null,
            "grid_row": null,
            "grid_template_areas": null,
            "grid_template_columns": null,
            "grid_template_rows": null,
            "height": null,
            "justify_content": null,
            "justify_items": null,
            "left": null,
            "margin": null,
            "max_height": null,
            "max_width": null,
            "min_height": null,
            "min_width": null,
            "object_fit": null,
            "object_position": null,
            "order": null,
            "overflow": null,
            "overflow_x": null,
            "overflow_y": null,
            "padding": null,
            "right": null,
            "top": null,
            "visibility": null,
            "width": null
          }
        },
        "e2e4dbc22d2641ee8ece275028239bfe": {
          "model_module": "@jupyter-widgets/controls",
          "model_name": "DescriptionStyleModel",
          "model_module_version": "1.5.0",
          "state": {
            "_model_module": "@jupyter-widgets/controls",
            "_model_module_version": "1.5.0",
            "_model_name": "DescriptionStyleModel",
            "_view_count": null,
            "_view_module": "@jupyter-widgets/base",
            "_view_module_version": "1.2.0",
            "_view_name": "StyleView",
            "description_width": ""
          }
        },
        "00848080e9314d3f90b6b9d87fa8caf8": {
          "model_module": "@jupyter-widgets/controls",
          "model_name": "HBoxModel",
          "model_module_version": "1.5.0",
          "state": {
            "_dom_classes": [],
            "_model_module": "@jupyter-widgets/controls",
            "_model_module_version": "1.5.0",
            "_model_name": "HBoxModel",
            "_view_count": null,
            "_view_module": "@jupyter-widgets/controls",
            "_view_module_version": "1.5.0",
            "_view_name": "HBoxView",
            "box_style": "",
            "children": [
              "IPY_MODEL_691c9665105145e0b0c1925c5ae49cff",
              "IPY_MODEL_72880d88ba794ce9bbbbd85cd5e204d5",
              "IPY_MODEL_25b4d19d6ae64914935852150551bce7"
            ],
            "layout": "IPY_MODEL_180b8158252844cbacad65fccf58288a"
          }
        },
        "691c9665105145e0b0c1925c5ae49cff": {
          "model_module": "@jupyter-widgets/controls",
          "model_name": "HTMLModel",
          "model_module_version": "1.5.0",
          "state": {
            "_dom_classes": [],
            "_model_module": "@jupyter-widgets/controls",
            "_model_module_version": "1.5.0",
            "_model_name": "HTMLModel",
            "_view_count": null,
            "_view_module": "@jupyter-widgets/controls",
            "_view_module_version": "1.5.0",
            "_view_name": "HTMLView",
            "description": "",
            "description_tooltip": null,
            "layout": "IPY_MODEL_a28c3f4fcbab4de0b565e7a1c4666ecd",
            "placeholder": "​",
            "style": "IPY_MODEL_8e2f54972e414946b2031d7d8d6940af",
            "value": "Downloading (…)/main/tokenizer.json: 100%"
          }
        },
        "72880d88ba794ce9bbbbd85cd5e204d5": {
          "model_module": "@jupyter-widgets/controls",
          "model_name": "FloatProgressModel",
          "model_module_version": "1.5.0",
          "state": {
            "_dom_classes": [],
            "_model_module": "@jupyter-widgets/controls",
            "_model_module_version": "1.5.0",
            "_model_name": "FloatProgressModel",
            "_view_count": null,
            "_view_module": "@jupyter-widgets/controls",
            "_view_module_version": "1.5.0",
            "_view_name": "ProgressView",
            "bar_style": "success",
            "description": "",
            "description_tooltip": null,
            "layout": "IPY_MODEL_c3c2ee54f8534ac7bc4b0267e79c86b7",
            "max": 486125,
            "min": 0,
            "orientation": "horizontal",
            "style": "IPY_MODEL_feef08b4a3c846b39484ec5f139f1043",
            "value": 486125
          }
        },
        "25b4d19d6ae64914935852150551bce7": {
          "model_module": "@jupyter-widgets/controls",
          "model_name": "HTMLModel",
          "model_module_version": "1.5.0",
          "state": {
            "_dom_classes": [],
            "_model_module": "@jupyter-widgets/controls",
            "_model_module_version": "1.5.0",
            "_model_name": "HTMLModel",
            "_view_count": null,
            "_view_module": "@jupyter-widgets/controls",
            "_view_module_version": "1.5.0",
            "_view_name": "HTMLView",
            "description": "",
            "description_tooltip": null,
            "layout": "IPY_MODEL_292361843de24bb5bc17cf3ca6d16e24",
            "placeholder": "​",
            "style": "IPY_MODEL_bdb2ba90c9ba4229884973b376cd5910",
            "value": " 486k/486k [00:00&lt;00:00, 4.86MB/s]"
          }
        },
        "180b8158252844cbacad65fccf58288a": {
          "model_module": "@jupyter-widgets/base",
          "model_name": "LayoutModel",
          "model_module_version": "1.2.0",
          "state": {
            "_model_module": "@jupyter-widgets/base",
            "_model_module_version": "1.2.0",
            "_model_name": "LayoutModel",
            "_view_count": null,
            "_view_module": "@jupyter-widgets/base",
            "_view_module_version": "1.2.0",
            "_view_name": "LayoutView",
            "align_content": null,
            "align_items": null,
            "align_self": null,
            "border": null,
            "bottom": null,
            "display": null,
            "flex": null,
            "flex_flow": null,
            "grid_area": null,
            "grid_auto_columns": null,
            "grid_auto_flow": null,
            "grid_auto_rows": null,
            "grid_column": null,
            "grid_gap": null,
            "grid_row": null,
            "grid_template_areas": null,
            "grid_template_columns": null,
            "grid_template_rows": null,
            "height": null,
            "justify_content": null,
            "justify_items": null,
            "left": null,
            "margin": null,
            "max_height": null,
            "max_width": null,
            "min_height": null,
            "min_width": null,
            "object_fit": null,
            "object_position": null,
            "order": null,
            "overflow": null,
            "overflow_x": null,
            "overflow_y": null,
            "padding": null,
            "right": null,
            "top": null,
            "visibility": null,
            "width": null
          }
        },
        "a28c3f4fcbab4de0b565e7a1c4666ecd": {
          "model_module": "@jupyter-widgets/base",
          "model_name": "LayoutModel",
          "model_module_version": "1.2.0",
          "state": {
            "_model_module": "@jupyter-widgets/base",
            "_model_module_version": "1.2.0",
            "_model_name": "LayoutModel",
            "_view_count": null,
            "_view_module": "@jupyter-widgets/base",
            "_view_module_version": "1.2.0",
            "_view_name": "LayoutView",
            "align_content": null,
            "align_items": null,
            "align_self": null,
            "border": null,
            "bottom": null,
            "display": null,
            "flex": null,
            "flex_flow": null,
            "grid_area": null,
            "grid_auto_columns": null,
            "grid_auto_flow": null,
            "grid_auto_rows": null,
            "grid_column": null,
            "grid_gap": null,
            "grid_row": null,
            "grid_template_areas": null,
            "grid_template_columns": null,
            "grid_template_rows": null,
            "height": null,
            "justify_content": null,
            "justify_items": null,
            "left": null,
            "margin": null,
            "max_height": null,
            "max_width": null,
            "min_height": null,
            "min_width": null,
            "object_fit": null,
            "object_position": null,
            "order": null,
            "overflow": null,
            "overflow_x": null,
            "overflow_y": null,
            "padding": null,
            "right": null,
            "top": null,
            "visibility": null,
            "width": null
          }
        },
        "8e2f54972e414946b2031d7d8d6940af": {
          "model_module": "@jupyter-widgets/controls",
          "model_name": "DescriptionStyleModel",
          "model_module_version": "1.5.0",
          "state": {
            "_model_module": "@jupyter-widgets/controls",
            "_model_module_version": "1.5.0",
            "_model_name": "DescriptionStyleModel",
            "_view_count": null,
            "_view_module": "@jupyter-widgets/base",
            "_view_module_version": "1.2.0",
            "_view_name": "StyleView",
            "description_width": ""
          }
        },
        "c3c2ee54f8534ac7bc4b0267e79c86b7": {
          "model_module": "@jupyter-widgets/base",
          "model_name": "LayoutModel",
          "model_module_version": "1.2.0",
          "state": {
            "_model_module": "@jupyter-widgets/base",
            "_model_module_version": "1.2.0",
            "_model_name": "LayoutModel",
            "_view_count": null,
            "_view_module": "@jupyter-widgets/base",
            "_view_module_version": "1.2.0",
            "_view_name": "LayoutView",
            "align_content": null,
            "align_items": null,
            "align_self": null,
            "border": null,
            "bottom": null,
            "display": null,
            "flex": null,
            "flex_flow": null,
            "grid_area": null,
            "grid_auto_columns": null,
            "grid_auto_flow": null,
            "grid_auto_rows": null,
            "grid_column": null,
            "grid_gap": null,
            "grid_row": null,
            "grid_template_areas": null,
            "grid_template_columns": null,
            "grid_template_rows": null,
            "height": null,
            "justify_content": null,
            "justify_items": null,
            "left": null,
            "margin": null,
            "max_height": null,
            "max_width": null,
            "min_height": null,
            "min_width": null,
            "object_fit": null,
            "object_position": null,
            "order": null,
            "overflow": null,
            "overflow_x": null,
            "overflow_y": null,
            "padding": null,
            "right": null,
            "top": null,
            "visibility": null,
            "width": null
          }
        },
        "feef08b4a3c846b39484ec5f139f1043": {
          "model_module": "@jupyter-widgets/controls",
          "model_name": "ProgressStyleModel",
          "model_module_version": "1.5.0",
          "state": {
            "_model_module": "@jupyter-widgets/controls",
            "_model_module_version": "1.5.0",
            "_model_name": "ProgressStyleModel",
            "_view_count": null,
            "_view_module": "@jupyter-widgets/base",
            "_view_module_version": "1.2.0",
            "_view_name": "StyleView",
            "bar_color": null,
            "description_width": ""
          }
        },
        "292361843de24bb5bc17cf3ca6d16e24": {
          "model_module": "@jupyter-widgets/base",
          "model_name": "LayoutModel",
          "model_module_version": "1.2.0",
          "state": {
            "_model_module": "@jupyter-widgets/base",
            "_model_module_version": "1.2.0",
            "_model_name": "LayoutModel",
            "_view_count": null,
            "_view_module": "@jupyter-widgets/base",
            "_view_module_version": "1.2.0",
            "_view_name": "LayoutView",
            "align_content": null,
            "align_items": null,
            "align_self": null,
            "border": null,
            "bottom": null,
            "display": null,
            "flex": null,
            "flex_flow": null,
            "grid_area": null,
            "grid_auto_columns": null,
            "grid_auto_flow": null,
            "grid_auto_rows": null,
            "grid_column": null,
            "grid_gap": null,
            "grid_row": null,
            "grid_template_areas": null,
            "grid_template_columns": null,
            "grid_template_rows": null,
            "height": null,
            "justify_content": null,
            "justify_items": null,
            "left": null,
            "margin": null,
            "max_height": null,
            "max_width": null,
            "min_height": null,
            "min_width": null,
            "object_fit": null,
            "object_position": null,
            "order": null,
            "overflow": null,
            "overflow_x": null,
            "overflow_y": null,
            "padding": null,
            "right": null,
            "top": null,
            "visibility": null,
            "width": null
          }
        },
        "bdb2ba90c9ba4229884973b376cd5910": {
          "model_module": "@jupyter-widgets/controls",
          "model_name": "DescriptionStyleModel",
          "model_module_version": "1.5.0",
          "state": {
            "_model_module": "@jupyter-widgets/controls",
            "_model_module_version": "1.5.0",
            "_model_name": "DescriptionStyleModel",
            "_view_count": null,
            "_view_module": "@jupyter-widgets/base",
            "_view_module_version": "1.2.0",
            "_view_name": "StyleView",
            "description_width": ""
          }
        },
        "c29e142076944ef2b02c2e1fb7710325": {
          "model_module": "@jupyter-widgets/controls",
          "model_name": "HBoxModel",
          "model_module_version": "1.5.0",
          "state": {
            "_dom_classes": [],
            "_model_module": "@jupyter-widgets/controls",
            "_model_module_version": "1.5.0",
            "_model_name": "HBoxModel",
            "_view_count": null,
            "_view_module": "@jupyter-widgets/controls",
            "_view_module_version": "1.5.0",
            "_view_name": "HBoxView",
            "box_style": "",
            "children": [
              "IPY_MODEL_9141c1b2f3444638a795b460d72542f9",
              "IPY_MODEL_ca27c80ffa1d40108cae7504386c05a6",
              "IPY_MODEL_c56af19ec98d4c00a44e7fa849ea563c"
            ],
            "layout": "IPY_MODEL_947a0f5c17624184b2ae8c71b985aabb"
          }
        },
        "9141c1b2f3444638a795b460d72542f9": {
          "model_module": "@jupyter-widgets/controls",
          "model_name": "HTMLModel",
          "model_module_version": "1.5.0",
          "state": {
            "_dom_classes": [],
            "_model_module": "@jupyter-widgets/controls",
            "_model_module_version": "1.5.0",
            "_model_name": "HTMLModel",
            "_view_count": null,
            "_view_module": "@jupyter-widgets/controls",
            "_view_module_version": "1.5.0",
            "_view_name": "HTMLView",
            "description": "",
            "description_tooltip": null,
            "layout": "IPY_MODEL_377e3ead05c94845960f2364556462e8",
            "placeholder": "​",
            "style": "IPY_MODEL_945322d8d3424987b5e3c07a6d203986",
            "value": "Downloading (…)cial_tokens_map.json: 100%"
          }
        },
        "ca27c80ffa1d40108cae7504386c05a6": {
          "model_module": "@jupyter-widgets/controls",
          "model_name": "FloatProgressModel",
          "model_module_version": "1.5.0",
          "state": {
            "_dom_classes": [],
            "_model_module": "@jupyter-widgets/controls",
            "_model_module_version": "1.5.0",
            "_model_name": "FloatProgressModel",
            "_view_count": null,
            "_view_module": "@jupyter-widgets/controls",
            "_view_module_version": "1.5.0",
            "_view_name": "ProgressView",
            "bar_style": "success",
            "description": "",
            "description_tooltip": null,
            "layout": "IPY_MODEL_55f139008e0a4a398c0c125ad65da974",
            "max": 134,
            "min": 0,
            "orientation": "horizontal",
            "style": "IPY_MODEL_e79ce655155943a7bf7f3265f5897d15",
            "value": 134
          }
        },
        "c56af19ec98d4c00a44e7fa849ea563c": {
          "model_module": "@jupyter-widgets/controls",
          "model_name": "HTMLModel",
          "model_module_version": "1.5.0",
          "state": {
            "_dom_classes": [],
            "_model_module": "@jupyter-widgets/controls",
            "_model_module_version": "1.5.0",
            "_model_name": "HTMLModel",
            "_view_count": null,
            "_view_module": "@jupyter-widgets/controls",
            "_view_module_version": "1.5.0",
            "_view_name": "HTMLView",
            "description": "",
            "description_tooltip": null,
            "layout": "IPY_MODEL_c3c051f4f7cf45a98354e7532b180ce5",
            "placeholder": "​",
            "style": "IPY_MODEL_ff1b1d389e3540e1aa161fd7923eb5b5",
            "value": " 134/134 [00:00&lt;00:00, 4.07kB/s]"
          }
        },
        "947a0f5c17624184b2ae8c71b985aabb": {
          "model_module": "@jupyter-widgets/base",
          "model_name": "LayoutModel",
          "model_module_version": "1.2.0",
          "state": {
            "_model_module": "@jupyter-widgets/base",
            "_model_module_version": "1.2.0",
            "_model_name": "LayoutModel",
            "_view_count": null,
            "_view_module": "@jupyter-widgets/base",
            "_view_module_version": "1.2.0",
            "_view_name": "LayoutView",
            "align_content": null,
            "align_items": null,
            "align_self": null,
            "border": null,
            "bottom": null,
            "display": null,
            "flex": null,
            "flex_flow": null,
            "grid_area": null,
            "grid_auto_columns": null,
            "grid_auto_flow": null,
            "grid_auto_rows": null,
            "grid_column": null,
            "grid_gap": null,
            "grid_row": null,
            "grid_template_areas": null,
            "grid_template_columns": null,
            "grid_template_rows": null,
            "height": null,
            "justify_content": null,
            "justify_items": null,
            "left": null,
            "margin": null,
            "max_height": null,
            "max_width": null,
            "min_height": null,
            "min_width": null,
            "object_fit": null,
            "object_position": null,
            "order": null,
            "overflow": null,
            "overflow_x": null,
            "overflow_y": null,
            "padding": null,
            "right": null,
            "top": null,
            "visibility": null,
            "width": null
          }
        },
        "377e3ead05c94845960f2364556462e8": {
          "model_module": "@jupyter-widgets/base",
          "model_name": "LayoutModel",
          "model_module_version": "1.2.0",
          "state": {
            "_model_module": "@jupyter-widgets/base",
            "_model_module_version": "1.2.0",
            "_model_name": "LayoutModel",
            "_view_count": null,
            "_view_module": "@jupyter-widgets/base",
            "_view_module_version": "1.2.0",
            "_view_name": "LayoutView",
            "align_content": null,
            "align_items": null,
            "align_self": null,
            "border": null,
            "bottom": null,
            "display": null,
            "flex": null,
            "flex_flow": null,
            "grid_area": null,
            "grid_auto_columns": null,
            "grid_auto_flow": null,
            "grid_auto_rows": null,
            "grid_column": null,
            "grid_gap": null,
            "grid_row": null,
            "grid_template_areas": null,
            "grid_template_columns": null,
            "grid_template_rows": null,
            "height": null,
            "justify_content": null,
            "justify_items": null,
            "left": null,
            "margin": null,
            "max_height": null,
            "max_width": null,
            "min_height": null,
            "min_width": null,
            "object_fit": null,
            "object_position": null,
            "order": null,
            "overflow": null,
            "overflow_x": null,
            "overflow_y": null,
            "padding": null,
            "right": null,
            "top": null,
            "visibility": null,
            "width": null
          }
        },
        "945322d8d3424987b5e3c07a6d203986": {
          "model_module": "@jupyter-widgets/controls",
          "model_name": "DescriptionStyleModel",
          "model_module_version": "1.5.0",
          "state": {
            "_model_module": "@jupyter-widgets/controls",
            "_model_module_version": "1.5.0",
            "_model_name": "DescriptionStyleModel",
            "_view_count": null,
            "_view_module": "@jupyter-widgets/base",
            "_view_module_version": "1.2.0",
            "_view_name": "StyleView",
            "description_width": ""
          }
        },
        "55f139008e0a4a398c0c125ad65da974": {
          "model_module": "@jupyter-widgets/base",
          "model_name": "LayoutModel",
          "model_module_version": "1.2.0",
          "state": {
            "_model_module": "@jupyter-widgets/base",
            "_model_module_version": "1.2.0",
            "_model_name": "LayoutModel",
            "_view_count": null,
            "_view_module": "@jupyter-widgets/base",
            "_view_module_version": "1.2.0",
            "_view_name": "LayoutView",
            "align_content": null,
            "align_items": null,
            "align_self": null,
            "border": null,
            "bottom": null,
            "display": null,
            "flex": null,
            "flex_flow": null,
            "grid_area": null,
            "grid_auto_columns": null,
            "grid_auto_flow": null,
            "grid_auto_rows": null,
            "grid_column": null,
            "grid_gap": null,
            "grid_row": null,
            "grid_template_areas": null,
            "grid_template_columns": null,
            "grid_template_rows": null,
            "height": null,
            "justify_content": null,
            "justify_items": null,
            "left": null,
            "margin": null,
            "max_height": null,
            "max_width": null,
            "min_height": null,
            "min_width": null,
            "object_fit": null,
            "object_position": null,
            "order": null,
            "overflow": null,
            "overflow_x": null,
            "overflow_y": null,
            "padding": null,
            "right": null,
            "top": null,
            "visibility": null,
            "width": null
          }
        },
        "e79ce655155943a7bf7f3265f5897d15": {
          "model_module": "@jupyter-widgets/controls",
          "model_name": "ProgressStyleModel",
          "model_module_version": "1.5.0",
          "state": {
            "_model_module": "@jupyter-widgets/controls",
            "_model_module_version": "1.5.0",
            "_model_name": "ProgressStyleModel",
            "_view_count": null,
            "_view_module": "@jupyter-widgets/base",
            "_view_module_version": "1.2.0",
            "_view_name": "StyleView",
            "bar_color": null,
            "description_width": ""
          }
        },
        "c3c051f4f7cf45a98354e7532b180ce5": {
          "model_module": "@jupyter-widgets/base",
          "model_name": "LayoutModel",
          "model_module_version": "1.2.0",
          "state": {
            "_model_module": "@jupyter-widgets/base",
            "_model_module_version": "1.2.0",
            "_model_name": "LayoutModel",
            "_view_count": null,
            "_view_module": "@jupyter-widgets/base",
            "_view_module_version": "1.2.0",
            "_view_name": "LayoutView",
            "align_content": null,
            "align_items": null,
            "align_self": null,
            "border": null,
            "bottom": null,
            "display": null,
            "flex": null,
            "flex_flow": null,
            "grid_area": null,
            "grid_auto_columns": null,
            "grid_auto_flow": null,
            "grid_auto_rows": null,
            "grid_column": null,
            "grid_gap": null,
            "grid_row": null,
            "grid_template_areas": null,
            "grid_template_columns": null,
            "grid_template_rows": null,
            "height": null,
            "justify_content": null,
            "justify_items": null,
            "left": null,
            "margin": null,
            "max_height": null,
            "max_width": null,
            "min_height": null,
            "min_width": null,
            "object_fit": null,
            "object_position": null,
            "order": null,
            "overflow": null,
            "overflow_x": null,
            "overflow_y": null,
            "padding": null,
            "right": null,
            "top": null,
            "visibility": null,
            "width": null
          }
        },
        "ff1b1d389e3540e1aa161fd7923eb5b5": {
          "model_module": "@jupyter-widgets/controls",
          "model_name": "DescriptionStyleModel",
          "model_module_version": "1.5.0",
          "state": {
            "_model_module": "@jupyter-widgets/controls",
            "_model_module_version": "1.5.0",
            "_model_name": "DescriptionStyleModel",
            "_view_count": null,
            "_view_module": "@jupyter-widgets/base",
            "_view_module_version": "1.2.0",
            "_view_name": "StyleView",
            "description_width": ""
          }
        },
        "8426d81109464c98ab144e99e23f91f6": {
          "model_module": "@jupyter-widgets/controls",
          "model_name": "HBoxModel",
          "model_module_version": "1.5.0",
          "state": {
            "_dom_classes": [],
            "_model_module": "@jupyter-widgets/controls",
            "_model_module_version": "1.5.0",
            "_model_name": "HBoxModel",
            "_view_count": null,
            "_view_module": "@jupyter-widgets/controls",
            "_view_module_version": "1.5.0",
            "_view_name": "HBoxView",
            "box_style": "",
            "children": [
              "IPY_MODEL_b6df575f11e64e32a762afc14002bd8b",
              "IPY_MODEL_97fb0333d61949468642928a90a2b3fe",
              "IPY_MODEL_b11b8250653440f89b27afc1925a99bb"
            ],
            "layout": "IPY_MODEL_4f1d5305537e409aa4835ad29c4c0c4e"
          }
        },
        "b6df575f11e64e32a762afc14002bd8b": {
          "model_module": "@jupyter-widgets/controls",
          "model_name": "HTMLModel",
          "model_module_version": "1.5.0",
          "state": {
            "_dom_classes": [],
            "_model_module": "@jupyter-widgets/controls",
            "_model_module_version": "1.5.0",
            "_model_name": "HTMLModel",
            "_view_count": null,
            "_view_module": "@jupyter-widgets/controls",
            "_view_module_version": "1.5.0",
            "_view_name": "HTMLView",
            "description": "",
            "description_tooltip": null,
            "layout": "IPY_MODEL_b1020b8769174139a12cfba84efbeb12",
            "placeholder": "​",
            "style": "IPY_MODEL_213ef0ed1dd84588b2b9d7759f2e44cf",
            "value": "Downloading (…)&quot;pytorch_model.bin&quot;;: 100%"
          }
        },
        "97fb0333d61949468642928a90a2b3fe": {
          "model_module": "@jupyter-widgets/controls",
          "model_name": "FloatProgressModel",
          "model_module_version": "1.5.0",
          "state": {
            "_dom_classes": [],
            "_model_module": "@jupyter-widgets/controls",
            "_model_module_version": "1.5.0",
            "_model_name": "FloatProgressModel",
            "_view_count": null,
            "_view_module": "@jupyter-widgets/controls",
            "_view_module_version": "1.5.0",
            "_view_name": "ProgressView",
            "bar_style": "success",
            "description": "",
            "description_tooltip": null,
            "layout": "IPY_MODEL_d4eb2a0b07c04baaa92014ddd5f76f4f",
            "max": 439621341,
            "min": 0,
            "orientation": "horizontal",
            "style": "IPY_MODEL_e5fecd5d92fa4d4698763f30c1d4fb5f",
            "value": 439621341
          }
        },
        "b11b8250653440f89b27afc1925a99bb": {
          "model_module": "@jupyter-widgets/controls",
          "model_name": "HTMLModel",
          "model_module_version": "1.5.0",
          "state": {
            "_dom_classes": [],
            "_model_module": "@jupyter-widgets/controls",
            "_model_module_version": "1.5.0",
            "_model_name": "HTMLModel",
            "_view_count": null,
            "_view_module": "@jupyter-widgets/controls",
            "_view_module_version": "1.5.0",
            "_view_name": "HTMLView",
            "description": "",
            "description_tooltip": null,
            "layout": "IPY_MODEL_1ed33af4779747ada46c290ed649f324",
            "placeholder": "​",
            "style": "IPY_MODEL_665bd616f8ae44ec9533e15d89fea257",
            "value": " 440M/440M [00:05&lt;00:00, 72.3MB/s]"
          }
        },
        "4f1d5305537e409aa4835ad29c4c0c4e": {
          "model_module": "@jupyter-widgets/base",
          "model_name": "LayoutModel",
          "model_module_version": "1.2.0",
          "state": {
            "_model_module": "@jupyter-widgets/base",
            "_model_module_version": "1.2.0",
            "_model_name": "LayoutModel",
            "_view_count": null,
            "_view_module": "@jupyter-widgets/base",
            "_view_module_version": "1.2.0",
            "_view_name": "LayoutView",
            "align_content": null,
            "align_items": null,
            "align_self": null,
            "border": null,
            "bottom": null,
            "display": null,
            "flex": null,
            "flex_flow": null,
            "grid_area": null,
            "grid_auto_columns": null,
            "grid_auto_flow": null,
            "grid_auto_rows": null,
            "grid_column": null,
            "grid_gap": null,
            "grid_row": null,
            "grid_template_areas": null,
            "grid_template_columns": null,
            "grid_template_rows": null,
            "height": null,
            "justify_content": null,
            "justify_items": null,
            "left": null,
            "margin": null,
            "max_height": null,
            "max_width": null,
            "min_height": null,
            "min_width": null,
            "object_fit": null,
            "object_position": null,
            "order": null,
            "overflow": null,
            "overflow_x": null,
            "overflow_y": null,
            "padding": null,
            "right": null,
            "top": null,
            "visibility": null,
            "width": null
          }
        },
        "b1020b8769174139a12cfba84efbeb12": {
          "model_module": "@jupyter-widgets/base",
          "model_name": "LayoutModel",
          "model_module_version": "1.2.0",
          "state": {
            "_model_module": "@jupyter-widgets/base",
            "_model_module_version": "1.2.0",
            "_model_name": "LayoutModel",
            "_view_count": null,
            "_view_module": "@jupyter-widgets/base",
            "_view_module_version": "1.2.0",
            "_view_name": "LayoutView",
            "align_content": null,
            "align_items": null,
            "align_self": null,
            "border": null,
            "bottom": null,
            "display": null,
            "flex": null,
            "flex_flow": null,
            "grid_area": null,
            "grid_auto_columns": null,
            "grid_auto_flow": null,
            "grid_auto_rows": null,
            "grid_column": null,
            "grid_gap": null,
            "grid_row": null,
            "grid_template_areas": null,
            "grid_template_columns": null,
            "grid_template_rows": null,
            "height": null,
            "justify_content": null,
            "justify_items": null,
            "left": null,
            "margin": null,
            "max_height": null,
            "max_width": null,
            "min_height": null,
            "min_width": null,
            "object_fit": null,
            "object_position": null,
            "order": null,
            "overflow": null,
            "overflow_x": null,
            "overflow_y": null,
            "padding": null,
            "right": null,
            "top": null,
            "visibility": null,
            "width": null
          }
        },
        "213ef0ed1dd84588b2b9d7759f2e44cf": {
          "model_module": "@jupyter-widgets/controls",
          "model_name": "DescriptionStyleModel",
          "model_module_version": "1.5.0",
          "state": {
            "_model_module": "@jupyter-widgets/controls",
            "_model_module_version": "1.5.0",
            "_model_name": "DescriptionStyleModel",
            "_view_count": null,
            "_view_module": "@jupyter-widgets/base",
            "_view_module_version": "1.2.0",
            "_view_name": "StyleView",
            "description_width": ""
          }
        },
        "d4eb2a0b07c04baaa92014ddd5f76f4f": {
          "model_module": "@jupyter-widgets/base",
          "model_name": "LayoutModel",
          "model_module_version": "1.2.0",
          "state": {
            "_model_module": "@jupyter-widgets/base",
            "_model_module_version": "1.2.0",
            "_model_name": "LayoutModel",
            "_view_count": null,
            "_view_module": "@jupyter-widgets/base",
            "_view_module_version": "1.2.0",
            "_view_name": "LayoutView",
            "align_content": null,
            "align_items": null,
            "align_self": null,
            "border": null,
            "bottom": null,
            "display": null,
            "flex": null,
            "flex_flow": null,
            "grid_area": null,
            "grid_auto_columns": null,
            "grid_auto_flow": null,
            "grid_auto_rows": null,
            "grid_column": null,
            "grid_gap": null,
            "grid_row": null,
            "grid_template_areas": null,
            "grid_template_columns": null,
            "grid_template_rows": null,
            "height": null,
            "justify_content": null,
            "justify_items": null,
            "left": null,
            "margin": null,
            "max_height": null,
            "max_width": null,
            "min_height": null,
            "min_width": null,
            "object_fit": null,
            "object_position": null,
            "order": null,
            "overflow": null,
            "overflow_x": null,
            "overflow_y": null,
            "padding": null,
            "right": null,
            "top": null,
            "visibility": null,
            "width": null
          }
        },
        "e5fecd5d92fa4d4698763f30c1d4fb5f": {
          "model_module": "@jupyter-widgets/controls",
          "model_name": "ProgressStyleModel",
          "model_module_version": "1.5.0",
          "state": {
            "_model_module": "@jupyter-widgets/controls",
            "_model_module_version": "1.5.0",
            "_model_name": "ProgressStyleModel",
            "_view_count": null,
            "_view_module": "@jupyter-widgets/base",
            "_view_module_version": "1.2.0",
            "_view_name": "StyleView",
            "bar_color": null,
            "description_width": ""
          }
        },
        "1ed33af4779747ada46c290ed649f324": {
          "model_module": "@jupyter-widgets/base",
          "model_name": "LayoutModel",
          "model_module_version": "1.2.0",
          "state": {
            "_model_module": "@jupyter-widgets/base",
            "_model_module_version": "1.2.0",
            "_model_name": "LayoutModel",
            "_view_count": null,
            "_view_module": "@jupyter-widgets/base",
            "_view_module_version": "1.2.0",
            "_view_name": "LayoutView",
            "align_content": null,
            "align_items": null,
            "align_self": null,
            "border": null,
            "bottom": null,
            "display": null,
            "flex": null,
            "flex_flow": null,
            "grid_area": null,
            "grid_auto_columns": null,
            "grid_auto_flow": null,
            "grid_auto_rows": null,
            "grid_column": null,
            "grid_gap": null,
            "grid_row": null,
            "grid_template_areas": null,
            "grid_template_columns": null,
            "grid_template_rows": null,
            "height": null,
            "justify_content": null,
            "justify_items": null,
            "left": null,
            "margin": null,
            "max_height": null,
            "max_width": null,
            "min_height": null,
            "min_width": null,
            "object_fit": null,
            "object_position": null,
            "order": null,
            "overflow": null,
            "overflow_x": null,
            "overflow_y": null,
            "padding": null,
            "right": null,
            "top": null,
            "visibility": null,
            "width": null
          }
        },
        "665bd616f8ae44ec9533e15d89fea257": {
          "model_module": "@jupyter-widgets/controls",
          "model_name": "DescriptionStyleModel",
          "model_module_version": "1.5.0",
          "state": {
            "_model_module": "@jupyter-widgets/controls",
            "_model_module_version": "1.5.0",
            "_model_name": "DescriptionStyleModel",
            "_view_count": null,
            "_view_module": "@jupyter-widgets/base",
            "_view_module_version": "1.2.0",
            "_view_name": "StyleView",
            "description_width": ""
          }
        }
      }
    }
  },
  "nbformat": 4,
  "nbformat_minor": 0
}