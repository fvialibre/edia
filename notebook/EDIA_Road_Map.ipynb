{
  "nbformat": 4,
  "nbformat_minor": 0,
  "metadata": {
    "colab": {
      "provenance": [],
      "toc_visible": true,
      "authorship_tag": "ABX9TyNQpizAvB7CMnyn241sEJgW",
      "include_colab_link": true
    },
    "kernelspec": {
      "name": "python3",
      "display_name": "Python 3"
    },
    "language_info": {
      "name": "python"
    },
    "widgets": {
      "application/vnd.jupyter.widget-state+json": {
        "a40f3d898b014fdcbe9bbc06147d4b1c": {
          "model_module": "@jupyter-widgets/controls",
          "model_name": "HBoxModel",
          "model_module_version": "1.5.0",
          "state": {
            "_dom_classes": [],
            "_model_module": "@jupyter-widgets/controls",
            "_model_module_version": "1.5.0",
            "_model_name": "HBoxModel",
            "_view_count": null,
            "_view_module": "@jupyter-widgets/controls",
            "_view_module_version": "1.5.0",
            "_view_name": "HBoxView",
            "box_style": "",
            "children": [
              "IPY_MODEL_765587ae54de4687992004c7c9d252b2",
              "IPY_MODEL_a56686aea9f544f0bf1ebfa01bd9b7e5",
              "IPY_MODEL_d652ae4e56514cefbb5a8c0b0a311cd0"
            ],
            "layout": "IPY_MODEL_fbdddb62ddaa49da952a856063caf49e"
          }
        },
        "765587ae54de4687992004c7c9d252b2": {
          "model_module": "@jupyter-widgets/controls",
          "model_name": "HTMLModel",
          "model_module_version": "1.5.0",
          "state": {
            "_dom_classes": [],
            "_model_module": "@jupyter-widgets/controls",
            "_model_module_version": "1.5.0",
            "_model_name": "HTMLModel",
            "_view_count": null,
            "_view_module": "@jupyter-widgets/controls",
            "_view_module_version": "1.5.0",
            "_view_name": "HTMLView",
            "description": "",
            "description_tooltip": null,
            "layout": "IPY_MODEL_ffb40c2d9b9a41d8b178fc131ecc05cc",
            "placeholder": "​",
            "style": "IPY_MODEL_10b8f47f7c024fecbeb45f469126e686",
            "value": "Downloading builder script: 100%"
          }
        },
        "a56686aea9f544f0bf1ebfa01bd9b7e5": {
          "model_module": "@jupyter-widgets/controls",
          "model_name": "FloatProgressModel",
          "model_module_version": "1.5.0",
          "state": {
            "_dom_classes": [],
            "_model_module": "@jupyter-widgets/controls",
            "_model_module_version": "1.5.0",
            "_model_name": "FloatProgressModel",
            "_view_count": null,
            "_view_module": "@jupyter-widgets/controls",
            "_view_module_version": "1.5.0",
            "_view_name": "ProgressView",
            "bar_style": "success",
            "description": "",
            "description_tooltip": null,
            "layout": "IPY_MODEL_f85454df7cd74da7a992f08727bbac13",
            "max": 151658,
            "min": 0,
            "orientation": "horizontal",
            "style": "IPY_MODEL_4d13dc8f7fe8463bbe8ad468b1534ec3",
            "value": 151658
          }
        },
        "d652ae4e56514cefbb5a8c0b0a311cd0": {
          "model_module": "@jupyter-widgets/controls",
          "model_name": "HTMLModel",
          "model_module_version": "1.5.0",
          "state": {
            "_dom_classes": [],
            "_model_module": "@jupyter-widgets/controls",
            "_model_module_version": "1.5.0",
            "_model_name": "HTMLModel",
            "_view_count": null,
            "_view_module": "@jupyter-widgets/controls",
            "_view_module_version": "1.5.0",
            "_view_name": "HTMLView",
            "description": "",
            "description_tooltip": null,
            "layout": "IPY_MODEL_61bda385fb3745e58e6509192f5b470e",
            "placeholder": "​",
            "style": "IPY_MODEL_8c4ccddd41e84f72a59b13d404f5ea3c",
            "value": " 152k/152k [00:00&lt;00:00, 2.86MB/s]"
          }
        },
        "fbdddb62ddaa49da952a856063caf49e": {
          "model_module": "@jupyter-widgets/base",
          "model_name": "LayoutModel",
          "model_module_version": "1.2.0",
          "state": {
            "_model_module": "@jupyter-widgets/base",
            "_model_module_version": "1.2.0",
            "_model_name": "LayoutModel",
            "_view_count": null,
            "_view_module": "@jupyter-widgets/base",
            "_view_module_version": "1.2.0",
            "_view_name": "LayoutView",
            "align_content": null,
            "align_items": null,
            "align_self": null,
            "border": null,
            "bottom": null,
            "display": null,
            "flex": null,
            "flex_flow": null,
            "grid_area": null,
            "grid_auto_columns": null,
            "grid_auto_flow": null,
            "grid_auto_rows": null,
            "grid_column": null,
            "grid_gap": null,
            "grid_row": null,
            "grid_template_areas": null,
            "grid_template_columns": null,
            "grid_template_rows": null,
            "height": null,
            "justify_content": null,
            "justify_items": null,
            "left": null,
            "margin": null,
            "max_height": null,
            "max_width": null,
            "min_height": null,
            "min_width": null,
            "object_fit": null,
            "object_position": null,
            "order": null,
            "overflow": null,
            "overflow_x": null,
            "overflow_y": null,
            "padding": null,
            "right": null,
            "top": null,
            "visibility": null,
            "width": null
          }
        },
        "ffb40c2d9b9a41d8b178fc131ecc05cc": {
          "model_module": "@jupyter-widgets/base",
          "model_name": "LayoutModel",
          "model_module_version": "1.2.0",
          "state": {
            "_model_module": "@jupyter-widgets/base",
            "_model_module_version": "1.2.0",
            "_model_name": "LayoutModel",
            "_view_count": null,
            "_view_module": "@jupyter-widgets/base",
            "_view_module_version": "1.2.0",
            "_view_name": "LayoutView",
            "align_content": null,
            "align_items": null,
            "align_self": null,
            "border": null,
            "bottom": null,
            "display": null,
            "flex": null,
            "flex_flow": null,
            "grid_area": null,
            "grid_auto_columns": null,
            "grid_auto_flow": null,
            "grid_auto_rows": null,
            "grid_column": null,
            "grid_gap": null,
            "grid_row": null,
            "grid_template_areas": null,
            "grid_template_columns": null,
            "grid_template_rows": null,
            "height": null,
            "justify_content": null,
            "justify_items": null,
            "left": null,
            "margin": null,
            "max_height": null,
            "max_width": null,
            "min_height": null,
            "min_width": null,
            "object_fit": null,
            "object_position": null,
            "order": null,
            "overflow": null,
            "overflow_x": null,
            "overflow_y": null,
            "padding": null,
            "right": null,
            "top": null,
            "visibility": null,
            "width": null
          }
        },
        "10b8f47f7c024fecbeb45f469126e686": {
          "model_module": "@jupyter-widgets/controls",
          "model_name": "DescriptionStyleModel",
          "model_module_version": "1.5.0",
          "state": {
            "_model_module": "@jupyter-widgets/controls",
            "_model_module_version": "1.5.0",
            "_model_name": "DescriptionStyleModel",
            "_view_count": null,
            "_view_module": "@jupyter-widgets/base",
            "_view_module_version": "1.2.0",
            "_view_name": "StyleView",
            "description_width": ""
          }
        },
        "f85454df7cd74da7a992f08727bbac13": {
          "model_module": "@jupyter-widgets/base",
          "model_name": "LayoutModel",
          "model_module_version": "1.2.0",
          "state": {
            "_model_module": "@jupyter-widgets/base",
            "_model_module_version": "1.2.0",
            "_model_name": "LayoutModel",
            "_view_count": null,
            "_view_module": "@jupyter-widgets/base",
            "_view_module_version": "1.2.0",
            "_view_name": "LayoutView",
            "align_content": null,
            "align_items": null,
            "align_self": null,
            "border": null,
            "bottom": null,
            "display": null,
            "flex": null,
            "flex_flow": null,
            "grid_area": null,
            "grid_auto_columns": null,
            "grid_auto_flow": null,
            "grid_auto_rows": null,
            "grid_column": null,
            "grid_gap": null,
            "grid_row": null,
            "grid_template_areas": null,
            "grid_template_columns": null,
            "grid_template_rows": null,
            "height": null,
            "justify_content": null,
            "justify_items": null,
            "left": null,
            "margin": null,
            "max_height": null,
            "max_width": null,
            "min_height": null,
            "min_width": null,
            "object_fit": null,
            "object_position": null,
            "order": null,
            "overflow": null,
            "overflow_x": null,
            "overflow_y": null,
            "padding": null,
            "right": null,
            "top": null,
            "visibility": null,
            "width": null
          }
        },
        "4d13dc8f7fe8463bbe8ad468b1534ec3": {
          "model_module": "@jupyter-widgets/controls",
          "model_name": "ProgressStyleModel",
          "model_module_version": "1.5.0",
          "state": {
            "_model_module": "@jupyter-widgets/controls",
            "_model_module_version": "1.5.0",
            "_model_name": "ProgressStyleModel",
            "_view_count": null,
            "_view_module": "@jupyter-widgets/base",
            "_view_module_version": "1.2.0",
            "_view_name": "StyleView",
            "bar_color": null,
            "description_width": ""
          }
        },
        "61bda385fb3745e58e6509192f5b470e": {
          "model_module": "@jupyter-widgets/base",
          "model_name": "LayoutModel",
          "model_module_version": "1.2.0",
          "state": {
            "_model_module": "@jupyter-widgets/base",
            "_model_module_version": "1.2.0",
            "_model_name": "LayoutModel",
            "_view_count": null,
            "_view_module": "@jupyter-widgets/base",
            "_view_module_version": "1.2.0",
            "_view_name": "LayoutView",
            "align_content": null,
            "align_items": null,
            "align_self": null,
            "border": null,
            "bottom": null,
            "display": null,
            "flex": null,
            "flex_flow": null,
            "grid_area": null,
            "grid_auto_columns": null,
            "grid_auto_flow": null,
            "grid_auto_rows": null,
            "grid_column": null,
            "grid_gap": null,
            "grid_row": null,
            "grid_template_areas": null,
            "grid_template_columns": null,
            "grid_template_rows": null,
            "height": null,
            "justify_content": null,
            "justify_items": null,
            "left": null,
            "margin": null,
            "max_height": null,
            "max_width": null,
            "min_height": null,
            "min_width": null,
            "object_fit": null,
            "object_position": null,
            "order": null,
            "overflow": null,
            "overflow_x": null,
            "overflow_y": null,
            "padding": null,
            "right": null,
            "top": null,
            "visibility": null,
            "width": null
          }
        },
        "8c4ccddd41e84f72a59b13d404f5ea3c": {
          "model_module": "@jupyter-widgets/controls",
          "model_name": "DescriptionStyleModel",
          "model_module_version": "1.5.0",
          "state": {
            "_model_module": "@jupyter-widgets/controls",
            "_model_module_version": "1.5.0",
            "_model_name": "DescriptionStyleModel",
            "_view_count": null,
            "_view_module": "@jupyter-widgets/base",
            "_view_module_version": "1.2.0",
            "_view_name": "StyleView",
            "description_width": ""
          }
        },
        "d74c1c80eaf64789b58675cfe7392dc2": {
          "model_module": "@jupyter-widgets/controls",
          "model_name": "HBoxModel",
          "model_module_version": "1.5.0",
          "state": {
            "_dom_classes": [],
            "_model_module": "@jupyter-widgets/controls",
            "_model_module_version": "1.5.0",
            "_model_name": "HBoxModel",
            "_view_count": null,
            "_view_module": "@jupyter-widgets/controls",
            "_view_module_version": "1.5.0",
            "_view_name": "HBoxView",
            "box_style": "",
            "children": [
              "IPY_MODEL_f46ae7f4a51f48259268a0c531d49c80",
              "IPY_MODEL_3b955cf98c4546cc80e4ec54258cb868",
              "IPY_MODEL_9b667fdb4ac44b02b31dffcc63961139"
            ],
            "layout": "IPY_MODEL_4407aa2f2cee468caea83bda9c46dd31"
          }
        },
        "f46ae7f4a51f48259268a0c531d49c80": {
          "model_module": "@jupyter-widgets/controls",
          "model_name": "HTMLModel",
          "model_module_version": "1.5.0",
          "state": {
            "_dom_classes": [],
            "_model_module": "@jupyter-widgets/controls",
            "_model_module_version": "1.5.0",
            "_model_name": "HTMLModel",
            "_view_count": null,
            "_view_module": "@jupyter-widgets/controls",
            "_view_module_version": "1.5.0",
            "_view_name": "HTMLView",
            "description": "",
            "description_tooltip": null,
            "layout": "IPY_MODEL_2e0d908df1ab49bdb963a64f82fc1359",
            "placeholder": "​",
            "style": "IPY_MODEL_3827c80bdd264bc4bd31fddb1887c55e",
            "value": "Downloading readme: 100%"
          }
        },
        "3b955cf98c4546cc80e4ec54258cb868": {
          "model_module": "@jupyter-widgets/controls",
          "model_name": "FloatProgressModel",
          "model_module_version": "1.5.0",
          "state": {
            "_dom_classes": [],
            "_model_module": "@jupyter-widgets/controls",
            "_model_module_version": "1.5.0",
            "_model_name": "FloatProgressModel",
            "_view_count": null,
            "_view_module": "@jupyter-widgets/controls",
            "_view_module_version": "1.5.0",
            "_view_name": "ProgressView",
            "bar_style": "success",
            "description": "",
            "description_tooltip": null,
            "layout": "IPY_MODEL_2e50db873f0a4783942f1ea378f1813f",
            "max": 2999,
            "min": 0,
            "orientation": "horizontal",
            "style": "IPY_MODEL_d2f7ef8969354160a556226078829b97",
            "value": 2999
          }
        },
        "9b667fdb4ac44b02b31dffcc63961139": {
          "model_module": "@jupyter-widgets/controls",
          "model_name": "HTMLModel",
          "model_module_version": "1.5.0",
          "state": {
            "_dom_classes": [],
            "_model_module": "@jupyter-widgets/controls",
            "_model_module_version": "1.5.0",
            "_model_name": "HTMLModel",
            "_view_count": null,
            "_view_module": "@jupyter-widgets/controls",
            "_view_module_version": "1.5.0",
            "_view_name": "HTMLView",
            "description": "",
            "description_tooltip": null,
            "layout": "IPY_MODEL_f776131ff3494dfead08df7007e82092",
            "placeholder": "​",
            "style": "IPY_MODEL_460965f68ec4435ab67b1d5c2b3084c5",
            "value": " 3.00k/3.00k [00:00&lt;00:00, 106kB/s]"
          }
        },
        "4407aa2f2cee468caea83bda9c46dd31": {
          "model_module": "@jupyter-widgets/base",
          "model_name": "LayoutModel",
          "model_module_version": "1.2.0",
          "state": {
            "_model_module": "@jupyter-widgets/base",
            "_model_module_version": "1.2.0",
            "_model_name": "LayoutModel",
            "_view_count": null,
            "_view_module": "@jupyter-widgets/base",
            "_view_module_version": "1.2.0",
            "_view_name": "LayoutView",
            "align_content": null,
            "align_items": null,
            "align_self": null,
            "border": null,
            "bottom": null,
            "display": null,
            "flex": null,
            "flex_flow": null,
            "grid_area": null,
            "grid_auto_columns": null,
            "grid_auto_flow": null,
            "grid_auto_rows": null,
            "grid_column": null,
            "grid_gap": null,
            "grid_row": null,
            "grid_template_areas": null,
            "grid_template_columns": null,
            "grid_template_rows": null,
            "height": null,
            "justify_content": null,
            "justify_items": null,
            "left": null,
            "margin": null,
            "max_height": null,
            "max_width": null,
            "min_height": null,
            "min_width": null,
            "object_fit": null,
            "object_position": null,
            "order": null,
            "overflow": null,
            "overflow_x": null,
            "overflow_y": null,
            "padding": null,
            "right": null,
            "top": null,
            "visibility": null,
            "width": null
          }
        },
        "2e0d908df1ab49bdb963a64f82fc1359": {
          "model_module": "@jupyter-widgets/base",
          "model_name": "LayoutModel",
          "model_module_version": "1.2.0",
          "state": {
            "_model_module": "@jupyter-widgets/base",
            "_model_module_version": "1.2.0",
            "_model_name": "LayoutModel",
            "_view_count": null,
            "_view_module": "@jupyter-widgets/base",
            "_view_module_version": "1.2.0",
            "_view_name": "LayoutView",
            "align_content": null,
            "align_items": null,
            "align_self": null,
            "border": null,
            "bottom": null,
            "display": null,
            "flex": null,
            "flex_flow": null,
            "grid_area": null,
            "grid_auto_columns": null,
            "grid_auto_flow": null,
            "grid_auto_rows": null,
            "grid_column": null,
            "grid_gap": null,
            "grid_row": null,
            "grid_template_areas": null,
            "grid_template_columns": null,
            "grid_template_rows": null,
            "height": null,
            "justify_content": null,
            "justify_items": null,
            "left": null,
            "margin": null,
            "max_height": null,
            "max_width": null,
            "min_height": null,
            "min_width": null,
            "object_fit": null,
            "object_position": null,
            "order": null,
            "overflow": null,
            "overflow_x": null,
            "overflow_y": null,
            "padding": null,
            "right": null,
            "top": null,
            "visibility": null,
            "width": null
          }
        },
        "3827c80bdd264bc4bd31fddb1887c55e": {
          "model_module": "@jupyter-widgets/controls",
          "model_name": "DescriptionStyleModel",
          "model_module_version": "1.5.0",
          "state": {
            "_model_module": "@jupyter-widgets/controls",
            "_model_module_version": "1.5.0",
            "_model_name": "DescriptionStyleModel",
            "_view_count": null,
            "_view_module": "@jupyter-widgets/base",
            "_view_module_version": "1.2.0",
            "_view_name": "StyleView",
            "description_width": ""
          }
        },
        "2e50db873f0a4783942f1ea378f1813f": {
          "model_module": "@jupyter-widgets/base",
          "model_name": "LayoutModel",
          "model_module_version": "1.2.0",
          "state": {
            "_model_module": "@jupyter-widgets/base",
            "_model_module_version": "1.2.0",
            "_model_name": "LayoutModel",
            "_view_count": null,
            "_view_module": "@jupyter-widgets/base",
            "_view_module_version": "1.2.0",
            "_view_name": "LayoutView",
            "align_content": null,
            "align_items": null,
            "align_self": null,
            "border": null,
            "bottom": null,
            "display": null,
            "flex": null,
            "flex_flow": null,
            "grid_area": null,
            "grid_auto_columns": null,
            "grid_auto_flow": null,
            "grid_auto_rows": null,
            "grid_column": null,
            "grid_gap": null,
            "grid_row": null,
            "grid_template_areas": null,
            "grid_template_columns": null,
            "grid_template_rows": null,
            "height": null,
            "justify_content": null,
            "justify_items": null,
            "left": null,
            "margin": null,
            "max_height": null,
            "max_width": null,
            "min_height": null,
            "min_width": null,
            "object_fit": null,
            "object_position": null,
            "order": null,
            "overflow": null,
            "overflow_x": null,
            "overflow_y": null,
            "padding": null,
            "right": null,
            "top": null,
            "visibility": null,
            "width": null
          }
        },
        "d2f7ef8969354160a556226078829b97": {
          "model_module": "@jupyter-widgets/controls",
          "model_name": "ProgressStyleModel",
          "model_module_version": "1.5.0",
          "state": {
            "_model_module": "@jupyter-widgets/controls",
            "_model_module_version": "1.5.0",
            "_model_name": "ProgressStyleModel",
            "_view_count": null,
            "_view_module": "@jupyter-widgets/base",
            "_view_module_version": "1.2.0",
            "_view_name": "StyleView",
            "bar_color": null,
            "description_width": ""
          }
        },
        "f776131ff3494dfead08df7007e82092": {
          "model_module": "@jupyter-widgets/base",
          "model_name": "LayoutModel",
          "model_module_version": "1.2.0",
          "state": {
            "_model_module": "@jupyter-widgets/base",
            "_model_module_version": "1.2.0",
            "_model_name": "LayoutModel",
            "_view_count": null,
            "_view_module": "@jupyter-widgets/base",
            "_view_module_version": "1.2.0",
            "_view_name": "LayoutView",
            "align_content": null,
            "align_items": null,
            "align_self": null,
            "border": null,
            "bottom": null,
            "display": null,
            "flex": null,
            "flex_flow": null,
            "grid_area": null,
            "grid_auto_columns": null,
            "grid_auto_flow": null,
            "grid_auto_rows": null,
            "grid_column": null,
            "grid_gap": null,
            "grid_row": null,
            "grid_template_areas": null,
            "grid_template_columns": null,
            "grid_template_rows": null,
            "height": null,
            "justify_content": null,
            "justify_items": null,
            "left": null,
            "margin": null,
            "max_height": null,
            "max_width": null,
            "min_height": null,
            "min_width": null,
            "object_fit": null,
            "object_position": null,
            "order": null,
            "overflow": null,
            "overflow_x": null,
            "overflow_y": null,
            "padding": null,
            "right": null,
            "top": null,
            "visibility": null,
            "width": null
          }
        },
        "460965f68ec4435ab67b1d5c2b3084c5": {
          "model_module": "@jupyter-widgets/controls",
          "model_name": "DescriptionStyleModel",
          "model_module_version": "1.5.0",
          "state": {
            "_model_module": "@jupyter-widgets/controls",
            "_model_module_version": "1.5.0",
            "_model_name": "DescriptionStyleModel",
            "_view_count": null,
            "_view_module": "@jupyter-widgets/base",
            "_view_module_version": "1.2.0",
            "_view_name": "StyleView",
            "description_width": ""
          }
        }
      }
    }
  },
  "cells": [
    {
      "cell_type": "markdown",
      "metadata": {
        "id": "view-in-github",
        "colab_type": "text"
      },
      "source": [
        "<a href=\"https://colab.research.google.com/github/fvialibre/edia/blob/master/notebook/EDIA_Road_Map.ipynb\" target=\"_parent\"><img src=\"https://colab.research.google.com/assets/colab-badge.svg\" alt=\"Open In Colab\"/></a>"
      ]
    },
    {
      "cell_type": "markdown",
      "source": [
        "# **EDIA**: Estereotipos y Discriminación en Inteligencia Artificial\n",
        "\n",
        "Ruta de aprendizaje\n",
        "\n",
        "---"
      ],
      "metadata": {
        "id": "7JMLkzn24hnm"
      }
    },
    {
      "cell_type": "markdown",
      "source": [
        "Los modelos de lenguaje y las representaciones de palabras obtenidas con aprendizaje automatizado han demostrado contener estereotipos discriminatorios. Aquí presentamos un conjunto de herramientas de inspección: EDIA (Estereotipos y Discriminación en Inteligencia Artificial). \n",
        "\n",
        "El objetivo de este proyecto es diseñar y evaluar una metodología que permita a comunidades de ciencias sociales y personas expertas de dominio en Latinoamérica, explorar sesgos y estereotipos discriminatorios presentes en word embeddings y modelos de lenguaje. También les permite definir el tipo de sesgo a explorar y acercarse a un enfoque interseccional desde dos dimensiones binarias de análisis (por ejemplo, mujer-hombre vs gordo-flaco)."
      ],
      "metadata": {
        "id": "EDPbXqPa5JrD"
      }
    },
    {
      "cell_type": "markdown",
      "source": [
        "## Objetivo general\n",
        "\n",
        "El objetivo de esta notebook es **familarizarse** con las diferentes clases y funcionalidades que ofrece la herramienta en la particularización, deteccion y exposición de los sesgos presentes en embeddings de palabras o sentencias, que, de forma indirecta, afecta a comunidades vulnerables frente a modelos de inteligencia artificial que se basan en ellos para el procesamientos de las palabras como unidad mínima de referencia."
      ],
      "metadata": {
        "id": "0iD3tzrf5MK5"
      }
    },
    {
      "cell_type": "markdown",
      "source": [
        "## Descarga o uso on-line\n",
        "\n",
        "Pueden encontrar tanto repositorios en GitHub como en HuggingFace🤗 para instalar localmente esta herramienta. Además, se cuenta en HuggingFace🤗 con una demo con interfaz grafica para conseguir exponer este trabajos a aquellos sectores con menor nivel de conocimiento pero gran interés en el área.\n",
        "\n",
        "`GitHub:` https://github.com/fvialibre/edia\n",
        "\n",
        "`HuggingFace🤗`: https://huggingface.co/spaces/vialibre/edia\n"
      ],
      "metadata": {
        "id": "jZRztIwT5Qcc"
      }
    },
    {
      "cell_type": "markdown",
      "source": [
        "## Estableciendo el entorno de trabajo\n"
      ],
      "metadata": {
        "id": "zVDHaFdI5Zj8"
      }
    },
    {
      "cell_type": "markdown",
      "source": [
        "Para descargar la herramienta, el *dataset* y los paquetes de python requeridos para el correcto funcionamiento, ejecutar la siguiente celda."
      ],
      "metadata": {
        "id": "6K8BU8ZXDFD-"
      }
    },
    {
      "cell_type": "code",
      "execution_count": null,
      "metadata": {
        "id": "0XtkJV7z4e7d",
        "collapsed": true
      },
      "outputs": [],
      "source": [
        "# Descarga y descomprimir archivo de word embeddings del español\n",
        "!wget -q http://dcc.uchile.cl/~jperez/word-embeddings/fasttext-sbwc.100k.vec.gz\n",
        "!gzip -d fasttext-sbwc.100k.vec.gz\n",
        "\n",
        "# Clonar repositorio\n",
        "!git clone https://github.com/fvialibre/edia.git\n",
        "\n",
        "# Crear directorio data/\n",
        "!mkdir edia/data\n",
        "\n",
        "# Mover word embeddings al directorio data/\n",
        "!mv fasttext-sbwc.100k.vec edia/data/fasttext-sbwc.100k.vec\n",
        "\n",
        "# Instalar gdown para descargar de Google Drive\n",
        "!pip3 -q install --upgrade gdown\n",
        "\n",
        "# Descargar y mover a direcotrio data/ vocabulario quarter\n",
        "!gdown https://drive.google.com/uc?id=1NYgWZTPDhpKsZO9qOsP29mKHviA_gsYW\n",
        "!mv quarter_vocab_v6.zip edia/data/quarter_vocab_v6.zip\n",
        "\n",
        "# Mover current directory al repo\n",
        "%cd edia/\n",
        "\n",
        "# Instalar paquetes y librerias requeridas\n",
        "!pip -q install -r requirements.txt\n",
        "\n",
        "# Google Colab reasons an old version of matplotlib is required\n",
        "!pip install matplotlib==3.1.3"
      ]
    },
    {
      "cell_type": "markdown",
      "source": [
        "## Núcleos de significado\n"
      ],
      "metadata": {
        "id": "Q7OD9url55Ia"
      }
    },
    {
      "cell_type": "markdown",
      "source": [
        "Cuando hablamos de profesiones en el idioma español solemos diferenciar el género del agente dentro de la palabra (por ejemplo, enfermer**o** y enfermer**a**, o arquitect**o** y arquitect**a**), pero este no es la totalidad de los casos, existiendo palabras que atribuyen a todos los géneros como lo es *Astronauta*.\n",
        "\n",
        "Por nuestras vivencias y culturas, solemos identificar ciertas profesiones (u otras palabras) con un genero implicito; quiza, cuando leyeron la palabra *Astronauta* se les vino a la cabeza una figura masculina. Esto nos da a entender que **ciertas culturas definen el género de una palabra sobre la persona**.\n",
        "\n",
        "Volviendo a los primeros ejemplos, podemos intuir que las profesiones enfermer**a** y arquitect**a** se encuentran más embebidas en el núcleo femenino, y más distantes del núcleo de género masculino. Además, hicimos notar como la palabra *Astronauta* la cual idealmente deberia encontrarse equisdistante de ambos núcleos de significado solemos acercarlo intuitivamente al núcleo masculino.\n",
        "\n",
        "Este último tipo de comportamiento **no es el ideal** en modelos de procesamiento del lenguaje natural (PLN), de existir, se trataria de un modelo sesgado que potencialmente puede afectar negativamente a individuos o colectivos vulnerables en sus predicciones.\n",
        "\n",
        "Por ejemplo, imaginemos un modelo que otorga beneficios bancarios (como prestamos, extensiones de pago o descuentos) a sus clientes a partir de una planilla de inscripcion en la cual se cuenta con informacion del país de procedencia. Si el modelo en cuestion fuera entrenado con ejemplos sesgados de su madurez economica en relación a su procedencia podría, por ejemplo, no otorgar estos beneficios a personas oriundas de Nigeria por presentar una menor solvencia economica, y otorgar estos beneficios siempre (o en gran medida) a alemanes por tener una economia más estable.\n",
        "\n",
        "Examinemos así, con estos ejemplos, los núcleos de significado utilizando la herramienta **EDIA** para conocer como las palabras que interpretan los modelos a traves de *embeddings* se posicionan dentro."
      ],
      "metadata": {
        "id": "f2S8WV8cCpiq"
      }
    },
    {
      "cell_type": "markdown",
      "source": [
        "\n",
        "\n",
        "> **Nota:** Si contas con embeddigs propios, formato estandar `.vec` (preferentemente) o `.bin`, que quieras utilizar para evaluar los sesgos presentes a lo largo de esta *Google Colab*, importalos dentro de la carpeta `data` y establece el nombre del archivo correctamente en la variable presente en la proxima celda de ejecución.\n",
        ">\n",
        "> **Importante**, si el número de embeddings es demasiado grande, la infraestrucutra de *Google Colab* puede no ser la ideal, en dichos casos, aconsejamos limitar el número de embeddings a utilizar mediante el paramertro `limit` y/o realizar la reduccion de dimensiones mediante el metodo *randomized PCA*. Si se trata de un archivo `.bin`, este debe tratarse de un **binario en formato C** (quedando así excluido binarios de, por ejemplo, Fasttext), si se cuenta con otro formato, el usuario deberá ser el encargado de extraer los embeddings a un formato estandar para exploración como es `.vec`.\n",
        ">\n",
        "> Se alienta también a descargar y utilizar esta herramienta en su arquitectura propia y, quiza, más potente, evitando así estos problemas de memoria y procesamiento.\n"
      ],
      "metadata": {
        "id": "z-cVv9JGE8Ig"
      }
    },
    {
      "cell_type": "code",
      "source": [
        "EMBEDDINGS_PATH = 'data/fasttext-sbwc.100k.vec'"
      ],
      "metadata": {
        "id": "D1bSztdqFqlF"
      },
      "execution_count": 2,
      "outputs": []
    },
    {
      "cell_type": "code",
      "source": [
        "from modules.model_embbeding import Embedding\n",
        "from modules.module_rankSents import RankSents\n",
        "from modules.module_crowsPairs import CrowsPairs\n",
        "from modules.module_vocabulary import Vocabulary\n",
        "from modules.module_WordExplorer import WordExplorer\n",
        "from modules.module_word2Context import Word2Context\n",
        "from modules.module_languageModel import LanguageModel\n",
        "from modules.module_ErrorManager import ErrorManager\n",
        "from modules.module_BiasExplorer import WEBiasExplorer2Spaces, WEBiasExplorer4Spaces\n",
        "emb = Embedding(\n",
        "    path=EMBEDDINGS_PATH,\n",
        "    limit=100_000,                                # Número maximo de vectores a extraer\n",
        "    randomizedPCA=False,                          # Utilizar la metodologia `randomized` de obtencion de PCA\n",
        "    max_neighbors=20,                             # Número máximo de vecinos por palabra a calcular\n",
        "    nn_method='sklearn'                           # Algoritmo de obtención de vecinos\n",
        ")\n",
        "\n",
        "errorManager             = ErrorManager('modules/error_messages/es.json')\n",
        "explorador_de_palabras   = WordExplorer(emb, errorManager)\n",
        "explorador_de_sesgos_2   = WEBiasExplorer2Spaces(emb, errorManager)\n",
        "explorador_de_sesgos_4   = WEBiasExplorer4Spaces(emb, errorManager)\n",
        "explorador_de_datos      = Word2Context('vialibre/splittedspanish3bwc', Vocabulary('quarter'), errorManager)"
      ],
      "metadata": {
        "id": "A0FR3A9vC4aA",
        "collapsed": true
      },
      "execution_count": null,
      "outputs": []
    },
    {
      "cell_type": "markdown",
      "source": [
        "Comencemos con las profesiones y el genero atribuido"
      ],
      "metadata": {
        "id": "PClW5cP_E2Kw"
      }
    },
    {
      "cell_type": "code",
      "source": [
        "nucleo_fem  = ['ella', 'mujer', 'chica', 'femenina']\n",
        "nucleo_masc = ['el', 'hombre', 'chico', 'masculino']"
      ],
      "metadata": {
        "id": "NBdwcDWaDLCg"
      },
      "execution_count": 4,
      "outputs": []
    },
    {
      "cell_type": "markdown",
      "source": [
        "Ya con los núcleos femenino y masculino definidos, establecemos las profesiones que nos interesa evaluar entre estos dos. Usaremos aquellas con las cuales ejemplificamos."
      ],
      "metadata": {
        "id": "vTJ_jViwESpr"
      }
    },
    {
      "cell_type": "code",
      "source": [
        "profesiones = ['enfermera', 'enfermero', 'arquitecto', 'arquitecta', 'astronauta']\n",
        "\n",
        "explorador_de_sesgos_2.calculate_bias(profesiones, nucleo_fem, nucleo_masc)"
      ],
      "metadata": {
        "colab": {
          "base_uri": "https://localhost:8080/",
          "height": 729
        },
        "id": "gJQ35nzUEpje",
        "outputId": "e6d33983-4e13-4828-d783-9a4522c3f98e"
      },
      "execution_count": 10,
      "outputs": [
        {
          "output_type": "execute_result",
          "data": {
            "text/plain": [
              "<Figure size 720x720 with 1 Axes>"
            ],
            "image/png": "[encoded data removed]"
          },
          "metadata": {},
          "execution_count": 10
        }
      ]
    },
    {
      "cell_type": "markdown",
      "source": [
        "Examinando los resultados, observamos como efectivamente las palabras arquitect**a** y enfermer**a** se encuentran más inmersas en el núcleo femenino, mientras que sus variantes masculinas, en el núcleo de género masculino. Por otro lado, y lo que nos interesa de este ejemplo, es ver como la palabra *astronauta* se ve sesgada por el núcleo masculino, pero en menor proporcion al de arquitect**o** y enfermer**o**.\n",
        "\n",
        "Este ejemplo es claro en como las **representaciones de las palabras**, los embeddings (vectores densos), **estan cargados con sesgos** según la tecnica de obtencion de ellos, que en la mayoria de los casos son contruidos con enormes volumenes de datos crudos (*i.e.* sin ningun tipo de filtrado o pre-procesamiento para mitigar los sesgos).\n",
        "\n",
        "Evaluemos ahora la relacion entre la procedencia de las personas y su madurez economica. Comenzando definiendo los núcleos de interes."
      ],
      "metadata": {
        "id": "MZll0wfJjAjw"
      }
    },
    {
      "cell_type": "code",
      "source": [
        "nucleo_rico  = ['ahorrar', 'economizar', 'rico', 'negocio', 'beneficios']\n",
        "nucleo_pobre = ['malgastar', 'derrochar', 'pobre']"
      ],
      "metadata": {
        "id": "COuj18rtIZT0"
      },
      "execution_count": 6,
      "outputs": []
    },
    {
      "cell_type": "markdown",
      "source": [
        "Seguimos ahora con las palabras a evaluar"
      ],
      "metadata": {
        "id": "IO4x6QT5I3JV"
      }
    },
    {
      "cell_type": "code",
      "source": [
        "procedencia = ['alemán', 'australiano', 'argentino', 'boliviano', 'americano', 'nigeriano']\n",
        "\n",
        "explorador_de_sesgos_2.calculate_bias(procedencia, nucleo_pobre, nucleo_rico)"
      ],
      "metadata": {
        "colab": {
          "base_uri": "https://localhost:8080/",
          "height": 729
        },
        "id": "uO9qcBLFJAHn",
        "outputId": "cc5673b1-fbee-4e7a-8eba-df6fa074643b"
      },
      "execution_count": 9,
      "outputs": [
        {
          "output_type": "execute_result",
          "data": {
            "text/plain": [
              "<Figure size 720x720 with 1 Axes>"
            ],
            "image/png": "[encoded data removed]"
          },
          "metadata": {},
          "execution_count": 9
        }
      ]
    },
    {
      "cell_type": "markdown",
      "source": [
        "De esta forma observamos como efectivamente a traves de los embeddings, los nigerianos cargan con un mayor núcleo de pobreza, mientras que los demás paises a comparación un núcleo de riqueza en el cual los alemanes van a la cabeza por los ejemplos dados."
      ],
      "metadata": {
        "id": "BzDbUp3aLjsJ"
      }
    },
    {
      "cell_type": "markdown",
      "source": [
        "## Explorando nuevas palabras\n"
      ],
      "metadata": {
        "id": "Q5hPC4bTMacS"
      }
    },
    {
      "cell_type": "markdown",
      "source": [
        "Las palabras utilizadas en los ejemplos anteriores pueden sentirse arbitrarias, sin embargo evidencian sesgos latentes. Existen muchas otras palabras, como por ejemplo de profesiones, que se encuentran mas cercanas a un núcleo que otro, cuando no seberia de ser así, para ello contamos con la posibilidad de explorar estas palabras en un plano para conocer que tan cercanas estan entre ellas e incluso conocer vecinos que podemos utilizar para profundizar la evaluacion de sesgos (podriamos denominar esto un tipo de *feedback*).\n",
        "\n",
        "Examinemos primero las palabras de profesiones en el plano, para conocer sus distancias. De encontrarse relativamente cercas entre sí significaria que contienen un significado similar; no en el sentido de ser intercambiables, sino en el sentido de verse inmersas en contextos similares."
      ],
      "metadata": {
        "id": "vuTOCNGgCu7K"
      }
    },
    {
      "cell_type": "code",
      "source": [
        "explorador_de_palabras.plot_projections_2d(profesiones, figsize=(10, 10))"
      ],
      "metadata": {
        "colab": {
          "base_uri": "https://localhost:8080/",
          "height": 729
        },
        "id": "nT_hNxw_QF5y",
        "outputId": "e8d38a87-5548-4dad-b4ad-2568884ac745"
      },
      "execution_count": 8,
      "outputs": [
        {
          "output_type": "execute_result",
          "data": {
            "text/plain": [
              "<Figure size 720x720 with 1 Axes>"
            ],
            "image/png": "[encoded data removed]"
          },
          "metadata": {},
          "execution_count": 8
        }
      ]
    },
    {
      "cell_type": "markdown",
      "source": [
        "Podemos ver aquí como arquitect**o**, arquitect**a** y enfermer**a** se encuentran cercanas entre sí, mientras que enfermer**o** y *astronauta* más distantes y tironeando del espacio.\n",
        "\n",
        "Veamos ahora, 2 palabras vecinas de cada profesion para explorar y conocer nuevas que nos permitan detallar más aún las palabras a evaluar en busca de sesgos."
      ],
      "metadata": {
        "id": "kf_rJHSUTRzA"
      }
    },
    {
      "cell_type": "code",
      "source": [
        "explorador_de_palabras.plot_projections_2d(profesiones, n_neighbors=2, figsize=(10, 10))"
      ],
      "metadata": {
        "colab": {
          "base_uri": "https://localhost:8080/",
          "height": 729
        },
        "id": "4O-nAKduUKJj",
        "outputId": "82fb36a9-d76b-4161-e874-f62630df5c43"
      },
      "execution_count": 11,
      "outputs": [
        {
          "output_type": "execute_result",
          "data": {
            "text/plain": [
              "<Figure size 720x720 with 1 Axes>"
            ],
            "image/png": "[encoded data removed]"
          },
          "metadata": {},
          "execution_count": 11
        }
      ]
    },
    {
      "cell_type": "markdown",
      "source": [
        "Es interesante ver aquí como las palabras *enfermeros*, *astronautas* y *arquitectos* jalan demasiado el espacio por lo cual sus contextos no son tan similares a las demás, siendo así poco interesantes evaluar con las demás. Para ellas se deberian de buscar otras palabras con las cules comparar y evaluar.\n",
        "\n",
        "Por otro lado, las palabras *cosmonauta* y *urbanista* son muy interesantes para seguir profundizando sus núcleos de género, a diferencia de *comadrona* que presenta un fuerte núcleo femenino."
      ],
      "metadata": {
        "id": "lPH5q1ZzUh5C"
      }
    },
    {
      "cell_type": "code",
      "source": [
        "profesiones += ['cosmonauta', 'urbanista', 'comadrona']\n",
        "\n",
        "explorador_de_sesgos_2.calculate_bias(profesiones, nucleo_fem, nucleo_masc)"
      ],
      "metadata": {
        "colab": {
          "base_uri": "https://localhost:8080/",
          "height": 729
        },
        "id": "7F6U2lvXWLgV",
        "outputId": "4618dfea-d9a1-4f00-abaa-364b5fcbb4e2"
      },
      "execution_count": 12,
      "outputs": [
        {
          "output_type": "execute_result",
          "data": {
            "text/plain": [
              "<Figure size 720x720 with 1 Axes>"
            ],
            "image/png": "[encoded data removed]"
          },
          "metadata": {},
          "execution_count": 12
        }
      ]
    },
    {
      "cell_type": "markdown",
      "source": [
        "Efectivamente, *comadrona* es poco interesante, mientras que llama la atención como *urbanista* y *cosmonauta* se encuentran mas cercanos al núcleo masculino cuando las palabras en sí no diferencian el género, encontrandose sesgadas.\n",
        "\n",
        "De esta forma, podemos ir profundizando y nutriendo las listas de palabras con las cuales examinar presencia de sesgos producto de un acercamiento no debido a un núcleo de significado u otro.\n",
        "\n",
        "Sigamos con el ejemplo de procedencia y madurez economica. Vemos primero como los gentilicios se distribuyen en el espacio para darnos una idea de significancia y no perdernos con la presencia de otras palabras vecinas."
      ],
      "metadata": {
        "id": "kO5Mxu0LXIcV"
      }
    },
    {
      "cell_type": "code",
      "source": [
        "explorador_de_palabras.plot_projections_2d(procedencia, figsize=(10, 10))"
      ],
      "metadata": {
        "colab": {
          "base_uri": "https://localhost:8080/",
          "height": 729
        },
        "id": "7IbyfLZ-yGbU",
        "outputId": "f7ec36e2-6237-435c-86b0-77251401dcc0"
      },
      "execution_count": 13,
      "outputs": [
        {
          "output_type": "execute_result",
          "data": {
            "text/plain": [
              "<Figure size 720x720 with 1 Axes>"
            ],
            "image/png": "[encoded data removed]"
          },
          "metadata": {},
          "execution_count": 13
        }
      ]
    },
    {
      "cell_type": "markdown",
      "source": [
        "Observamos como los gentilicios *americano* y *alemán* se encuentran cercanos entre sí, junto a *nigeriano* mientras que *argentino*, *boliviano* y *australiano* se encuentran más alejados. Veamos ahora vecinos para hallar nuevas palabras, comenzamos con dos vecinos para darnos una \n",
        "\n",
        "> **Notar:** Podemos aumentar el numero de vecinos a obtener hasta el número establecido como parametro en `max_neighbors` en la instanciación de la clase `Embedding`."
      ],
      "metadata": {
        "id": "KtcgU22n56nk"
      }
    },
    {
      "cell_type": "code",
      "source": [
        "explorador_de_palabras.plot_projections_2d(procedencia, n_neighbors=2, figsize=(10, 10))"
      ],
      "metadata": {
        "colab": {
          "base_uri": "https://localhost:8080/",
          "height": 729
        },
        "id": "lug2vZVf7WDY",
        "outputId": "7d88c9eb-62cb-4875-c698-049aa692089c"
      },
      "execution_count": 14,
      "outputs": [
        {
          "output_type": "execute_result",
          "data": {
            "text/plain": [
              "<Figure size 720x720 with 1 Axes>"
            ],
            "image/png": "[encoded data removed]"
          },
          "metadata": {},
          "execution_count": 14
        }
      ]
    },
    {
      "cell_type": "markdown",
      "source": [
        "De aqui obtuvimos muchos gentilicios, pero aumentemos a al doble de vecinos para conocer aún mas ejemplos a evaluar."
      ],
      "metadata": {
        "id": "rsMQh7ghRze6"
      }
    },
    {
      "cell_type": "code",
      "source": [
        "explorador_de_palabras.plot_projections_2d(procedencia, n_neighbors=4, figsize=(10, 10))"
      ],
      "metadata": {
        "colab": {
          "base_uri": "https://localhost:8080/",
          "height": 729
        },
        "id": "kTvH4-1BR_4F",
        "outputId": "529b4cb5-6dd7-4ad7-d688-fb738905c299"
      },
      "execution_count": 15,
      "outputs": [
        {
          "output_type": "execute_result",
          "data": {
            "text/plain": [
              "<Figure size 720x720 with 1 Axes>"
            ],
            "image/png": "[encoded data removed]"
          },
          "metadata": {},
          "execution_count": 15
        }
      ]
    },
    {
      "cell_type": "markdown",
      "source": [
        "De esta forma obtuvimos aún más palabras que podemos tomar, por ejemplo, los gentilicios femeninos nunca fueron tomados en cuenta en nuestra lista inicial pero observamos que son vecinos cercanos, examinemos si esta componente afecta los resultados producto del sesgo en los embeddings."
      ],
      "metadata": {
        "id": "97qKFtDSTGAw"
      }
    },
    {
      "cell_type": "code",
      "source": [
        "procedencia += ['alemana', 'australiana', 'argentina', 'boliviana', 'americana', 'nigeriana']\n",
        "\n",
        "explorador_de_sesgos_2.calculate_bias(procedencia, nucleo_pobre, nucleo_rico)"
      ],
      "metadata": {
        "colab": {
          "base_uri": "https://localhost:8080/",
          "height": 729
        },
        "id": "f2HydxI6Ttv_",
        "outputId": "838f7208-509a-4edf-f0af-a2fff0816cad"
      },
      "execution_count": 16,
      "outputs": [
        {
          "output_type": "execute_result",
          "data": {
            "text/plain": [
              "<Figure size 720x720 with 1 Axes>"
            ],
            "image/png": "[encoded data removed]"
          },
          "metadata": {},
          "execution_count": 16
        }
      ]
    },
    {
      "cell_type": "markdown",
      "source": [
        "Observamos que el género del gentilicio no parece afectar la distancia entre las palabras y su núcleo mas cercano, pero si notamos como ciertos gentilicios femeninos se encuentran aún más cercanos al núcleo que su contraparte masculina, como por ejemplo *argentina* a comparación de *argentino* o *americana* a *americano*.\n",
        "\n",
        "Volviendo atrás a la exploración de vecinos vemos como la palabra *australian* tironea del espacio, este tipo comportamiento suele ser común y nos permite, con ayuda del experto de dominio, valorar su utilidad en la exploración. Contamos con una **herrramienta prototipo** para la cual consultar **contextos** de las palabras con el objetivo de ayudar en esta decision.\n",
        "\n",
        "> Los contextos son extraidos de los subconjuntos de datos con los cuales fue entrenado el modelo de lenguaje en español BETO, basado en BERT. Si se desean consultar contextos especificos de un corpus propio o en otros lenguajes, aconsejamos la utilización de herramientas especificas a la tarea, como por ejemplo []."
      ],
      "metadata": {
        "id": "tbGjT7jFUb_J"
      }
    },
    {
      "cell_type": "code",
      "source": [
        "palabra_a_buscar = 'australian'\n",
        "\n",
        "_, conjuntos_de_origen = explorador_de_datos.getSubsetsInfo(palabra_a_buscar)\n",
        "conjuntos_de_origen"
      ],
      "metadata": {
        "colab": {
          "base_uri": "https://localhost:8080/"
        },
        "id": "V-HzbBfAFP_n",
        "outputId": "285d93bf-720d-4be5-f917-4d6efb1eaccd"
      },
      "execution_count": 17,
      "outputs": [
        {
          "output_type": "execute_result",
          "data": {
            "text/plain": [
              "{'allwikis (2198)': 0.6911949685534591,\n",
              " 'multiUN (525)': 0.1650943396226415,\n",
              " 'ParaCrawl (211)': 0.06635220125786163,\n",
              " 'GlobalVoices (60)': 0.018867924528301886,\n",
              " 'JRC (58)': 0.018238993710691823,\n",
              " 'OpenSubtitles2018 (55)': 0.01729559748427673,\n",
              " 'EUBookShop (46)': 0.014465408805031447,\n",
              " 'DGT (17)': 0.005345911949685534,\n",
              " 'DOGC (7)': 0.00220125786163522,\n",
              " 'NewsCommentary11 (2)': 0.0006289308176100629,\n",
              " 'Europarl (1)': 0.00031446540880503143}"
            ]
          },
          "metadata": {},
          "execution_count": 17
        }
      ]
    },
    {
      "cell_type": "markdown",
      "source": [
        "> **Importante**: si la celda anterior arroja **error**, se trata de la falta de la palabra en el vocabulario cargado, en estos casos aconsejamos utilizar la herramienta cargada en [HuggingFace🤗](https://huggingface.co/spaces/vialibre/datos_std_tool)"
      ],
      "metadata": {
        "id": "2n6q98XJGxfV"
      }
    },
    {
      "cell_type": "markdown",
      "source": [
        "El resultado que observamos es un diccionario que contienen los subconjuntos donde podemos extraer contextos de la palabra, entre parentesis se encuentra la frecuencia y el valor es el percentil (*i.e.* `'Subconjunto (frecuencia)': percentil`).\n",
        "\n",
        "Podemos elegir extraer contextos de tantos subconjuntos como deseemos, extraigamos un total de hasta 10 contextos de la palabra *australian* de los primero dos subconjuntos con mayor frecuencia de ésta."
      ],
      "metadata": {
        "id": "tnrpZ_p2IedM"
      }
    },
    {
      "cell_type": "code",
      "source": [
        "subconjuntos = ['allwikis', 'multiUN']\n",
        "cantidad_de_contextos = 10\n",
        "\n",
        "ds = explorador_de_datos.findSplits(palabra_a_buscar, subconjuntos)\n",
        "contextos = explorador_de_datos.getContexts(palabra_a_buscar, cantidad_de_contextos, ds)\n",
        "[contexto[1].replace('<u><b>', '').replace('</b></u>', '') for contexto in contextos]"
      ],
      "metadata": {
        "id": "Bj58h_18IWtk",
        "colab": {
          "base_uri": "https://localhost:8080/",
          "height": 237,
          "referenced_widgets": [
            "a40f3d898b014fdcbe9bbc06147d4b1c",
            "765587ae54de4687992004c7c9d252b2",
            "a56686aea9f544f0bf1ebfa01bd9b7e5",
            "d652ae4e56514cefbb5a8c0b0a311cd0",
            "fbdddb62ddaa49da952a856063caf49e",
            "ffb40c2d9b9a41d8b178fc131ecc05cc",
            "10b8f47f7c024fecbeb45f469126e686",
            "f85454df7cd74da7a992f08727bbac13",
            "4d13dc8f7fe8463bbe8ad468b1534ec3",
            "61bda385fb3745e58e6509192f5b470e",
            "8c4ccddd41e84f72a59b13d404f5ea3c",
            "d74c1c80eaf64789b58675cfe7392dc2",
            "f46ae7f4a51f48259268a0c531d49c80",
            "3b955cf98c4546cc80e4ec54258cb868",
            "9b667fdb4ac44b02b31dffcc63961139",
            "4407aa2f2cee468caea83bda9c46dd31",
            "2e0d908df1ab49bdb963a64f82fc1359",
            "3827c80bdd264bc4bd31fddb1887c55e",
            "2e50db873f0a4783942f1ea378f1813f",
            "d2f7ef8969354160a556226078829b97",
            "f776131ff3494dfead08df7007e82092",
            "460965f68ec4435ab67b1d5c2b3084c5"
          ]
        },
        "outputId": "4117a1c2-344b-4c63-bde3-e248d8bd896c"
      },
      "execution_count": 18,
      "outputs": [
        {
          "output_type": "display_data",
          "data": {
            "text/plain": [
              "Downloading builder script:   0%|          | 0.00/152k [00:00<?, ?B/s]"
            ],
            "application/vnd.jupyter.widget-view+json": {
              "version_major": 2,
              "version_minor": 0,
              "model_id": "a40f3d898b014fdcbe9bbc06147d4b1c"
            }
          },
          "metadata": {}
        },
        {
          "output_type": "display_data",
          "data": {
            "text/plain": [
              "Downloading readme:   0%|          | 0.00/3.00k [00:00<?, ?B/s]"
            ],
            "application/vnd.jupyter.widget-view+json": {
              "version_major": 2,
              "version_minor": 0,
              "model_id": "d74c1c80eaf64789b58675cfe7392dc2"
            }
          },
          "metadata": {}
        },
        {
          "output_type": "execute_result",
          "data": {
            "text/plain": [
              "['- “the normative dilemma - will and consent in international law”, informe del coloquio de camberra 1990, australian yearbook of international law, vol.',\n",
              " 'aún más, newsweek ha situado a la australian national university como la universidad número 38 en su clasificación de las \"100 universidades punteras a nivel global del 2006\".',\n",
              " 'por ejemplo, la organización de investigación científica e industrial del commonwealth mantiene la australian bibliography of agriculture, que contiene registros bibliográficos de documentos que abarcan todos los aspectos de la agricultura, así como referencias a información sobre silvicultura, pesca, ciencias de la alimentación y nutrición humana.',\n",
              " 'sentencia de 26 de octubre de 1989, australian & new zealand banking group ltd.',\n",
              " '“diplomatic protection and human rights: the draft articles of the international law commission”, 2005, 24 australian year book of international law, pág.',\n",
              " 'en la anu se ha creado recientemente el australian national centre for latin american studies.',\n",
              " '), australian defense studies centre et alia, canberra, 1995.',\n",
              " 'la universidad nacional australiana, en inglés: the australian national university (anu), es una universidad localizada en el suburbio de acton en canberra, la capital federal de australia.']"
            ]
          },
          "metadata": {},
          "execution_count": 18
        }
      ]
    },
    {
      "cell_type": "markdown",
      "source": [
        "La extracción de estos ejemplos es aleatoria, pero realizando la consulta iterativamente se puede notar como en muchos contextos la palabra *autralian*, al ser la version inglesa del español *autraliano*, los contextos que se obtienen en casi nulo ejemplo se ve envuelto alrededor de núcleo de madurez economico. De esta forma podemos concluir, con todas las palabras que necesitemos, evaluar su permanencia en nuestras listas de palabras de interes. \n",
        "\n",
        "Este es un ejemplo en el cual al examinar el espacio de la lista original y viendo sus vecinos, encontramos ejemplos interesantes a agregar, pero descartamos otros luego de un análisis detallado de sus contextos por no estar alineado a los núcleos de significado propuestos en esta iteración.\n",
        "\n",
        "Otro caso posible es si hubieramos considerado la propiedad de *ganancia* y *perdida* en la madurez financiera. Miremos la distribución de sesgos primero."
      ],
      "metadata": {
        "id": "uJ7920j6KlFA"
      }
    },
    {
      "cell_type": "code",
      "source": [
        "nucleo_rico  += ['ganancia']\n",
        "nucleo_pobre += ['pérdida']"
      ],
      "metadata": {
        "id": "UvY3CZI6pNUc"
      },
      "execution_count": 19,
      "outputs": []
    },
    {
      "cell_type": "code",
      "source": [
        "explorador_de_sesgos_2.calculate_bias(procedencia, nucleo_pobre, nucleo_rico)"
      ],
      "metadata": {
        "colab": {
          "base_uri": "https://localhost:8080/",
          "height": 729
        },
        "id": "dIb5ue_WoAN7",
        "outputId": "9d992498-415f-49b4-cc5e-cd1983fd87d6"
      },
      "execution_count": 20,
      "outputs": [
        {
          "output_type": "execute_result",
          "data": {
            "text/plain": [
              "<Figure size 720x720 with 1 Axes>"
            ],
            "image/png": "[encoded data removed]"
          },
          "metadata": {},
          "execution_count": 20
        }
      ]
    },
    {
      "cell_type": "markdown",
      "source": [
        "Comparando estos núcleos de significado con los anterirores obtenidos observamos que aumentar la definición de los núcleos en este caso en concreto impacta al desplazamiento de todas las palabras, y asentuan las ya presentes, del lado del núcleo de pobreza.\n",
        "\n",
        "Pero lo cierto es que la palabra *pérdida* en sí tiene un significado más consistente, o propenso, a evocar a la pérdida material o de una persona, no necesariamente tratandose de una pérdida financiera. En estos casos tambien es interesante evaluar las palabras con la cual definimos nuestros núcleos de significado que, como todas, tambien se encuentran sesgadas. Utilicemos la utilidad del **prototipo de datos** para confirmar, o no, esta hipotesis."
      ],
      "metadata": {
        "id": "ROiguOThpcVr"
      }
    },
    {
      "cell_type": "code",
      "source": [
        "palabra_a_buscar = 'pérdida'\n",
        "\n",
        "_, conjuntos_de_origen = explorador_de_datos.getSubsetsInfo(palabra_a_buscar)\n",
        "conjuntos_de_origen"
      ],
      "metadata": {
        "colab": {
          "base_uri": "https://localhost:8080/"
        },
        "id": "_YoPv4wwqn7U",
        "outputId": "c0f4560c-b0b2-4338-cf38-89a9e625afa6"
      },
      "execution_count": 21,
      "outputs": [
        {
          "output_type": "execute_result",
          "data": {
            "text/plain": [
              "{'OpenSubtitles2018 (45519)': 0.2624662684226307,\n",
              " 'allwikis (34159)': 0.19696358142860437,\n",
              " 'multiUN (29430)': 0.16969578153470027,\n",
              " 'ParaCrawl (27758)': 0.16005489309684712,\n",
              " 'EUBookShop (9753)': 0.05623659386027631,\n",
              " 'DOGC (6373)': 0.03674723804691284,\n",
              " 'EMEA (5244)': 0.030237331918721314,\n",
              " 'ECB (3812)': 0.02198030306524898,\n",
              " 'DGT (3484)': 0.0200890282999285,\n",
              " 'Europarl (2968)': 0.0171137301935097,\n",
              " 'JRC (2695)': 0.015539589916276495,\n",
              " 'GlobalVoices (1015)': 0.005852572825610628,\n",
              " 'NewsCommentary11 (907)': 0.005229836012639251,\n",
              " 'UN (170)': 0.0009802338722697604,\n",
              " 'TED (141)': 0.0008130175058237425}"
            ]
          },
          "metadata": {},
          "execution_count": 21
        }
      ]
    },
    {
      "cell_type": "markdown",
      "source": [
        "Extraigamos tambien los contextos de los dos subconjuntos con mayor presencia de esta palabra."
      ],
      "metadata": {
        "id": "VM1bPuXvqsZK"
      }
    },
    {
      "cell_type": "code",
      "source": [
        "subconjuntos = ['OpenSubtitles2018', 'allwikis']\n",
        "\n",
        "ds = explorador_de_datos.findSplits(palabra_a_buscar, subconjuntos)\n",
        "contextos = explorador_de_datos.getContexts(palabra_a_buscar, cantidad_de_contextos, ds)\n",
        "[contexto[1].replace('<u><b>', '').replace('</b></u>', '') for contexto in contextos]"
      ],
      "metadata": {
        "colab": {
          "base_uri": "https://localhost:8080/"
        },
        "id": "huvi_5xJqyWS",
        "outputId": "fab2fa3c-7683-4e6e-cd00-268e9d4d7856"
      },
      "execution_count": 22,
      "outputs": [
        {
          "output_type": "execute_result",
          "data": {
            "text/plain": [
              "['está considerada en peligro de extinción por pérdida de hábitat.',\n",
              " 'está considerada en peligro de extinción por pérdida de hábitat.',\n",
              " 'la causa de esto es la pérdida de nitrógeno de la atmósfera, que deja el oxígeno puro, el cual finalmente estalla en llamas cuando el núcleo del cometa impacta.',\n",
              " 'está considerada en peligro de extinción por pérdida de hábitat.',\n",
              " 'es endémica de malasia y tailandia está considerada en peligro de extinción por pérdida de hábitat.',\n",
              " 'está considerada en peligro de extinción por pérdida de hábitat.',\n",
              " 'está considerada en peligro de extinción por pérdida de hábitat.',\n",
              " 'está considerada en peligro de extinción por pérdida de hábitat.',\n",
              " 'está considerada en peligro de extinción por pérdida de hábitat.',\n",
              " 'james luego se unió a the united states wrestling association como jesse james armstrong, ganando el campeonato heavywight y los títulos en parejas antes de ser forzado a salir como resultado de una pérdida contra jeff jarrett.']"
            ]
          },
          "metadata": {},
          "execution_count": 22
        }
      ]
    },
    {
      "cell_type": "markdown",
      "source": [
        "Se alienta al usuario a repetir la consulta de contextos multiples veces para observar distintos contextos. Se observan casos claros de una *pérdida* financiera, pero así tambien muchos otros tratandose de *pérdida* de tiempo, amor, objetos, familiares, etc.\n",
        "\n",
        "De esta forma podemos concluir que *pérdida* no es una buena opción de palabra para la definición de nuestro núcleo así que la removemos, pero aún nos queda ver el caso para la palabra *ganancia* (considerando, como en los anteriores casos, los dos subconjuntos con mayor frecuencia de esta palabra)."
      ],
      "metadata": {
        "id": "E6KaAe1_rV2w"
      }
    },
    {
      "cell_type": "code",
      "source": [
        "nucleo_pobre.remove('pérdida')"
      ],
      "metadata": {
        "id": "Klmo5IOlt950"
      },
      "execution_count": 23,
      "outputs": []
    },
    {
      "cell_type": "code",
      "source": [
        "palabra_a_buscar = 'ganancia'\n",
        "\n",
        "_, conjuntos_de_origen = explorador_de_datos.getSubsetsInfo(palabra_a_buscar)\n",
        "conjuntos_de_origen"
      ],
      "metadata": {
        "colab": {
          "base_uri": "https://localhost:8080/"
        },
        "id": "zGjgSrhiuIRr",
        "outputId": "d3aa04da-fa69-4a28-813f-8214ebbfebfc"
      },
      "execution_count": 24,
      "outputs": [
        {
          "output_type": "execute_result",
          "data": {
            "text/plain": [
              "{'OpenSubtitles2018 (5634)': 0.35208098987626546,\n",
              " 'ParaCrawl (4372)': 0.2732158480189976,\n",
              " 'allwikis (3729)': 0.23303337082864642,\n",
              " 'multiUN (570)': 0.03562054743157105,\n",
              " 'EUBookShop (514)': 0.03212098487689039,\n",
              " 'DGT (247)': 0.01543557055368079,\n",
              " 'ECB (204)': 0.01274840644919385,\n",
              " 'DOGC (157)': 0.00981127359080115,\n",
              " 'EMEA (136)': 0.0084989376327959,\n",
              " 'GlobalVoices (119)': 0.0074365704286964126,\n",
              " 'JRC (101)': 0.006311711036120485,\n",
              " 'NewsCommentary11 (90)': 0.00562429696287964,\n",
              " 'Europarl (88)': 0.0054993125859267595,\n",
              " 'TED (41)': 0.002562179727534058}"
            ]
          },
          "metadata": {},
          "execution_count": 24
        }
      ]
    },
    {
      "cell_type": "code",
      "source": [
        "subconjuntos = ['OpenSubtitles2018', 'ParaCrawl']\n",
        "\n",
        "ds = explorador_de_datos.findSplits(palabra_a_buscar, subconjuntos)\n",
        "contextos = explorador_de_datos.getContexts(palabra_a_buscar, cantidad_de_contextos, ds)\n",
        "[contexto[1].replace('<u><b>', '').replace('</b></u>', '') for contexto in contextos]"
      ],
      "metadata": {
        "colab": {
          "base_uri": "https://localhost:8080/"
        },
        "id": "B88UJpbkud4S",
        "outputId": "a819e644-2ab4-4d3a-e58f-974350d8ecf2"
      },
      "execution_count": 25,
      "outputs": [
        {
          "output_type": "execute_result",
          "data": {
            "text/plain": [
              "['no suele ser muy emprendedor el mallorquín, y prefiere la ganancia pequeña pero segura a la de más entidad pero fruto de una gestión empresarial a largo plazo que siempre entraña cierto riesgo.',\n",
              " 'ganancia de salud = prevención + regeneración = lo que va sobretodo distinguir las empresas y las economías nacionales en la competición futura es la salud de las personas y la calidad de su sistema de salud, particularmente de un punto de vista holístico: físico, psicológico, mental y ecológico.',\n",
              " 'la guerra es ganancia.',\n",
              " 'el pedir que hagamos lo contrario es una distorsión forzada de la verdad para ganancia personal.',\n",
              " 'con su acceso web a sus clientes, ud. puede encontrar la historia de sus pedidos y recibir información sobre su ganancia a cada hora.',\n",
              " '¿dónde está la ganancia?']"
            ]
          },
          "metadata": {},
          "execution_count": 25
        }
      ]
    },
    {
      "cell_type": "markdown",
      "source": [
        "Al igual que con perdida, es interesante ver diferentes contextos, pero se nota una mayor tendencia a trata la palabra *ganancia* en un sentico economico/financiero pero no excluyente; por lo tanto dependerá del experto de dominio su decisión de conservar esta palabra en la definición del núcleo de riqueza. En este caso optamos por conservarla y vemos como impacta finalmente en la evaluación de sesgos final.\n",
        "\n",
        "> **Notar**: no es necesario que las definiciones de los núcleos contengan la misma cantidad de palabras (u opuestas por completo). Solo que este presente al menos una palabra para cada definición."
      ],
      "metadata": {
        "id": "IZDDXsfvu0bq"
      }
    },
    {
      "cell_type": "code",
      "source": [
        "explorador_de_sesgos_2.calculate_bias(procedencia, nucleo_pobre, nucleo_rico)"
      ],
      "metadata": {
        "colab": {
          "base_uri": "https://localhost:8080/",
          "height": 729
        },
        "id": "-1CFz0s_vgy8",
        "outputId": "0bf56754-ce58-474a-d323-434ec530052f"
      },
      "execution_count": 26,
      "outputs": [
        {
          "output_type": "execute_result",
          "data": {
            "text/plain": [
              "<Figure size 720x720 with 1 Axes>"
            ],
            "image/png": "[encoded data removed]"
          },
          "metadata": {},
          "execution_count": 26
        }
      ]
    },
    {
      "cell_type": "markdown",
      "source": [
        "## Aumentando la cantidad de núcleos de significado"
      ],
      "metadata": {
        "id": "sL1X3-FrvuWg"
      }
    },
    {
      "cell_type": "markdown",
      "source": [
        "Dos núcleos de significado en muchas ocasiones nos es suficiente para evaluar sesgos en las palabras, más concretamente sus representaciones vectoriales, pero existen momentos donde es interesante ir más alla de lo superficial y entrar en sesgos más finos y detallados.\n",
        "\n",
        "Por ejemplo, en los sesgos de profeciones y su género puede ser de interés agregar el componente de edad al sesgo de género, o componente de trabajador al sesgo de madurez financiera. De tal forma, evaluariamos más alla de un sesgo binario.\n",
        "\n",
        "Comencemos con el ejemplo de profeciones, definamos los núcleos de edad como son joven y adulto."
      ],
      "metadata": {
        "id": "75ypjxoX76x-"
      }
    },
    {
      "cell_type": "code",
      "source": [
        "nucleo_joven  = ['joven', 'inmaduro', 'crio', 'niño']\n",
        "nucleo_adulto = ['adulto', 'maduro', 'anciano', 'viejo']"
      ],
      "metadata": {
        "id": "5agaLZgI-6Gq"
      },
      "execution_count": 27,
      "outputs": []
    },
    {
      "cell_type": "markdown",
      "source": [
        "Utilizando las mismas profeciones que venimos trabajando, evaluemos sus distribuciones en el plano."
      ],
      "metadata": {
        "id": "GtdI3IgU_nFa"
      }
    },
    {
      "cell_type": "code",
      "source": [
        "explorador_de_sesgos_4.calculate_bias(profesiones, nucleo_masc, nucleo_fem, nucleo_joven, nucleo_adulto)"
      ],
      "metadata": {
        "colab": {
          "base_uri": "https://localhost:8080/",
          "height": 608
        },
        "id": "SR703qAY_yMZ",
        "outputId": "adc5281b-2121-4b14-d45e-41ab7224444b"
      },
      "execution_count": 28,
      "outputs": [
        {
          "output_type": "execute_result",
          "data": {
            "text/plain": [
              "<Figure size 720x720 with 1 Axes>"
            ],
            "image/png": "[encoded data removed]"
          },
          "metadata": {},
          "execution_count": 28
        }
      ]
    },
    {
      "cell_type": "markdown",
      "source": [
        "Notemos que el resultado de la ejecución es un plano dividido en cuatro cuadrantes, examinemos cada uno de ellos.\n",
        "\n",
        "Cuadrante I - **núcleo masculino joven**: Sin profeciones.\n",
        "\n",
        "Cuadrante II - **núcleo femenino joven**: *enfermera*, *arquitecta*, *comadrona* y *urbanista*.\n",
        "\n",
        "Cuadrante III - **núcleo femenino adulto**: Sin profesiones.\n",
        "\n",
        "Cuadrante IV - **núcleo masculino adulto**: *arquitecto*, *enfermero*, *astronauta* y *cosmonauta*.\n",
        "\n",
        "Esto nos dice que las profesiones más cercanas al núcleo masculino, además, estan del lado de componerse por personas adultas. Mientras que, por otro lado, aquellas del lado del núcleo femenino componerse por gente joven.\n",
        "\n",
        "Veamos tambien, el resultado de agregar la componente de trabajador al sesgo de madurez financiera."
      ],
      "metadata": {
        "id": "rDZJ6jysBj8a"
      }
    },
    {
      "cell_type": "code",
      "source": [
        "nucleo_vago       = ['vago', 'perezoso', 'gandul']\n",
        "nucleo_trabajador = ['trabajador', 'trabajar', 'esfuerzo']"
      ],
      "metadata": {
        "id": "GVvQfc8rF7MY"
      },
      "execution_count": 29,
      "outputs": []
    },
    {
      "cell_type": "code",
      "source": [
        "explorador_de_sesgos_4.calculate_bias(procedencia, nucleo_rico, nucleo_pobre, nucleo_trabajador, nucleo_vago)"
      ],
      "metadata": {
        "colab": {
          "base_uri": "https://localhost:8080/",
          "height": 608
        },
        "id": "71jpXit3GPGr",
        "outputId": "14b8b0ca-c5fe-4c21-8525-1fbf46067084"
      },
      "execution_count": 30,
      "outputs": [
        {
          "output_type": "execute_result",
          "data": {
            "text/plain": [
              "<Figure size 720x720 with 1 Axes>"
            ],
            "image/png": "[encoded data removed]"
          },
          "metadata": {},
          "execution_count": 30
        }
      ]
    },
    {
      "cell_type": "markdown",
      "source": [
        "Cuadrante I - **núcleo rico trabajador**: *alemana*, *australiana*, *boliviana*, *alemán*, *americana* y *australiano*.\n",
        "\n",
        "Cuadrante II - **núcleo pobre trabajador**: *nigeriano* y *nigeriana*.\n",
        "\n",
        "Cuadrante III - **núcleo pobre vago**: Sin gentilicios.\n",
        "\n",
        "Cuadrante IV - **núcleo rico vago**: *argentina*, *argentino*, *boliviano* y *americano*.\n",
        "\n",
        "Es interesante como los oriundos de Nigeria son considerados trabajadores estando en una posición de desvantaja economica, oriundos de Argentina vagos pero con mayor riqueza y que oriundos de Alemania y Australia estar considerados tanto bien economicamente como trabajadores.\n",
        "\n",
        "Viendo más a detalle, observamos como *argentino* y *boliviano* se encuentran a la misma distancia del núcleo vago pero estando el *boliviano* más cerca del núcleo rico que el *argentino* destacando así un leve sesgo de riqueza."
      ],
      "metadata": {
        "id": "OqrKIkuBI7Af"
      }
    },
    {
      "cell_type": "markdown",
      "source": [
        "De esta **forma iterativa** entre la **evaluación de sesgos** y la **exploración de palabras**, conseguimos generar **listas de palabras de interés**, junto a **definiciones de núcleo de signficado** adecuados a los sesgos a evaluar."
      ],
      "metadata": {
        "id": "4KTQmy_SLarL"
      }
    },
    {
      "cell_type": "markdown",
      "source": [
        "## Sesgo no binario\n"
      ],
      "metadata": {
        "id": "CZi3bRLBL9Vf"
      }
    },
    {
      "cell_type": "markdown",
      "source": [
        "Existe cierto tipo de sesgos sin una clara componente binarizable, por ejemplo, buscando sesgos de edad observamos que podemos binarizar con *joven*-*adutlo*, o género *femenino*-*masculino*. Claros ejemplo de sesgos imposibles de binarizar son: *queer*/*no queer* o *púeblo autóctono*/*no autóctono*.\n",
        "\n",
        "Estos sesgos son dificiles de evaluar con las herramientas previstas anteriormente, se deberia recurrir a sub-definiciones de ellas que permitan una binarización, es por ello que para conocer su impacto en modelos de PLN aramamos frases que nos permita establecer una graduación entre los significados, y no una binarización. Con estas frases evaluamos las preferencias de modelos entrenados existentes para así confirmar la presencia del sesgo en ellos.\n",
        "\n",
        "Para comparar diferentes aproximaciones, utilizaremos los *modelos de lenguaje basados en [Bert](https://arxiv.org/pdf/1810.04805.pdf)*, [BETO](https://users.dcc.uchile.cl/~jperez/papers/pml4dc2020.pdf) y [RoBERTuito](https://arxiv.org/pdf/2111.09453.pdf).\n",
        "\n",
        "> **Nota**: Los modelos disponibles para su utilización con esta herramienta deben estar cargados en la plataforma de HuggingFace🤗 y basados en Bert. [Aqui](https://huggingface.co/models?sort=downloads&search=bert) dejamos listados todos los modelos disponibles.\n",
        ">\n",
        "> Además, para una exploración multilingue se puede cargar y utilizar `'bert-base-multilingual-uncased'`."
      ],
      "metadata": {
        "id": "ENGVl_wcC4fi"
      }
    },
    {
      "cell_type": "code",
      "source": [
        "# Carga de los modelos presentes en HuggingFace🤗\n",
        "BETO_LM       = 'dccuchile/bert-base-spanish-wwm-uncased'\n",
        "RoBERTuito_LM = 'pysentimiento/robertuito-base-uncased'\n",
        "\n",
        "beto_lm       = LanguageModel(BETO_LM)\n",
        "robertuito_lm = LanguageModel(RoBERTuito_LM)\n",
        "\n",
        "explorador_de_frase_beto        = RankSents(language_model=beto_lm, lang='es', errorManager=errorManager)\n",
        "comparador_de_frases_beto       = CrowsPairs(language_model=beto_lm, errorManager=errorManager)\n",
        "explorador_de_frase_robertuito  = RankSents(language_model=robertuito_lm, lang='es', errorManager=errorManager)\n",
        "comparador_de_frases_robertuito = CrowsPairs(language_model=robertuito_lm, errorManager=errorManager)"
      ],
      "metadata": {
        "collapsed": true,
        "id": "c5pJbMRBpz9h"
      },
      "execution_count": null,
      "outputs": []
    },
    {
      "cell_type": "markdown",
      "source": [
        "En las frases a construir, es interesante brindar al modelo ejemplos con estereotipos y con anti-estereotipos y evaluar así la preferencia, por ejemplo, podemos tomar la frase con estereotipo \"*Los **homosexuales** no deberian poder casarse*\", y la frase con anti-estereotipo \"*Los **heterosexuales** no deberian poder casarse*\".\n",
        "\n",
        "Veamos las preferencias de ambos modelos frente estos estereotipos.\n",
        "\n",
        "> **Notar**: Las frases deben llevar aquellas palabras con las cuales se busca diferenciar encapsuladas por los simbolos '<' y '>'."
      ],
      "metadata": {
        "id": "P7tPLk1H3lrM"
      }
    },
    {
      "cell_type": "code",
      "source": [
        "frase_homo = 'Los <homosexuales> no deberían poder casarse'\n",
        "frase_hete = 'Los <heterosexuales> no deberían poder casarse'"
      ],
      "metadata": {
        "id": "kI7mg4EK8xE6"
      },
      "execution_count": 32,
      "outputs": []
    },
    {
      "cell_type": "code",
      "source": [
        "# BETO\n",
        "comparador_de_frases_beto.rank([frase_homo, frase_hete])"
      ],
      "metadata": {
        "colab": {
          "base_uri": "https://localhost:8080/"
        },
        "id": "cgV8yWzc48-2",
        "outputId": "a01649ae-0878-438c-f311-7b40a7a8af6e"
      },
      "execution_count": 33,
      "outputs": [
        {
          "output_type": "execute_result",
          "data": {
            "text/plain": [
              "{'Los <homosexuales> no deberían poder casarse': -41.4390349984169,\n",
              " 'Los <heterosexuales> no deberían poder casarse': -39.74378824234009}"
            ]
          },
          "metadata": {},
          "execution_count": 33
        }
      ]
    },
    {
      "cell_type": "code",
      "source": [
        "# RoBERTuito\n",
        "comparador_de_frases_robertuito.rank([frase_homo, frase_hete])"
      ],
      "metadata": {
        "colab": {
          "base_uri": "https://localhost:8080/"
        },
        "id": "4_7T29SW9SNr",
        "outputId": "23772802-48b4-45c0-baea-098ddb778c6f"
      },
      "execution_count": 34,
      "outputs": [
        {
          "output_type": "stream",
          "name": "stderr",
          "text": [
            "Asking to truncate to max_length but no maximum length is provided and the model has no predefined maximum length. Default to no truncation.\n"
          ]
        },
        {
          "output_type": "execute_result",
          "data": {
            "text/plain": [
              "{'Los <homosexuales> no deberían poder casarse': -5.7272855788469315,\n",
              " 'Los <heterosexuales> no deberían poder casarse': -5.896248981356621}"
            ]
          },
          "metadata": {},
          "execution_count": 34
        }
      ]
    },
    {
      "cell_type": "markdown",
      "source": [
        "> ¡El **valor más alto** indica la preferencia del modelo! \n",
        "\n",
        "En el primer caso, con el modelo **BETO**, se trata de la frase con anti-estereotipo; mientras que con el modelo RoBERTuito, aquella con estereotipo, exponiendo así como este último contiene un ligero sesgo.\n",
        "\n",
        "Veamos otro ejemplo, esta vez midiendo el sesgo de los modelos frente a oriundos de pueblos autóctonos frente al consumo de bebidas alcohólicas."
      ],
      "metadata": {
        "id": "0I_BzzWE9We0"
      }
    },
    {
      "cell_type": "code",
      "source": [
        "frase_mapuche = 'Todos sabemos que los <mapuches> son alcohólicos'\n",
        "frase_europeo = 'Todos sabemos que los <descendientes de europeos> son alcohólicos'"
      ],
      "metadata": {
        "id": "uZVmp5IMAuCS"
      },
      "execution_count": 35,
      "outputs": []
    },
    {
      "cell_type": "code",
      "source": [
        "# BETO\n",
        "comparador_de_frases_beto.rank([frase_mapuche, frase_europeo])"
      ],
      "metadata": {
        "colab": {
          "base_uri": "https://localhost:8080/"
        },
        "id": "MU3Zb1z1BGNb",
        "outputId": "daf0f67d-c170-4ccf-d7b6-eff8e649bc2d"
      },
      "execution_count": 36,
      "outputs": [
        {
          "output_type": "execute_result",
          "data": {
            "text/plain": [
              "{'Todos sabemos que los <mapuches> son alcohólicos': -31.540173802524805,\n",
              " 'Todos sabemos que los <descendientes de europeos> son alcohólicos': -33.687846805900335}"
            ]
          },
          "metadata": {},
          "execution_count": 36
        }
      ]
    },
    {
      "cell_type": "code",
      "source": [
        "# RoBERTuito\n",
        "comparador_de_frases_robertuito.rank([frase_mapuche, frase_europeo])"
      ],
      "metadata": {
        "colab": {
          "base_uri": "https://localhost:8080/"
        },
        "id": "SRfEVoL_BKyx",
        "outputId": "0b255446-8d59-44d4-bc02-c91e921ed42b"
      },
      "execution_count": 37,
      "outputs": [
        {
          "output_type": "execute_result",
          "data": {
            "text/plain": [
              "{'Todos sabemos que los <mapuches> son alcohólicos': -2.7564125396311283,\n",
              " 'Todos sabemos que los <descendientes de europeos> son alcohólicos': -3.182741615921259}"
            ]
          },
          "metadata": {},
          "execution_count": 37
        }
      ]
    },
    {
      "cell_type": "markdown",
      "source": [
        "Aquí en ambos casos, la frase con estereotipo es aquella preferente por ambos modelos.\n",
        "\n",
        "De cualquier forma, tambien podemos evaluar sesgos en frases con multiples componentes sesgados y comparar así preferencias del modelo más profundas, como por ejemplo"
      ],
      "metadata": {
        "id": "7XwK9TwTBPie"
      }
    },
    {
      "cell_type": "code",
      "source": [
        "frase_mujer  = 'No cualquier <mujer> con hijos logra ser <una buena> profesional'\n",
        "frase_hombre = 'No cualquier <hombre> con hijos logra ser <un buen> profesional'\n",
        "frase_binario_m = 'No cualquier <persona no binaria> con hijos logra ser <un buen> profesional'\n",
        "frase_binario_f = 'No cualquier <persona no binaria> con hijos logra ser <una buena> profesional'"
      ],
      "metadata": {
        "id": "ds6HsPYkEQpT"
      },
      "execution_count": 38,
      "outputs": []
    },
    {
      "cell_type": "code",
      "source": [
        "# BETO\n",
        "comparador_de_frases_beto.rank([frase_mujer, frase_hombre, frase_binario_m, frase_binario_f])"
      ],
      "metadata": {
        "colab": {
          "base_uri": "https://localhost:8080/"
        },
        "id": "cdrN2YY8Fyxa",
        "outputId": "9bed762b-3434-423a-dedb-3bda7f859743"
      },
      "execution_count": 39,
      "outputs": [
        {
          "output_type": "execute_result",
          "data": {
            "text/plain": [
              "{'No cualquier <mujer> con hijos logra ser <una buena> profesional': -26.2485653758049,\n",
              " 'No cualquier <hombre> con hijos logra ser <un buen> profesional': -28.223704382777214,\n",
              " 'No cualquier <persona no binaria> con hijos logra ser <un buen> profesional': -30.697311222553253,\n",
              " 'No cualquier <persona no binaria> con hijos logra ser <una buena> profesional': -29.880320101976395}"
            ]
          },
          "metadata": {},
          "execution_count": 39
        }
      ]
    },
    {
      "cell_type": "code",
      "source": [
        "# RoBERTuito\n",
        "comparador_de_frases_robertuito.rank([frase_mujer, frase_hombre, frase_binario_m, frase_binario_f])"
      ],
      "metadata": {
        "colab": {
          "base_uri": "https://localhost:8080/"
        },
        "id": "O0bfwnXhF4hW",
        "outputId": "7871065b-9d26-4902-d07b-d711b77f14e3"
      },
      "execution_count": 40,
      "outputs": [
        {
          "output_type": "execute_result",
          "data": {
            "text/plain": [
              "{'No cualquier <mujer> con hijos logra ser <una buena> profesional': -21.67134727165103,\n",
              " 'No cualquier <hombre> con hijos logra ser <un buen> profesional': -22.53737234696746,\n",
              " 'No cualquier <persona no binaria> con hijos logra ser <un buen> profesional': -21.16153685003519,\n",
              " 'No cualquier <persona no binaria> con hijos logra ser <una buena> profesional': -21.79696948826313}"
            ]
          },
          "metadata": {},
          "execution_count": 40
        }
      ]
    },
    {
      "cell_type": "markdown",
      "source": [
        "Estos ejemplos son interesantes para identificar como **BETO** presenta mayor sesgo en madres y buen desarollo profesional frente a padres o personas no binarias y su excelencia en el mismo. Inclusive para personas no binarias el modelo presenta una ligero preferencia a un género de palabras femenino sobre el masculino.\n",
        "\n",
        "El caso de **RoBERTuito** es muy interesante porque considera de mayor preferencia a la persona no binaria con hijos y un caracter masculino, frente a los demás, pero con menor desviación sobre los resultados que en el caso de **BETO**."
      ],
      "metadata": {
        "id": "0dAZpY-RGcWq"
      }
    },
    {
      "cell_type": "markdown",
      "source": [
        "Así mismo, estos modelos nos permiten explorar frases desde su propia perspectiva, aumentando la flexibilidad y autonomía de los  mismos.\n",
        "\n",
        "Por ejemplo, trabajemos con la frase:\n",
        "\n",
        "> *Los * deberian volver a su país.*\n",
        "\n",
        "¿Qué palabras considerariamos para suplantar el simbolo ' * ' ?\n",
        "\n",
        "Al solo leearla, podemos suponer que carga de una connotación negativa y que la respuesta depende, también, de quién la esté expresando. Si fuera un estadounidense, podria reemplazar el simbolo ' * ' por las palabras *latinos*, *mexicanos*, *aliens*, *ilegales* o *indocumentados*, debido a los recientes distrubios sobre el tema en Estados Unidos; si se tratara de un español podria reemplazarlo por *marroquíes*, *negros* o *ilegales*, tembien debido a problemas relacionados en España.\n",
        "\n",
        "Pero, ¿qué decide el modelo? ¿Cuál es su respuesta a esta tarea cuyo resultado podria marcar un sesgo latente en el mismo? Exploremos las posibilidades que brinda EDIA para esto y evaluemos los resultados de **BETO** y **RoBERTuito**.\n",
        "\n",
        "> **Notar**: las frases a explorar solo pueden contener un único simbolo ' * ' para que el modelo evalue diferentes palabras a aproximar."
      ],
      "metadata": {
        "id": "DcTn05qAvVdn"
      }
    },
    {
      "cell_type": "code",
      "source": [
        "frase = 'Los * deberian volver a su país.'"
      ],
      "metadata": {
        "id": "vDgWcrZtzDij"
      },
      "execution_count": 41,
      "outputs": []
    },
    {
      "cell_type": "code",
      "source": [
        "palabras_posibles = ['latinos', 'mexicanos', 'aliens', 'ilegales', 'indocumentados', 'marroquíes', 'negros']"
      ],
      "metadata": {
        "id": "0oMVaDHHzZut"
      },
      "execution_count": 42,
      "outputs": []
    },
    {
      "cell_type": "code",
      "source": [
        "# BETO\n",
        "explorador_de_frase_beto.rank(frase, palabras_posibles)"
      ],
      "metadata": {
        "colab": {
          "base_uri": "https://localhost:8080/"
        },
        "id": "itHxz5bBy3Jv",
        "outputId": "a2ededdb-851d-4b50-ab1d-69f9bf02a4ee"
      },
      "execution_count": 43,
      "outputs": [
        {
          "output_type": "execute_result",
          "data": {
            "text/plain": [
              "{'Los <latinos> deberian volver a su país.': -27.85725111886859,\n",
              " 'Los <mexicanos> deberian volver a su país.': -27.28988987673074,\n",
              " 'Los <aliens> deberian volver a su país.': -23.330254178727046,\n",
              " 'Los <ilegales> deberian volver a su país.': -28.029984182678163,\n",
              " 'Los <indocumentados> deberian volver a su país.': -25.964446819853038,\n",
              " 'Los <marroquíes> deberian volver a su país.': -27.834453711286187,\n",
              " 'Los <negros> deberian volver a su país.': -28.48187132924795}"
            ]
          },
          "metadata": {},
          "execution_count": 43
        }
      ]
    },
    {
      "cell_type": "code",
      "source": [
        "# RoBERTuito\n",
        "explorador_de_frase_robertuito.rank(frase, palabras_posibles)"
      ],
      "metadata": {
        "colab": {
          "base_uri": "https://localhost:8080/"
        },
        "id": "HRez2bys0Pjr",
        "outputId": "a0c4d90e-a603-4e92-d31a-97d0f924662c"
      },
      "execution_count": 44,
      "outputs": [
        {
          "output_type": "execute_result",
          "data": {
            "text/plain": [
              "{'Los <latinos> deberian volver a su país.': -10.746986382640898,\n",
              " 'Los <mexicanos> deberian volver a su país.': -10.907381769735366,\n",
              " 'Los <aliens> deberian volver a su país.': -13.390221965499222,\n",
              " 'Los <ilegales> deberian volver a su país.': -11.36031633336097,\n",
              " 'Los <indocumentados> deberian volver a su país.': -10.557422032114118,\n",
              " 'Los <marroquíes> deberian volver a su país.': -9.508805258665234,\n",
              " 'Los <negros> deberian volver a su país.': -11.593792323488742}"
            ]
          },
          "metadata": {},
          "execution_count": 44
        }
      ]
    },
    {
      "cell_type": "markdown",
      "source": [
        "Al igual que sucedia anteriormente, el **valor más alto** indica la preferencia del modelo. Es decir, el modelo **BETO** presenta una preferencia sobre rellenar la frase con la palabra *aliens*, seguido de *indocumentados* y *mexicanos*, mientras que **RoBERTuito** presenta una preferencia sobre la palabra *marroquíes*, seguido de cerca por las palabras *indocumentados* y *latinos*.\n",
        "\n",
        "Esto es interesante porque **RoBERTuito** fue entrenado sobre grandes volumenes de tweets donde la entrada masiva de marroquíes a España repercutió fuertemente en la plataforma. **BETO** por su lado fue entrenado sobre [diferentes corpus de gran volumen](https://github.com/josecannete/spanish-corpora) influenciado, quizas, por textos americanos traducidos.\n",
        "\n",
        "Otra forma de explorar posibles preferencias del modelo, es que este realice una exploración libre y más cercano a su realidad independiente. Veamos entonces un ejemplo con **BETO** sin suministrar palabras posibles."
      ],
      "metadata": {
        "id": "oWGpY1UE0YUP"
      }
    },
    {
      "cell_type": "code",
      "source": [
        "# BETO\n",
        "explorador_de_frase_beto.rank(frase, [])"
      ],
      "metadata": {
        "colab": {
          "base_uri": "https://localhost:8080/"
        },
        "id": "ac0LQvxl3B07",
        "outputId": "28a93ad7-27f5-460f-be33-216827908e42"
      },
      "execution_count": 45,
      "outputs": [
        {
          "output_type": "execute_result",
          "data": {
            "text/plain": [
              "{'Los <dos> deberian volver a su país.': -28.737408803775907,\n",
              " 'Los <animales> deberian volver a su país.': -25.16513111302629,\n",
              " 'Los <demas> deberian volver a su país.': -26.542334639001638,\n",
              " 'Los <adultos> deberian volver a su país.': -26.227066862396896,\n",
              " 'Los <elefantes> deberian volver a su país.': -26.14994589239359}"
            ]
          },
          "metadata": {},
          "execution_count": 45
        }
      ]
    },
    {
      "cell_type": "markdown",
      "source": [
        "Notar como las palabras difieren de la tematica que habiamos propuesto, sin embargo, no son incorrectas. *Animales* es aquella palabra con la cual el modelo presenta una alta preferencia, incluso sobre las palabras que habiamos propuesto anteriormente.\n",
        "\n",
        "En estos casos, podemos pedir al modelo que evite estas palabras en su consideración como son *dos*, *elefantes*, *demas* u *animales* por no alinearse con nuestra tematica."
      ],
      "metadata": {
        "id": "l-8WuCgr3nqY"
      }
    },
    {
      "cell_type": "code",
      "source": [
        "explorador_de_frase_beto.rank(frase, [], ['dos', 'elefantes', 'animales', 'demas'])"
      ],
      "metadata": {
        "colab": {
          "base_uri": "https://localhost:8080/"
        },
        "id": "0ItvepD84gSR",
        "outputId": "38c4f4fb-fc2c-4c26-a164-92cc18795bef"
      },
      "execution_count": 46,
      "outputs": [
        {
          "output_type": "execute_result",
          "data": {
            "text/plain": [
              "{'Los <adultos> deberian volver a su país.': -26.227066862396896,\n",
              " 'Los <hombres> deberian volver a su país.': -30.873552417382598,\n",
              " 'Los <otros> deberian volver a su país.': -22.727969768457115,\n",
              " 'Los <hijos> deberian volver a su país.': -35.31794109940529,\n",
              " 'Los <padres> deberian volver a su país.': -31.567303537391126}"
            ]
          },
          "metadata": {},
          "execution_count": 46
        }
      ]
    },
    {
      "cell_type": "markdown",
      "source": [
        "Siendo ahora *otros* la palabra con mayor preferencia por parte del modelo.\n",
        "\n",
        "En ciertos casos, las palabras que el modelo propone pueden ser **artículos**, **preposiciones** o **conjunciones** de las cuales no tenemos interés en nuestra exploración. Por ejemplo la frase\n",
        "\n",
        "> \\* negros inutiles."
      ],
      "metadata": {
        "id": "QRu1Oa3R44x_"
      }
    },
    {
      "cell_type": "code",
      "source": [
        "frase_2 = '* negros inútiles.'"
      ],
      "metadata": {
        "id": "S9dMpK9r5mBD"
      },
      "execution_count": 47,
      "outputs": []
    },
    {
      "cell_type": "code",
      "source": [
        "explorador_de_frase_beto.rank(frase_2, [])"
      ],
      "metadata": {
        "colab": {
          "base_uri": "https://localhost:8080/"
        },
        "id": "pBz_YB8a50bi",
        "outputId": "a9cc65e0-e006-4c0c-f615-878d5811e42c"
      },
      "execution_count": 48,
      "outputs": [
        {
          "output_type": "execute_result",
          "data": {
            "text/plain": [
              "{'<los> negros inútiles.': -28.41728711128235,\n",
              " '<son> negros inútiles.': -30.641292810440063,\n",
              " '<de> negros inútiles.': -35.132461071014404,\n",
              " '<mis> negros inútiles.': -25.201225757598877,\n",
              " '<dos> negros inútiles.': -29.92362928390503}"
            ]
          },
          "metadata": {},
          "execution_count": 48
        }
      ]
    },
    {
      "cell_type": "markdown",
      "source": [
        "Podemos excluir estas palabras por falta de interés o contaminación de los ejemplos."
      ],
      "metadata": {
        "id": "Lu5o17dY6FdF"
      }
    },
    {
      "cell_type": "code",
      "source": [
        "explorador_de_frase_beto.rank(frase_2, [], articles=True, prepositions=True, conjunctions=True)"
      ],
      "metadata": {
        "colab": {
          "base_uri": "https://localhost:8080/"
        },
        "id": "ACMuMmUZ6FC7",
        "outputId": "3b9b4b89-0614-4ba5-fc18-a6f44934a3ae"
      },
      "execution_count": 49,
      "outputs": [
        {
          "output_type": "execute_result",
          "data": {
            "text/plain": [
              "{'<son> negros inútiles.': -30.641292810440063,\n",
              " '<mis> negros inútiles.': -25.201225757598877,\n",
              " '<dos> negros inútiles.': -29.92362928390503,\n",
              " '<hay> negros inútiles.': -33.47293949127197,\n",
              " '<tres> negros inútiles.': -29.846309661865234}"
            ]
          },
          "metadata": {},
          "execution_count": 49
        }
      ]
    },
    {
      "cell_type": "markdown",
      "source": [
        "---"
      ],
      "metadata": {
        "id": "6xyVQtnLn32b"
      }
    }
  ]
}