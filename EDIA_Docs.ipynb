{
  "cells": [
    {
      "cell_type": "markdown",
      "metadata": {
        "id": "view-in-github",
        "colab_type": "text"
      },
      "source": [
        "<a href=\"https://colab.research.google.com/github/fvialibre/edia/blob/master/EDIA_Docs.ipynb\" target=\"_parent\"><img src=\"https://colab.research.google.com/assets/colab-badge.svg\" alt=\"Open In Colab\"/></a>"
      ]
    },
    {
      "cell_type": "markdown",
      "source": [
        "# **EDIA**: Estereotipos y Discriminación en Inteligencia Artificial \n",
        "\n",
        "Notebook con proposito de documentación sobre la herramienta y sus clases.\n",
        "\n",
        "---"
      ],
      "metadata": {
        "id": "gwgsThogKQzA"
      }
    },
    {
      "cell_type": "markdown",
      "source": [
        "## Objetivo general\n",
        "\n",
        "El objetivo de esta notebook es **familarizarse** con las diferentes clases y funcionalidades que ofrece la herramienta en la **particularización**, **deteccion** y **exposición** de los sesgos presentes en *embeddings* de palabras o sentencias, que, de forma indirecta, afecta a comunidades vulnerables frente a modelos de inteligencia artificial que se basan en ellos para el procesamientos del lenguaje y comunicación."
      ],
      "metadata": {
        "id": "_2LveNCo2_R6"
      }
    },
    {
      "cell_type": "markdown",
      "source": [
        "## Descarga o uso on-line\n",
        "\n",
        "Pueden encontrar tanto repositorios en GitHub como en HuggingFace🤗 para instalar localmente esta herramienta. Además, se cuenta en HuggingFace🤗 con una demo con interfaz grafica para conseguir exponer este trabajos a aquellos sectores con menor nivel de conocimiento pero gran interés en el área.\n",
        "\n",
        "`GitHub:` https://github.com/fvialibre/edia\n",
        "\n",
        "`HuggingFace🤗`: https://huggingface.co/spaces/vialibre/edia\n"
      ],
      "metadata": {
        "id": "PbrlG5V7sB9Y"
      }
    },
    {
      "cell_type": "markdown",
      "source": [
        "## Estableciendo el entorno de trabajo\n",
        "Para descargar la herramienta, el *dataset* y los paquetes de python requeridos para el correcto funcionamiento, ejecutar la siguiente celda."
      ],
      "metadata": {
        "id": "ajDbRPm825gl"
      }
    },
    {
      "cell_type": "code",
      "source": [
        "# Descarga y descomprimir archivo de word embeddings del español\n",
        "!wget -q http://dcc.uchile.cl/~jperez/word-embeddings/fasttext-sbwc.100k.vec.gz\n",
        "!gzip -d fasttext-sbwc.100k.vec.gz\n",
        "\n",
        "# Clonar repositorio\n",
        "!git clone https://github.com/fvialibre/edia.git\n",
        "\n",
        "# Crear directorio data/\n",
        "!mkdir edia/data\n",
        "\n",
        "# Mover word embeddings al directorio data/\n",
        "!mv fasttext-sbwc.100k.vec edia/data/fasttext-sbwc.100k.vec\n",
        "\n",
        "# Instalar gdown para descargar de Google Drive\n",
        "!pip3 -q install --upgrade gdown\n",
        "\n",
        "# Descargar y mover a direcotrio data/ vocabulario quarter\n",
        "!gdown https://drive.google.com/uc?id=1NYgWZTPDhpKsZO9qOsP29mKHviA_gsYW\n",
        "!mv quarter_vocab_v6.zip edia/data/quarter_vocab_v6.zip\n",
        "\n",
        "# Mover current directory al repo\n",
        "%cd edia/\n",
        "\n",
        "# Instalar paquetes y librerias requeridas\n",
        "!pip -q install -r requirements.txt\n",
        "\n",
        "# Google Colab reasons an old version of matplotlib is required\n",
        "!pip install matplotlib==3.1.3"
      ],
      "metadata": {
        "id": "SweVWrZFwmYy",
        "collapsed": true
      },
      "execution_count": null,
      "outputs": []
    },
    {
      "cell_type": "markdown",
      "source": [
        "## Control de errores"
      ],
      "metadata": {
        "id": "BTrNsN72He8S"
      }
    },
    {
      "cell_type": "markdown",
      "source": [
        "Al trabajar con ls siguientes herramientas multilenguaje, el control de los mensjes de error son llevados a cabo por la clase `ErrorManager`, que para su instanciación requiere de:\n",
        "\n",
        "*   `path (str)`: ruta de archivo `.json` con mensajes de error en el lenguaje deseado.\n",
        "*   `str_to_prepend (str)`: *`<center><h3>` por defecto*. Palabra a anteceder el mensaje de error.\n",
        "*   `str_to_append (str)`: *`</h3></center>` por defecto*. Palabra a preceder el mensaje de error.\n",
        "\n",
        "Tipicamente, los parametros `str_to_prepend` y `str_to_appends` se utilizan para el formateo de los mensajes de error, tipicamente utilizados en *frontend*.\n"
      ],
      "metadata": {
        "id": "eRy1NY3kHj1T"
      }
    },
    {
      "cell_type": "code",
      "source": [
        "from modules.module_ErrorManager import ErrorManager"
      ],
      "metadata": {
        "id": "JWMkGCyXN8hC"
      },
      "execution_count": 2,
      "outputs": []
    },
    {
      "cell_type": "markdown",
      "source": [
        "Instanciaremos ahora un objeto de la clase `ErrorManager` para tratar los errores de las siguientes clases."
      ],
      "metadata": {
        "id": "EGBOC1KTOEtg"
      }
    },
    {
      "cell_type": "code",
      "source": [
        "lenguaje = 'es'   # Lenguaje de los mensajes de error. \n",
        "errorManager =  ErrorManager(f\"modules/error_messages/{lenguaje}.json\", str_to_prepend='', str_to_append='')"
      ],
      "metadata": {
        "id": "_-OjznqDOaTl"
      },
      "execution_count": 3,
      "outputs": []
    },
    {
      "cell_type": "markdown",
      "source": [
        "> **Notar**: Actualmente existen implementados dos lenguajes para los mensajes de error, en español (`es`) y en ingles (`en`). Si se desea utilizar otro se deberá crear el archivo `.json` pertinente usando de ejemplo los anteriores."
      ],
      "metadata": {
        "id": "KQMkwwb_Os2I"
      }
    },
    {
      "cell_type": "markdown",
      "source": [
        "## Exploración de palabras y sesgos presentes\n"
      ],
      "metadata": {
        "id": "blZXG7zyVZuJ"
      }
    },
    {
      "cell_type": "markdown",
      "source": [
        "### Objetivo\n",
        "\n",
        "Muchos embeddings pre-calculados se obtienen de modelos en cuyos datos de entrenamiento fueron suministrados por **grandes cantidades de ejemplos** de los cuales un porcentaje no despreciable contienen sesgos marcados. Como consecuencia, esto se extrapola en los embeddings de las palabras resultantes.\n",
        "\n",
        "En muchas ocaciones, al tratarse de vectorizaciones de palabras, podemos tomar una iniciativa matematica y graficarlas en un plano, observarndo así como éstas se relacionan por cercania entre sí. \n",
        "\n",
        "Esta cercania, nos dá una ligera idea de \"*mismo significado*\", aunque no literal; tan solo se tratan de palabras cuyos contextos lo son, existiendo así de forma latente la posibilidad de intercambiar estas palabras muy cercanas entre sí en el mismo contexto manteniendo la coherencia de la misma."
      ],
      "metadata": {
        "id": "Ck36cV5vbY9A"
      }
    },
    {
      "cell_type": "markdown",
      "source": [
        "### Clase Embedding\n",
        "\n",
        "La tarea clave de esta clase es la carga de vectores de palabras (*word embeddings*) pre-calculados, estos pueden ser obtenidos a traves de la web o propios.\n",
        "\n",
        "A traves de ésta es que las siguientes clases que se describen podran contar con un núcleo claro, sencillo y transparente para la obtención de información sobre las palabras, más alla de su embedding.\n",
        "\n",
        "Para cargar esta clase, ejecutamos la siguiente celda."
      ],
      "metadata": {
        "id": "xZvU428Oz46j"
      }
    },
    {
      "cell_type": "code",
      "source": [
        "from modules.model_embbeding import Embedding"
      ],
      "metadata": {
        "id": "AjYjqrsoz8rY"
      },
      "execution_count": 4,
      "outputs": []
    },
    {
      "cell_type": "markdown",
      "source": [
        "Para instanciar un objeto, esta clase cuenta con varios parametros a setear para un correcto (y eficiente) funcionamiento en diferentes arquitecturas, examinemos cada uno de ellos:\n",
        "\n",
        "*   `path (str)`: ruta de archivo a embeddings pre-calculados. Por convención, se suele utilizar un archivo de vectores (`.vec`) aunque también se aceptan binarios (`.bin`) con el formato C de gensim.\n",
        "*   `limit (int)`: *`None` por defecto*. El número de vectores a extraer de `path`.\n",
        "*   `randomizedPCA (bool)`: *`False` por defecto*. Utilizar una componente alteatoria para el calculo del PCA para mayor eficiencia pero menor exactitud.\n",
        "*   `max_neighbours (int)`: *`20` por defecto*. Número de vecinos maximos precalculados.\n",
        "*   `nn_method (str)`: *`'sklearn'` por defecto*. Método para la obtención de los vecinos de las palabras. Las posibilidades son `'sklearn'` para un calculo exacto pero costoso, y `'ann'` para una aproximación rápida pero resultados no exactos.\n",
        "\n",
        "> **Nota**: Para la carga de embeddings pre-calculados a partir de un binario con otro formato al especificado anteriormente, se puede generar un script para crear el archivo de vectores (`.vec`) a partir de los presentes en el binario de origen.\n",
        "\n",
        "Si se cuenta con un alto número de embeddings que la arquitectura de base no logra cargar, es aconsejable limitarlos con el parámetro `limit`, si esto no es suficiente, aconsejamos utilizar aproximaciones de resultados estableciendo `randomizedPCA = True` y/o `nn_method = 'ann'`.\n",
        "\n",
        "En la siguiente celda realizamos una instanciacón de esta clase que nos será de utilidad en las siguientes descripciones."
      ],
      "metadata": {
        "id": "Yq8-1sWNz_hw"
      }
    },
    {
      "cell_type": "code",
      "source": [
        "emb = Embedding(\n",
        "    path='data/fasttext-sbwc.100k.vec',\n",
        "    limit=100_000,\n",
        "    randomizedPCA=False,\n",
        "    max_neighbors=20,\n",
        "    nn_method='sklearn'\n",
        ")"
      ],
      "metadata": {
        "colab": {
          "base_uri": "https://localhost:8080/"
        },
        "id": "EMVoJitl0CsR",
        "outputId": "01bb85b0-44c7-4254-e886-86e47cb49a6d"
      },
      "execution_count": 5,
      "outputs": [
        {
          "output_type": "stream",
          "name": "stdout",
          "text": [
            "Preparing fasttext-sbwc.100k.vec embeddings...\n",
            "Initializing sklearn method to search for nearby neighbors...\n"
          ]
        }
      ]
    },
    {
      "cell_type": "markdown",
      "source": [
        "Como describimos anteriormente, esta clase no se encarga unicamente de conteneder los embeddings de las palabras, si no tambien de realizar pre-calculos de interés para las proximas clases como son la reducción de dimensionalidad a solo dos con el método de [análisis de componentes principales](https://es.wikipedia.org/wiki/An%C3%A1lisis_de_componentes_principales) (*PCA*) o cálculo de vecinos cercanos de todas las palabras."
      ],
      "metadata": {
        "id": "UjV0S2270E4I"
      }
    },
    {
      "cell_type": "markdown",
      "source": [
        "### Clase WordExplorer\n",
        "\n",
        "Esta clase, instanciada a partir de un objeto `Embedding` del cual extraer la información de interes, cuenta con las funcionalidades para explorar las palabras y graficarlas en el plano."
      ],
      "metadata": {
        "id": "gHHQxKdnXkcL"
      }
    },
    {
      "cell_type": "code",
      "source": [
        "from modules.module_WordExplorer import WordExplorer"
      ],
      "metadata": {
        "id": "sV1D8mkZWUQL"
      },
      "execution_count": 6,
      "outputs": []
    },
    {
      "cell_type": "markdown",
      "source": [
        "Para instanciar un objeto de esta clase, se requieren dos parámetros:\n",
        "\n",
        "*   `embedding (Embedding)`: Objeto de tipo `Embedding` de la cuál obtener el vocabulario disponible junto a la información del mismo como son los embeddings, PCA o vecinos.\n",
        "*   `errorManager (ErrorManager)`: Objeto de tipo `ErrorManager` para los mensajes de error."
      ],
      "metadata": {
        "id": "ABNagFpi5W9u"
      }
    },
    {
      "cell_type": "code",
      "source": [
        "we = WordExplorer(emb, errorManager)"
      ],
      "metadata": {
        "id": "WXPoPRYX5klX"
      },
      "execution_count": 7,
      "outputs": []
    },
    {
      "cell_type": "markdown",
      "source": [
        "#### Método check_oov(...)\n",
        "\n",
        "Este es un método clave de muchas de las clases de la herramienta **EDIA**, la cuál verifica que todas las palabras que el usuario ingresa estan presentes en el objeto `Embedding` para la extracción de su información.\n",
        "\n",
        "**Entrada(s)**:\n",
        "*   `wordlists (List[List[str]])`: Lista de listas de palabras a verificar su presencia en el objeto `Embedding` utilizado en la instanciacón actual de la clase `WordExplorer`.\n",
        "\n",
        "**Salida(s)**:\n",
        "*   `None` o `str` con mesaje de error explicitando la palabra fuera de vocabulario."
      ],
      "metadata": {
        "id": "AJRgcIHb61sE"
      }
    },
    {
      "cell_type": "markdown",
      "source": [
        "Realizamos una prueba con una lista de palabras presentes en el vocabulario."
      ],
      "metadata": {
        "id": "5WBQdtNW9mB2"
      }
    },
    {
      "cell_type": "code",
      "source": [
        "palabras_presentes = ['hombre', 'mujer']"
      ],
      "metadata": {
        "id": "AevNgpEJ9x0E"
      },
      "execution_count": 8,
      "outputs": []
    },
    {
      "cell_type": "code",
      "source": [
        "we.check_oov([palabras_presentes])"
      ],
      "metadata": {
        "id": "kcvgZvO99ugk"
      },
      "execution_count": 9,
      "outputs": []
    },
    {
      "cell_type": "markdown",
      "source": [
        "Ahora un caso donde una de las listas de palabras contiene varias palabras que no estan presentes en el vocabulario. Probar como al quitar palabras de esta lista, el mensaje de error es acorde y claro a la palabra faltante."
      ],
      "metadata": {
        "id": "hVDWB2V_-Aux"
      }
    },
    {
      "cell_type": "code",
      "source": [
        "palabras_no_presentes = ['mujer123', 'lumberjack', 'jajant', 'caipirosca']"
      ],
      "metadata": {
        "id": "WdEGS4KU-Slg"
      },
      "execution_count": 10,
      "outputs": []
    },
    {
      "cell_type": "code",
      "source": [
        "we.check_oov([palabras_presentes, palabras_no_presentes])"
      ],
      "metadata": {
        "id": "5kFvhd1z-fHQ"
      },
      "execution_count": null,
      "outputs": []
    },
    {
      "cell_type": "markdown",
      "source": [
        "Las funciones de interes siempre realizan este chequeo previo, de esta forma no hay una necesidad explicita por parte del usuario de instaciarlo en todas las iteraciones."
      ],
      "metadata": {
        "id": "AYP3hfK6_Wp-"
      }
    },
    {
      "cell_type": "markdown",
      "source": [
        "#### Método get_neighbours(...)\n",
        "\n",
        "Este método nos permite obtener las palabras vecinas de una dada.\n",
        "\n",
        "**Entrada(s)**:\n",
        "*   `word (str)`: Palabra a la cuál buscar los `n_neighbors` vecinos más cercanos. Debe estar presente en el vocabulario.\n",
        "*   `n_neighbors (int)`: número de vecinos a buscar (limitado por el parámetro `max_neighbours` del objeto `Embedding` con el cuál se creó el objeto `WordExplorer` actual).\n",
        "*   `nn_method (str)`: Método de obtención de vecinos. Actualmente los metodos posibles son `'sklearn'` y `'ann'`.\n",
        "\n",
        "**Salida(s)**:\n",
        "*   `List[str]`: lista con las palabras vecinas. Notar que es posible que los vecinos encontrados sean menor a los esperados (*i.e* `len(lista_vecinos_encontrados) <= n_neighbours`).\n",
        "\n",
        "> **Notar**: siempre de base se utiliza el objeto de tipo `Embedding` empleado para la instanciación de esta clase, si el método de obtención de vecinos es distinto al seteado en la creación del objeto `Embedding`, se cargará este nuevo método lo cuál puede llevar un mayor tiempo de obtención de vecinos en la primera ejecución debido a la carga e inicialización del nuevo método."
      ],
      "metadata": {
        "id": "8WoqEw1m_BrW"
      }
    },
    {
      "cell_type": "markdown",
      "source": [
        "Veamos un ejemplo buscando las ocho palabras vecinas de la palabra *mujer*."
      ],
      "metadata": {
        "id": "t3T4rrliB7fi"
      }
    },
    {
      "cell_type": "code",
      "source": [
        "we.get_neighbors('mujer', 8, 'sklearn')"
      ],
      "metadata": {
        "id": "koStaRGACF_s"
      },
      "execution_count": null,
      "outputs": []
    },
    {
      "cell_type": "markdown",
      "source": [
        "Veamos ahora lo que sucede cuando buscamos los vecinos pero empleando otro método de calculo de vecinos."
      ],
      "metadata": {
        "id": "asuLN_msCaNe"
      }
    },
    {
      "cell_type": "code",
      "source": [
        "we.get_neighbors('mujer', 8, 'ann')"
      ],
      "metadata": {
        "id": "je9vbW0-Cide"
      },
      "execution_count": null,
      "outputs": []
    },
    {
      "cell_type": "markdown",
      "source": [
        "Ya cargado el nuevo método de obtención de vecinos, podemos obtener vecinos de las demás palabras sin contar ahora con el tiempo de carga incial."
      ],
      "metadata": {
        "id": "w1nEVvEmDQsC"
      }
    },
    {
      "cell_type": "code",
      "source": [
        "we.get_neighbors('chancho', 10, 'ann')"
      ],
      "metadata": {
        "id": "IGAeNlgADbnI"
      },
      "execution_count": null,
      "outputs": []
    },
    {
      "cell_type": "markdown",
      "source": [
        "Notar que si la palabra no está en el vocabulario o si el número de vecinos a extraer es mayor a `max_neighbours` se levanta una excepción."
      ],
      "metadata": {
        "id": "TxpwC5v9Dlmb"
      }
    },
    {
      "cell_type": "code",
      "source": [
        "# Palabra fuera de vocabulario (OOV)\n",
        "we.get_neighbors('mujer123', 5, 'sklearn')"
      ],
      "metadata": {
        "id": "EyTOqdHtD7cq"
      },
      "execution_count": null,
      "outputs": []
    },
    {
      "cell_type": "code",
      "source": [
        "# n_neighbour > max_neighbours de clase Embedding\n",
        "we.get_neighbors('mujer', 30, 'ann')"
      ],
      "metadata": {
        "id": "aqBMxVf7EFdu"
      },
      "execution_count": null,
      "outputs": []
    },
    {
      "cell_type": "markdown",
      "source": [
        "#### Método doesnt_match(...)\n",
        "\n",
        "Este método es similar al presente en la libreria de [gensim](https://tedboy.github.io/nlps/generated/generated/gensim.models.Word2Vec.doesnt_match.html). El objetivo del mismo es dada una secuencia de palabras obtener aquel que no coincide con la tematica de las demás.\n",
        "\n",
        "**Entrada(s)**:\n",
        "*   `wordlist (List[str])`: Lista de palabras a evaluar.\n",
        "\n",
        "**Salida(s)**:\n",
        "*   `str`: palabra que no concuerda con las demás presentes en `wordlist`.\n"
      ],
      "metadata": {
        "id": "K8Q4Zq3xeh4w"
      }
    },
    {
      "cell_type": "markdown",
      "source": [
        "Veamos un ejemplo con las comidad del dia."
      ],
      "metadata": {
        "id": "x2pRYU5XfdO5"
      }
    },
    {
      "cell_type": "code",
      "source": [
        "comidas = ['desayuno', 'merienda', 'cereal', 'cena', 'almuerzo']"
      ],
      "metadata": {
        "id": "Zb_zraeFfiQw"
      },
      "execution_count": 18,
      "outputs": []
    },
    {
      "cell_type": "code",
      "source": [
        "we.doesnt_match(comidas)"
      ],
      "metadata": {
        "colab": {
          "base_uri": "https://localhost:8080/",
          "height": 35
        },
        "id": "ItS77TksfvJ1",
        "outputId": "19ab57de-799c-4f3a-95b8-b22644d03ca6"
      },
      "execution_count": 19,
      "outputs": [
        {
          "output_type": "execute_result",
          "data": {
            "text/plain": [
              "'cereal'"
            ],
            "application/vnd.google.colaboratory.intrinsic+json": {
              "type": "string"
            }
          },
          "metadata": {},
          "execution_count": 19
        }
      ]
    },
    {
      "cell_type": "markdown",
      "source": [
        "#### Método plot_projections_2d(...)\n",
        "\n",
        "Este es el método que nos permite graficar en un plano (*i.e.* 2 dimensiones) las palabras para explorar las distancias entre ellas y encontrar vecinos de interés.\n",
        "\n",
        "Recordar que las palabras son representadas con vectores (*word embeddings*) que cuentan, generalmente, con 300 componentes, es por ello que se lleva el cómputo extra de obtener una representación de tan solo dos componentes para graficar mediante la tecnica **PCA** de reduccion de dimensionalidad.\n",
        "\n",
        "**Entrada(s)**:\n",
        "*   `wordlist_0 (List[str])`: Lista de palabras las cuales graficar en el plano.\n",
        "*   `wordlist_1 (List[str])`:  *`[]` por defecto*. Lista de palabras las cuales graficar en el plano.\n",
        "*   `wordlist_2 (List[str])`: *`[]` por defecto*. Lista de palabras las cuales graficar en el plano.\n",
        "*   `wordlist_3 (List[str])`: *`[]` por defecto*. Lista de palabras las cuales graficar en el plano.\n",
        "*   `wordlist_4 (List[str])`: *`[]` por defecto*. Lista de palabras las cuales graficar en el plano.\n",
        "*   `kwargs`:\n",
        "  *   `color_wordlist_0 (str)`: *`'#000000'` por defecto*. Valor hexadecimal para colorear e identificar las palabras de `wordlist_0`.\n",
        "  *   `color_wordlist_1 (str)`: *`'#1f78b4'` por defecto*. Valor hexadecimal para colorear e identificar las palabras de `wordlist_1`.\n",
        "  *   `color_wordlist_2 (str)`: *`'#33a02c'` por defecto*. Valor hexadecimal para colorear e identificar las palabras de `wordlist_2`.\n",
        "  *   `color_wordlist_3 (str)`: *`'#e31a1c'` por defecto*. Valor hexadecimal para colorear e identificar las palabras de `wordlist_3`.\n",
        "  *   `color_wordlist_4 (str)`: *`'#6a3d9a'` por defecto*. Valor hexadecimal para colorear e identificar las palabras de `wordlist_4`.\n",
        "  *   `n_neighbors (int)`: *`0` por defecto*. Número de vecinos de las listas de palabras `wordlist_*` a obtener y graficar en el plano.\n",
        "  * `n_alpha (float)`: *`0.3` por defecto*. Valor alfa (*i.e.* transparencia) en el gráfico de las palabras vecinas calculadas\n",
        "  * `nn_method (str)`: *`'sklearn` por defecto*. Método para obtener las palabras vecinas. Actualmente los metodos posibles son `'sklearn'` y `'ann'`.\n",
        "  *   `fontsize (int)`: *`18` por defecto*. Tamaño de fuente de las palabras en el gráfico.\n",
        "  *   `figsize (Tuple[int, int])`: *`(20, 15)` por defecto*. Tamaño de la figura final resultante.\n",
        "\n",
        "**Salida(s)**:\n",
        "*   `matplotlib.figure.Figure`: Figura del plano con las palabras graficadas.\n",
        "\n",
        "> **Notar**: siempre de base se utiliza el objeto de tipo `Embedding` empleado para la instanciación de esta clase, si el método de obtención de vecinos es distinto al seteado en la creación del objeto `Embedding`, se cargará este nuevo método lo cuál puede llevar un mayor tiempo de obtención de vecinos en la primera ejecución debido a la carga e inicialización del nuevo método."
      ],
      "metadata": {
        "id": "D7H2ivkNWH01"
      }
    },
    {
      "cell_type": "markdown",
      "source": [
        "Veamos un ejemplo con dos listas de palabras (reducimos el tamaño de la figura para encuadrar en esta *Google colab*)."
      ],
      "metadata": {
        "id": "BVjooQOWa8lY"
      }
    },
    {
      "cell_type": "code",
      "source": [
        "lista_pesado = ['gordo', 'gorda']\n",
        "lista_belleza = ['lindo', 'linda']"
      ],
      "metadata": {
        "id": "H7p07RoYbLRu"
      },
      "execution_count": 20,
      "outputs": []
    },
    {
      "cell_type": "code",
      "source": [
        "we.plot_projections_2d(\n",
        "    wordlist_0 = lista_pesado, \n",
        "    wordlist_1 = lista_belleza,\n",
        "    figsize=(10, 10)\n",
        "    )"
      ],
      "metadata": {
        "id": "LXIxdHn7bWra"
      },
      "execution_count": null,
      "outputs": []
    },
    {
      "cell_type": "markdown",
      "source": [
        "Como vimos con los parametros que acepta este metodo, podemos cambiar el color de las palabras en `lista_pesado`, aumentar el tamaño de la letra y ver dos vecinos de las palabras ingresadas."
      ],
      "metadata": {
        "id": "bPAWoHfKbuvf"
      }
    },
    {
      "cell_type": "code",
      "source": [
        "we.plot_projections_2d(\n",
        "    wordlist_0 = lista_pesado, \n",
        "    wordlist_1 = lista_belleza, \n",
        "    color_wordlist_0 ='#fcba03',\n",
        "    fontsize = 25,\n",
        "    n_neighbors = 2,\n",
        "    figsize = (10, 10)\n",
        "    )"
      ],
      "metadata": {
        "id": "jo66uYnrb7j8"
      },
      "execution_count": null,
      "outputs": []
    },
    {
      "cell_type": "markdown",
      "source": [
        "> **Notar**: El color de las listas de palabras afecta al color de los vecinos de las palabras dentro de ella para diferenciar su prosedencia.\n",
        "\n",
        "Si alguna palabra de las listas no esta presente en el vocabulario del objeto `Embedding` utilizado para la instanciación de la clase se levanta una excepción de error indicando el motivo. Esto tambien sucede si todas las listas de palabras estan vacias"
      ],
      "metadata": {
        "id": "Ioiy5nE_cn5f"
      }
    },
    {
      "cell_type": "code",
      "source": [
        "# Palabra fuera de vocabulario (OOV)\n",
        "we.plot_projections_2d(\n",
        "    wordlist_0 = palabras_no_presentes,\n",
        "    figsize = (10, 10)\n",
        ")"
      ],
      "metadata": {
        "id": "uuEZ9Ve9dUxV"
      },
      "execution_count": null,
      "outputs": []
    },
    {
      "cell_type": "code",
      "source": [
        "# Sin palabras a graficar\n",
        "we.plot_projections_2d(\n",
        "    wordlist_0 = [],\n",
        "    figsize = (10, 10)\n",
        ")"
      ],
      "metadata": {
        "id": "dXn2jgamdkAG"
      },
      "execution_count": null,
      "outputs": []
    },
    {
      "cell_type": "markdown",
      "source": [
        "## Sesgo en las palabras"
      ],
      "metadata": {
        "id": "mMizQs6jV6ls"
      }
    },
    {
      "cell_type": "markdown",
      "source": [
        "### Objectivo\n",
        "\n",
        "Muchas palabras cargan consigo sesgos latentes originados de los **grandes volumenes** de ejemplos con los cuales se entrenaron los modelos para calcular las respresentaciones vectoriales de las mismas.\n",
        "\n",
        "Para identificar la presencia de sesgo en una palabra, se deben definir nucleos de significados opuestos con el objetivo de corroborar la presencia del mismo debido a una tendencia injustificada.\n",
        "\n",
        "Por ejemplo, si definimos núcleos de significado opuestos como *femenino* y *masculino*, esperariamos que palabras como *profesora*, *esposa* o *mujer* esten más cercanas al núcleo *femenino*, mientras que palabras como *hombre*, *esposo* o *carpintero* más cerca al núcleo *masculino*; sin embargo , palabras neutras como *astronauta* esperariamos que esten equisdistantes de ambos núcleos por no haber un género predilecto para esta palabra de profesión.\n",
        "\n",
        "Con este ejemplo, queremos dejar en evidencia como las palabras contienen componentes con sesgos latentes (más allá del caracter de género), lo que limita y perjudica la calidad de los modelos de inteligencia artificial y tareas relacionadas al procesamiento del lenguaje natural (PLN)."
      ],
      "metadata": {
        "id": "SdEamam2bqka"
      }
    },
    {
      "cell_type": "markdown",
      "source": [
        "### Clase WordBiasExplorer\n",
        "\n",
        "Esta clase, instanciada a partir de un objeto `Embedding`, es padre de dos subclases de interes a describir. En sí, esta clase contienen métodos de operaciones de vectores basados en la herramienta `Responsibly` donde se cuenta con una [explicación detallada](https://github.com/ResponsiblyAI/responsibly/blob/master/responsibly/we/bias.py) de los mismos, omitidos aquí."
      ],
      "metadata": {
        "id": "YD9mQycwiguV"
      }
    },
    {
      "cell_type": "code",
      "source": [
        "from modules.module_BiasExplorer import WordBiasExplorer"
      ],
      "metadata": {
        "id": "D1e9ZRlzqbvZ"
      },
      "execution_count": 27,
      "outputs": []
    },
    {
      "cell_type": "markdown",
      "source": [
        "Para instanciar un objeto de esta clase, se requieren dos parámetros:\n",
        "\n",
        "*   `embedding (Embedding)`: Objeto de tipo `Embedding` de la cuál obtener el vocabulario disponible junto a la información del mismo como son los embeddings, PCA o vecinos.\n",
        "*   `errorManager (ErrorManager)`: Objeto de tipo `ErrorManager` para los mensajes de error."
      ],
      "metadata": {
        "id": "D3o0qrfaqgp0"
      }
    },
    {
      "cell_type": "code",
      "source": [
        "wbe = WordBiasExplorer(emb, errorManager)"
      ],
      "metadata": {
        "id": "PykhxD7Rqhm1"
      },
      "execution_count": 28,
      "outputs": []
    },
    {
      "cell_type": "markdown",
      "source": [
        "#### Método check_oov(...)\n",
        "\n",
        "Verifica que todas las palabras que el usuario ingresa estan presentes en el objeto `Embedding` para la extracción de su información.\n",
        "\n",
        "**Entrada(s)**:\n",
        "*   `wordlists (List[List[str]])`: Lista de listas de palabras a verificar su presencia en el objeto `Embedding` utilizado en la instanciacón actual de la clase `WordExplorer`.\n",
        "\n",
        "**Salida(s)**:\n",
        "*   `None` o `str` con mesaje de error explicitando la palabra fuera de vocabulario."
      ],
      "metadata": {
        "id": "GAW-PZIzkFhq"
      }
    },
    {
      "cell_type": "markdown",
      "source": [
        "Ejemplos analogos a los vistos en la clase `WordExplorer`."
      ],
      "metadata": {
        "id": "DquoDCLWkW-e"
      }
    },
    {
      "cell_type": "markdown",
      "source": [
        "### Clase WEBiasExplorer2Spaces\n",
        "\n",
        "Esta clase hereda de su padre, `WordBiasExplorer`, los métodos requeridos para el cálculo y gráfico de sesgos de palabras frente a dos núcleos de significado (o espacios de significado)."
      ],
      "metadata": {
        "id": "r36tT7q1kc1L"
      }
    },
    {
      "cell_type": "code",
      "source": [
        "from modules.module_BiasExplorer import WEBiasExplorer2Spaces"
      ],
      "metadata": {
        "id": "HI-NPbskqs2s"
      },
      "execution_count": 6,
      "outputs": []
    },
    {
      "cell_type": "markdown",
      "source": [
        "Para instanciar un objeto de esta clase, se requieren dos parámetros:\n",
        "\n",
        "*   `embedding (Embedding)`: Objeto de tipo `Embedding` de la cuál obtener el vocabulario disponible junto a la información del mismo como son los embeddings, PCA o vecinos.\n",
        "*   `errorManager (ErrorManager)`: Objeto de tipo `ErrorManager` para los mensajes de error."
      ],
      "metadata": {
        "id": "P-5_t4PHq0y7"
      }
    },
    {
      "cell_type": "code",
      "source": [
        "wbe_2_nucleos = WEBiasExplorer2Spaces(emb, errorManager)"
      ],
      "metadata": {
        "id": "sQhfdAiMq28W"
      },
      "execution_count": 7,
      "outputs": []
    },
    {
      "cell_type": "markdown",
      "source": [
        "#### Método calculate_bias(...)\n",
        "\n",
        "Calcula y grafica mediante barras las distancias de palabras de interes frente a dos núcleos de signficado opuestos para comporbar la presencia de sesgo.\n",
        "\n",
        "Recordar que la presencia y tipo de sesgos depende en gran parte por las palabras con las cuales se define un núcleo de significado y puede requerir un análisis detallado por parte de un experto de dominio para obtener resultados concretos y que expongan de forma clara el sesgo.\n",
        "\n",
        "**Entrada(s)**:\n",
        "*   `wordlist_to_diagnose (List[str])`: Lista de palabras a evaluar la presencia de sesgo frente a dos núcleos de significado.\n",
        "*   `wordlist_right (List[str])`: Lista de palabras que definen un núcleo de significado.\n",
        "*   `wordlist_left (List[str])`: Lista de palabras que definen el otro núcleo de significado (preferentemente opuesto al primero, `wordlist_right`).\n",
        "\n",
        "**Salida(s)**:\n",
        "*   `matplotlib.figure.Figure`: Figura de barra con las palabras y sus distancias de ambos núcleos."
      ],
      "metadata": {
        "id": "eC30XpUtlTFQ"
      }
    },
    {
      "cell_type": "markdown",
      "source": [
        "Probemos esta funcionalidad con el ejemplo dado previamente."
      ],
      "metadata": {
        "id": "EbeCVNNLqPWm"
      }
    },
    {
      "cell_type": "code",
      "source": [
        "palabras_para_evaluar = ['profesora', 'esposa', 'mujer', 'hombre', 'profesor', 'carpintero', 'astronauta']"
      ],
      "metadata": {
        "id": "hoyHc56Yq-Fu"
      },
      "execution_count": 8,
      "outputs": []
    },
    {
      "cell_type": "code",
      "source": [
        "nucleo_femenino = ['femenino', 'ella', 'mujer', 'chica']"
      ],
      "metadata": {
        "id": "ixAxUQCxrdC8"
      },
      "execution_count": 9,
      "outputs": []
    },
    {
      "cell_type": "code",
      "source": [
        "nucleo_masculino= ['masculino', 'el', 'hombre', 'chico']"
      ],
      "metadata": {
        "id": "cH-9pMvZrkbM"
      },
      "execution_count": 10,
      "outputs": []
    },
    {
      "cell_type": "code",
      "source": [
        "wbe_2_nucleos.calculate_bias(\n",
        "    wordlist_to_diagnose = palabras_para_evaluar,\n",
        "    wordlist_right = nucleo_femenino,\n",
        "    wordlist_left = nucleo_masculino\n",
        ")"
      ],
      "metadata": {
        "id": "edXhQlrCrspI"
      },
      "execution_count": null,
      "outputs": []
    },
    {
      "cell_type": "markdown",
      "source": [
        "Observamos como la palabra *astronauta* contiene un ligero sesgo en su componente de género al masculino.\n",
        "\n",
        "Tener en cuenta que, todas las listas de palabras deben tener al menos una palabra en ellas, todas las palabras deben estar presentes en el vocabulario y la definición de núcleos no deben ser las mismas, de los contrario se arrojaran excepciones de error para cada situación."
      ],
      "metadata": {
        "id": "-RdelGTmsO-x"
      }
    },
    {
      "cell_type": "code",
      "source": [
        "# Palabra fuera de vocabulario (OOV)\n",
        "wbe_2_nucleos.calculate_bias(\n",
        "    wordlist_to_diagnose = palabras_no_presentes,\n",
        "    wordlist_right = nucleo_femenino,\n",
        "    wordlist_left = nucleo_masculino\n",
        ")"
      ],
      "metadata": {
        "id": "nFAO8J8gsv7U"
      },
      "execution_count": null,
      "outputs": []
    },
    {
      "cell_type": "code",
      "source": [
        "# Listas vacias\n",
        "wbe_2_nucleos.calculate_bias(\n",
        "    wordlist_to_diagnose = palabras_para_evaluar,\n",
        "    wordlist_right = [],\n",
        "    wordlist_left = nucleo_masculino\n",
        ")"
      ],
      "metadata": {
        "id": "oGgunvo2tARE"
      },
      "execution_count": null,
      "outputs": []
    },
    {
      "cell_type": "code",
      "source": [
        "# Misma definición de núcleos\n",
        "# Palabra fuera de vocabulario (OOV)\n",
        "wbe_2_nucleos.calculate_bias(\n",
        "    wordlist_to_diagnose = palabras_para_evaluar,\n",
        "    wordlist_right = nucleo_femenino,\n",
        "    wordlist_left = nucleo_femenino\n",
        ")"
      ],
      "metadata": {
        "id": "F-yro2wEtJ0I"
      },
      "execution_count": null,
      "outputs": []
    },
    {
      "cell_type": "markdown",
      "source": [
        "### Clase WEBiasExplorer4Spaces\n",
        "\n",
        "Esta clase hereda de su padre, `WordBiasExplorer`, los métodos requeridos y extiende la funcionalidad de la clase `WEBiasExplorer2Spaces` para el cálculo y gráfico de sesgos de palabras frente a cuatro núcleos de significado (o espacios de significado).\n",
        "\n",
        "En cierta ocaciones, es de interés **subdividir** los dos núcleos de significado propuestos en un inicio en busca de **sesgos más concretos o especificos**. Por ejemplo, en nuestra busqueda de palabras sesgadas por el género *femenino* y *masculino* nos podria ser de interés agregar el componente de edades; de esta forma podriamos conocer aquellas palabras con tendencia por los modelos a conciderarse *femenino* y *joven*, *femenino* y *adulto* o los demás casos."
      ],
      "metadata": {
        "id": "lO4u3Rw0x8E-"
      }
    },
    {
      "cell_type": "code",
      "source": [
        "from modules.module_BiasExplorer import WEBiasExplorer4Spaces"
      ],
      "metadata": {
        "id": "6MjumNlA2HmF"
      },
      "execution_count": 38,
      "outputs": []
    },
    {
      "cell_type": "markdown",
      "source": [
        "Para instanciar un objeto de esta clase, se requiere dos parámetros:\n",
        "\n",
        "*   `embedding (Embedding)`: Objeto de tipo `Embedding` de la cuál obtener el vocabulario disponible junto a la información del mismo como son los embeddings, PCA o vecinos.\n",
        "*   `errorManager (ErrorManager)`: Objeto de tipo `ErrorManager` para los mensajes de error."
      ],
      "metadata": {
        "id": "YHDuzlmi2LNg"
      }
    },
    {
      "cell_type": "code",
      "source": [
        "wbe_4_nucleos = WEBiasExplorer4Spaces(emb, errorManager)"
      ],
      "metadata": {
        "id": "3LMl4TfG2Os1"
      },
      "execution_count": 39,
      "outputs": []
    },
    {
      "cell_type": "markdown",
      "source": [
        "#### Método calculate_bias(...)\n",
        "\n",
        "Calcula y grafica un plano subdividido en cuatro cuadrantes (representantes de los núcleos) la posición de las palabras y las distancias a considerar frente a cada núcleo individual.\n",
        "\n",
        "Recordar que la presencia y tipo de sesgos depende en gran parte por las palabras con las cuales se define un núcleo de significado y puede requerir un análisis detallado por parte de un experto de dominio para obtener resultados concretos y que expongan de forma clara y real el sesgo.\n",
        "\n",
        "**Entrada(s)**:\n",
        "*   `wordlist_to_diagnose (List[str])`: Lista de palabras a evaluar la presencia de sesgo frente a dos núcleos de significado.\n",
        "*   `wordlist_right (List[str])`: Lista de palabras que definen un núcleo de significado.\n",
        "*   `wordlist_left (List[str])`: Lista de palabras que definen otro núcleo de significado (preferentemente opuesto al primero, `wordlist_right`).\n",
        "*   `wordlist_top (List[str])`: Lista de palabras que definen otro núcleo de significado que **subdivirá** los núcleos definidos enteriormente (`wordlist_right`, `wordlist_left`).\n",
        "*   `wordlist_bottom (List[str])`: Lista de palabras que definen otro núcleo de significado que **subdivide** el espacio (preferentemente opuesto al anterior, `wordlist_top`).\n",
        "\n",
        "**Salida(s)**:\n",
        "*   `matplotlib.figure.Figure`: Figura de plano dividido en cuadrantes y con puntos etiquetados con las palabras dentro de él."
      ],
      "metadata": {
        "id": "n22BGdGozfBI"
      }
    },
    {
      "cell_type": "markdown",
      "source": [
        "Evaluemos el ejemplo dado de dividir la componente de género en edades."
      ],
      "metadata": {
        "id": "cBA5gozy1fqA"
      }
    },
    {
      "cell_type": "code",
      "source": [
        "nucleo_joven = ['joven', 'inmaduro', 'niño', 'crio']\n",
        "nucleo_adulto = ['viejo', 'maduro', 'anciano', 'adulto']"
      ],
      "metadata": {
        "id": "VYwQcgZq1oOT"
      },
      "execution_count": 40,
      "outputs": []
    },
    {
      "cell_type": "code",
      "source": [
        "wbe_4_nucleos.calculate_bias(\n",
        "    wordlist_to_diagnose = palabras_para_evaluar,\n",
        "    wordlist_right = nucleo_femenino,\n",
        "    wordlist_left = nucleo_masculino,\n",
        "    wordlist_top = nucleo_joven,\n",
        "    wordlist_bottom = nucleo_adulto\n",
        "    )"
      ],
      "metadata": {
        "id": "bHeGKZZR2RAT"
      },
      "execution_count": null,
      "outputs": []
    },
    {
      "cell_type": "markdown",
      "source": [
        "Al igual que sucede con `WEBiasExplorer2Spaces`, todas las listas deben contener al menos una palabra, todas las palabras deben estar presentes en el vocabulario del objeto `Embedding` suministrado como parámetro para la instanciación del objeto y la definición de los núcleos de significado no pueden coincidir.\n",
        "\n",
        "Para ejemplos concretos referirse a `WEBiasExplorer2Spaces`."
      ],
      "metadata": {
        "id": "5nakMYz32_-0"
      }
    },
    {
      "cell_type": "markdown",
      "source": [
        "## Exploración de datos"
      ],
      "metadata": {
        "id": "nt3jk_pC7ob2"
      }
    },
    {
      "cell_type": "markdown",
      "source": [
        "### Objetivo\n",
        "\n",
        "Actualmente existen muchos *datasets* de entrenamiento, algunos de ellos muy populares en el área de PLN, sin embargo, sin contar con estrategias claras de mitigación se sesgo ha llevado a que la mayoria cuenten con ejemplos sesgados por el cual modelos resultantes se ven afectados.\n",
        "\n",
        "En este apartado, brindamos funcionalidades que permiten **explorar** datasets, concretamente aquellos con los cuales fue entrenado **BETO** y evidenciar sesgos latentes dentro de ellos.\n",
        "\n",
        "> **Importante**: Actualmente no se cuenta con la funcionalidad de **carga de corpus propios** para la exploración, pero detallaremos la clase `Vocabulary` para dar una idea de la estructura necesaria si se deseara realizar una exploración propia.\n"
      ],
      "metadata": {
        "id": "GL9k5Y0J74IC"
      }
    },
    {
      "cell_type": "markdown",
      "source": [
        "### Clase Vocabulary\n",
        "\n",
        "El rol de esta clase, similar a `Embedding`, es de ser un **núcleo centralizado de información** necesaria para dar soporte a los requerimientos de información de aquellas clases que la requieran.\n",
        "\n",
        "Para cargar esta clase, ejecutamos la siguiente celda."
      ],
      "metadata": {
        "id": "btyO7TE8_y3O"
      }
    },
    {
      "cell_type": "code",
      "source": [
        "from modules.module_vocabulary import Vocabulary"
      ],
      "metadata": {
        "id": "CbQcw-s4A9XQ"
      },
      "execution_count": 42,
      "outputs": []
    },
    {
      "cell_type": "markdown",
      "source": [
        "Actualmente esta clase se carga suministrando el nombre de partición adecuado, todos disponibles en [GitHub](https://github.com/git-lu/notebook_bias_tools#setup-data). Estas particiones se tratan de archivos `.json` comprimidas dentro de un `.zip`. Es así como para instanciar un objeto de esta clase se requiere:\n",
        "*   `subset_name (str)`: Nombre de la partición descargada y presente dentro del directorio `data/`."
      ],
      "metadata": {
        "id": "eTtIr5kV8ZG4"
      }
    },
    {
      "cell_type": "code",
      "source": [
        "vocab = Vocabulary('quarter')"
      ],
      "metadata": {
        "id": "zIhBYW_s87lz",
        "colab": {
          "base_uri": "https://localhost:8080/"
        },
        "outputId": "b63b7374-99a9-4b1f-d730-624ee4405ee4"
      },
      "execution_count": 43,
      "outputs": [
        {
          "output_type": "stream",
          "name": "stdout",
          "text": [
            "Preparing quarter vocabulary...\n"
          ]
        }
      ]
    },
    {
      "cell_type": "markdown",
      "source": [
        "De desear realizar una **exploración propia**, se requiere el archivo `.json` adecuado, para ello explicitaremos en las siguientes lineas las columnas y valores esperados:\n",
        "\n",
        "El archivo `.json` se compone de cinco columnas:\n",
        "*   `word`: se asocia un *identificador* (`str`) a cada palabra. De esta forma, toda la información de una palabra se indexa sobre su *identificador*.\n",
        "*   `freq`: se asocia al *identificador* la frequencia total (`int`) de la palabra dentro del(os) corpus propio(s).\n",
        "*   `percentile`: se asocia al *identificador* el percentil (`float`) de la palabra dentro del(os) corpus propio(s). Este valor indica porcentualmente que, en terminos de distribución, está por encima de las demás (*i.e* a mayor percentil, mayor es la probabilidad de ocurrencia de la palabra asociada en el corpus).\n",
        "*   `splits`: Para mayor eficiencia en busqueda sobre corpus de gran volumen ya sean uno o más, aconsejamos particionarlos en bloques (por ejemplo, bloques de 10Mb). Esta columna es un arreglo (`List[str]`) que asigna a cada *identificador* los nombres de bloques donde esta palabra se encuentra.\n",
        "*   `in_subset`: asocia a cada *identificador* un diccionario (`Dict[str, int]`) donde las llaves son los corpus (`str`), y los valores son la frecuencia total dentro del corpus (`int`).\n",
        "\n",
        "> **Notar**: La suma de todos los valores del diccionario en `in_subset` de un *identificador* debe ser igual a la frecuancia total presente en `freq` para el mismo identificador.\n",
        "\n",
        "\n",
        "```json\n",
        "{\n",
        "  \"word\": {\n",
        "    \"1\": \"Hola\",\n",
        "    [...]\n",
        "  },\n",
        "  \"freq\": {\n",
        "    \"1\": 250000,\n",
        "    [...]\n",
        "  },\n",
        "  \"percentile\": {\n",
        "    \"1\": 0.8845,\n",
        "    [...]\n",
        "  },\n",
        "  \"splits\": {\n",
        "    \"1\": [\"Corpus_1_bloque_4\", \"Corpus_1_bloque_2\", \"Corpus_8_bloque_2\"],\n",
        "    [...]\n",
        "  },\n",
        "  \"in_subset\": {\n",
        "    \"1\": {\n",
        "      \"Corpus_1\": 150000,\n",
        "      \"Corpus_8\": 100000\n",
        "    },\n",
        "    [...]\n",
        "  }\n",
        "}\n",
        "```"
      ],
      "metadata": {
        "id": "c8c4ozHcBD9e"
      }
    },
    {
      "cell_type": "markdown",
      "source": [
        "### Clase Word2Context\n",
        "\n",
        "Esta clase cuenta con las funcionalidades previstas para la exploración de las palabras dentro del curpus. Podemos conocer frecuencias de las palabras, obtener graficos de nube o de distribución e incluso obtener contextos de una palabra dada para evaluar la presencia de sesgo."
      ],
      "metadata": {
        "id": "ofI_CRDWMSeT"
      }
    },
    {
      "cell_type": "code",
      "source": [
        "from modules.module_word2Context import Word2Context"
      ],
      "metadata": {
        "id": "MtzSiK1xM-A2"
      },
      "execution_count": 44,
      "outputs": []
    },
    {
      "cell_type": "markdown",
      "source": [
        "Esta clase es de ayuda en ocaciones donde nuestra exploración de palabras y sus sesgos exponen comportamientos extraños, como podria ser la presencia de palabras \"*raras*\" vecinas, aquí la exploración de los contextos de las palabras, tanto la evaluada como la \"*rara*\", nos es de ayuda a entender el suceso presente.\n",
        "\n",
        "Para instanciar esta clase se requiere:\n",
        "*   `context_ds_name (str)`: nombre del dataset cargado en HuggingFace🤗.\n",
        "*   `vocabulary (Vocabulary)`: Objeto de tipo `Vocabulary` del cuál extraer la información requerida. Define el vocabulario disponible para el usuario.\n",
        "*   `errorManager (ErrorManager)`: Objeto de tipo `ErrorManager` para los mensajes de error.\n",
        "\n",
        "> **Importante**: Para una **exploración propia**, actualmente los bloques generados de los corpus deben cargarse como un dataset a la plataforma HuggingFace🤗. Deben encontrarse dentro de una carpeta `data/` la cuál a su vez debe contener un directorio por corpus con su nombre correspondiente dentro del cuál se encuentran los bloques definidos. [Aquí](https://huggingface.co/datasets/vialibre/splittedspanish3bwc) dejamos un ejemplo.\n",
        "\n"
      ],
      "metadata": {
        "id": "kxTQ1CpKNAwK"
      }
    },
    {
      "cell_type": "code",
      "source": [
        "w2c = Word2Context('vialibre/splittedspanish3bwc', vocab, errorManager)"
      ],
      "metadata": {
        "id": "KZV9ZwVBQTFW"
      },
      "execution_count": 45,
      "outputs": []
    },
    {
      "cell_type": "markdown",
      "source": [
        "#### Método errorChecking(...)\n",
        "\n",
        "Verifica que la palabra que el usuario ingresa esta presente en el objeto `Vocabulary` para la extracción de su información.\n",
        "\n",
        "**Entrada(s)**:\n",
        "*   `word (str)`: palabra a verificar su presencia en el objeto `Vocabulary` utilizado en la instanciacón actual de la clase `Word2Context`.\n",
        "\n",
        "**Salida(s)**:\n",
        "*   `str` con mesaje de error explicitando la palabra fuera de vocabulario, o vacio si la palabra se encuentra presente."
      ],
      "metadata": {
        "id": "Jp9IINBeQeiN"
      }
    },
    {
      "cell_type": "code",
      "source": [
        "# Palabra presente en ocabulario\n",
        "w2c.errorChecking('mujer')"
      ],
      "metadata": {
        "id": "kJR7lracRMN0"
      },
      "execution_count": null,
      "outputs": []
    },
    {
      "cell_type": "code",
      "source": [
        "# Palabra fuera de vocabulario (OOV)\n",
        "w2c.errorChecking('falafel')"
      ],
      "metadata": {
        "id": "jD_SP6EhRV0J"
      },
      "execution_count": null,
      "outputs": []
    },
    {
      "cell_type": "markdown",
      "source": [
        "Las funciones de interes siempre realizan este chequeo previo, de esta forma no hay una necesidad explicita por parte del usuario de instaciarlo en todas las iteraciones."
      ],
      "metadata": {
        "id": "v5kKa-lRRY9Q"
      }
    },
    {
      "cell_type": "markdown",
      "source": [
        "#### Método genWordCloudPlot(...)\n",
        "\n",
        "Genera un [gráfico de nube](https://es.wikipedia.org/wiki/Nube_de_palabras) con la palabra brindada por el usuario y otras asociadas; estas palabras son los diez primeras inmediatamente con mayor frecuencia total y las diez con menor frecuencia total por debjo de la palabra suministrada. \n",
        "\n",
        "**Entrada(s)**:\n",
        "*   `word (str)`: palabra central para la obtención de sus vecinas y generar el gráfico de nube.\n",
        "*   `figsize (Tuple[int, int])`: *`(9, 3)` por defecto*. Tamaño de la figura final resultante.\n",
        "\n",
        "**Salida(s)**:\n",
        "*   `matplotlib.figure.Figure`: Figura de la nube de palabras. Las diez con frencuencia superor a `word` son coloreadas en gris, las diez con frecuencia menor en celeste, y la de interés en naranja."
      ],
      "metadata": {
        "id": "JnFTqScZRjRb"
      }
    },
    {
      "cell_type": "code",
      "source": [
        "w2c.genWordCloudPlot('mujer')"
      ],
      "metadata": {
        "id": "-36dcC3CUsvV"
      },
      "execution_count": null,
      "outputs": []
    },
    {
      "cell_type": "markdown",
      "source": [
        "#### Método genDistributionPlot(...)\n",
        "\n",
        "Genera un **gráfico de distribucion** de las palabras utilizando los percentiles, resaltando la brindada por el usuario.\n",
        "\n",
        "**Entrada(s)**:\n",
        "*   `word (str)`: palabra brindada por el usuario a resaltar en el gráfico.\n",
        "*   `figsize (Tuple[int, int])`: *`(6, 1)` por defecto*. Tamaño de la figura final resultante.\n",
        "\n",
        "**Salida(s)**:\n",
        "*   `matplotlib.figure.Figure`: Figura de la distribución de las palabras."
      ],
      "metadata": {
        "id": "64X5GjmqTKoe"
      }
    },
    {
      "cell_type": "code",
      "source": [
        "w2c.genDistributionPlot('mujer', figsize=(15, 4))"
      ],
      "metadata": {
        "id": "jWbeC80fUUbJ"
      },
      "execution_count": null,
      "outputs": []
    },
    {
      "cell_type": "markdown",
      "source": [
        "#### Método getSubsetsInfo(...)\n",
        "\n",
        "Genera un diccionario con los corpus donde la palabra brindada esta presente junto a su frecuencia total y el percentil.\n",
        "\n",
        "Este diccionario tiene como llave un `str` el cual se compone del nombre del corpus seguido de la frecuencia, y como valor el percentil de la palabra dentro del corpus (`float`). (Ejemplo, `{'Corpus_1 (25000)': 0.08235}`\n",
        "\n",
        "**Entrada(s)**:\n",
        "*   `word (str)`: palabra brindada por el usuario para extraer información del objeto `Vocabulary`.\n",
        "\n",
        "**Salida(s)**:\n",
        "*   `Tuple[str, Dict[str, float]]` el primer componente de la tupla es codigo HTML para la visualización en HuggingFace🤗, se tratan de las barras de frecuencia por conjunto. La salida de interés es la segunda que contiene el diccionario previamente descripto."
      ],
      "metadata": {
        "id": "Aa16YMtWVdf1"
      }
    },
    {
      "cell_type": "code",
      "source": [
        "_, so = w2c.getSubsetsInfo('mujer')\n",
        "so"
      ],
      "metadata": {
        "id": "KyvDXgkbWq4k"
      },
      "execution_count": null,
      "outputs": []
    },
    {
      "cell_type": "markdown",
      "source": [
        "Este método esta fuertemente relacionado con el siguiente, pues nos dá a conocer los corpus en los cuales la palabra `word` esta presente."
      ],
      "metadata": {
        "id": "Srczk_7JZ8cC"
      }
    },
    {
      "cell_type": "markdown",
      "source": [
        "#### Método findSplits(...)\n",
        "\n",
        "Genera un arreglo a partir de los corpus dados para la busqueda de contextos.\n",
        "\n",
        "**Entrada(s)**:\n",
        "*   `word (str)`: palabra brindada por el usuario para extraer información del objeto `Vocabulary`.\n",
        "*   `subsets_list (List[str])`: Lista de nombre de corpus elegidos por el usuario para poder recuperar pequeños bloques aleatorios, que contengan la palabra de interés buscada, `word`. Tales nombres, son tomados del diccionario generado por `getSubsetsInfo(...)`\n",
        "\n",
        "\n",
        "**Salida(s)**:\n",
        "*   `datasets.iterable_dataset.IterableDataset`, cada componente de este objeto es un bloque tomado aleatoriamente para representar al corpus suministrado en `subsets_list`. Estructura es requerida para la busqueda de contextos. "
      ],
      "metadata": {
        "id": "rJN0HFY_aE5x"
      }
    },
    {
      "cell_type": "code",
      "source": [
        "ds = w2c.findSplits('mujer', ['OpenSubtitles2018', 'multiUN'])"
      ],
      "metadata": {
        "id": "PXfUr87fcWpv"
      },
      "execution_count": null,
      "outputs": []
    },
    {
      "cell_type": "markdown",
      "source": [
        "Se omiten aquellos corpus donde la palabra no esta presente."
      ],
      "metadata": {
        "id": "64OycfXKcpL_"
      }
    },
    {
      "cell_type": "code",
      "source": [
        "w2c.findSplits('mujer', ['OpenSubtitles2018', 'multiUN', 'corpusImaginario'])"
      ],
      "metadata": {
        "id": "dAiUjrazctF2"
      },
      "execution_count": null,
      "outputs": []
    },
    {
      "cell_type": "markdown",
      "source": [
        "#### Método getContexts(...)\n",
        "\n",
        "Genera un arreglo con los contextos aleatorios encontrados de una palabra.\n",
        "\n",
        "**Entrada(s)**:\n",
        "*   `word (str)`: palabra brindada por el usuario para buscar contextos. Presente en `Vocabulary`.\n",
        "*   `n_context (int)`: Número de contextos máximo a retornar.\n",
        "*   `ds (datasets.iterable_dataset.IterableDataset)`: Estructura de bloques  representantes de los corpus. Tipicamente obtenido al llamar el método `fndSplits(...)`.\n",
        "\n",
        "**Salida(s)**:\n",
        "*   `List[Tuple(int, str, str)]` Lista de contextos identificados por un entero (`int`), seguido del contexto (`str`) y corpus origen del mismo (`str`)"
      ],
      "metadata": {
        "id": "xMlS_cpqc4VC"
      }
    },
    {
      "cell_type": "code",
      "source": [
        "contextos = w2c.getContexts('mujer', 10, ds)\n",
        "contextos"
      ],
      "metadata": {
        "id": "3DMNbX5id01V"
      },
      "execution_count": null,
      "outputs": []
    },
    {
      "cell_type": "markdown",
      "source": [
        "> **Notar**: la ejecución iterativa retorna resultados distintos por tratarse de una busqueda aleatoria. Además, debido a esta aleatoriedad los contextos encontrados puede ser **menor** a lo estipulado en el parámetro `n_context`.\n",
        "\n",
        "Podemos procesar el resultado anterior para observar únicamente los contextos de la palabra *mujer* y eliminar las etiquetas de HTML."
      ],
      "metadata": {
        "id": "FoPgcJKAd-7e"
      }
    },
    {
      "cell_type": "code",
      "source": [
        "contextos_procesados = [contexto[1].replace('<u><b>', '').replace('</b></u>', '') for contexto in contextos]\n",
        "contextos_procesados"
      ],
      "metadata": {
        "id": "aLPdy8NmeYrH"
      },
      "execution_count": null,
      "outputs": []
    },
    {
      "cell_type": "markdown",
      "source": [
        "## Exploración de sesgos en frases"
      ],
      "metadata": {
        "id": "OsplHNluSxTH"
      }
    },
    {
      "cell_type": "markdown",
      "source": [
        "### Objetivo\n",
        "\n",
        "El sesgo presente en las oraciones o frases es el que generalmente solemos identificar con mayor facilidad en textos, por el contexto mismo en el que estan inmersos. Conmunmente, estas frases sesgadas presentan componentes como son un **objetivo**, ya sea *individual* o *colectivo*, y una **propiedad** asiganda a dicho objetivo.\n",
        "\n",
        "Actualmente, muchos modelos de lenguaje pre-entrenados en grandes volumenes de datos se ven sesgados por la presencia de estos ejemplos negativos, lo cuál interfiere en su aprendizaje. Este último no puede ser evaluado analíticamente como con las palabras, pero si es posible un análisis en base a preferencias de los modelos. De esta forma podemos evaluar la **tendencia de los modelos de lenguaje de generar lenguaje sesgado**."
      ],
      "metadata": {
        "id": "zaAG7swSS48c"
      }
    },
    {
      "cell_type": "markdown",
      "source": [
        "### Clase LanguageModel\n",
        "\n",
        "Esta clase es sencilla y se encarga de descargar y cargar el modelo de lenguaje deseado disponible en HuggingFace🤗.\n",
        "\n",
        "Estos modelos son requeridos para la instanciación de las siguientes clases para obtener el modelo en sí y su `tokenizer`."
      ],
      "metadata": {
        "id": "iRKPKNxg_ROs"
      }
    },
    {
      "cell_type": "code",
      "source": [
        "from modules.module_languageModel import LanguageModel"
      ],
      "metadata": {
        "id": "w32mgIfZ_SAZ"
      },
      "execution_count": 55,
      "outputs": []
    },
    {
      "cell_type": "markdown",
      "source": [
        "\n",
        "\n",
        "Para instanciar un objeto de esta clase, solo se requiere de:\n",
        "*   `model_name (str)`: Nombre del modelo pre-entrenado basado en **BERT** disponible en la plataforma de [HuggingFace🤗](https://huggingface.co/models?sort=downloads&search=bert).\n",
        "\n",
        "> Es posible la utilización de modelos **no** basados en **BERT**, pero estos deben poder ser cargados mediante la clase de HuggingFace🤗 `AutoModelForMaskedLM` y método `from_pretrained(...)`.\n",
        "\n",
        "Cargemos para la utilización y evaluación de las proximas clases el modelo **BETO**."
      ],
      "metadata": {
        "id": "rAojV8639NJg"
      }
    },
    {
      "cell_type": "code",
      "source": [
        "beto_lm = LanguageModel(\n",
        "    model_name = 'dccuchile/bert-base-spanish-wwm-uncased'\n",
        "    )"
      ],
      "metadata": {
        "id": "aB2kDtVT_MZw"
      },
      "execution_count": null,
      "outputs": []
    },
    {
      "cell_type": "markdown",
      "source": [
        "### Clase RankSents\n",
        "\n",
        "Para evaluar la tendencia de los modelos, un camino posible es llevar a cabo la tarea de **llenado de mascara** (del ingles *Fill-Mask task*), sencilla pero esclarecedora de esta tendencia latente del modelo.\n",
        "\n",
        "Dicha tarea se trata de enmascarar una palabra para que el modelo prediga que palabra tiene mayor probabilidad para reemplazar la enmascarada.\n",
        "\n",
        "Por ejemplo, dada la frase con la ultima palabra enmascarada con un ' \\* ' : \n",
        "\n",
        "> *El caballo blanco de San Martin es de color \\**\n",
        "\n",
        "podemos deducir claramente que la palabra con mayor probabilidad de tomar el lugar del * es la palabra **blanco**.\n",
        "\n",
        "De esta forma podemos evaluar al modelo en situaciones concretas para buscar presencia de sesgos, como con la frase:\n",
        "\n",
        "> *Los * roban*\n"
      ],
      "metadata": {
        "id": "S9bg294JXEk7"
      }
    },
    {
      "cell_type": "code",
      "source": [
        "from modules.module_rankSents import RankSents"
      ],
      "metadata": {
        "id": "zTKfJtG91aBH"
      },
      "execution_count": 57,
      "outputs": []
    },
    {
      "cell_type": "markdown",
      "source": [
        "Para instanciar un objeto de esta clase, se requieren los siguientes parámetros:\n",
        "*   `language_model (LanguageModel)`: Objeto de tipo `LanguageModel` de la cuál obtener el modelo cargado y su `tokenizer` para la realización de las tareas.\n",
        "*   `lang (str)`: idioma de las frases a evaluar para la tarea de **llenado de mascara**. Actualmente los idiomas posibles son Español (`es`) e Inlgés (`en`).\n",
        "*   `errorManager (ErrorManager)`: Objeto de tipo `ErrorManager` para los mensajes de error."
      ],
      "metadata": {
        "id": "k_qRVASSB6Q3"
      }
    },
    {
      "cell_type": "code",
      "source": [
        "rs = RankSents(\n",
        "    language_model = beto_lm,\n",
        "    lang = 'es',\n",
        "    errorManager=errorManager\n",
        "    )"
      ],
      "metadata": {
        "id": "AMnulACbCQQm"
      },
      "execution_count": 58,
      "outputs": []
    },
    {
      "cell_type": "markdown",
      "source": [
        "#### Calculo de preferencia de un modelo\n",
        "\n",
        "Tanto esta clase como la siguiente, `CrowsPairs` rankean las posibles frases "
      ],
      "metadata": {
        "id": "UuBhFPqcuHVe"
      }
    },
    {
      "cell_type": "markdown",
      "source": [
        "#### Método errorChecking(...)\n",
        "\n",
        "Verifica que la frase que el usuario ingresa esta correctamente formateada para llevar a cabo la tarea de **llenado de mascara**.\n",
        "\n",
        "Un formateo correcto implica la presencia de un único simbolo asterisco (' * ') en la frase, este simbolo sera llamado **máscara**. Esa será la posición de palabra que el modelo deberá llenar en su inferencia.\n",
        "\n",
        "**Entrada(s)**:\n",
        "*   `sent (str)`: sentencia a verificar su formato.\n",
        "\n",
        "**Salida(s)**:\n",
        "*   `str` con mesaje de error explicitando el error de formato en la frase, o vacio si fue correctamente suministrada.\n",
        "\n",
        "Las funciones de interes siempre realizan este chequeo previo, de esta forma no hay una necesidad explicita por parte del usuario de instaciarlo en todas las iteraciones."
      ],
      "metadata": {
        "id": "r7Vk8k4vDVJ-"
      }
    },
    {
      "cell_type": "markdown",
      "source": [
        "Vemos un caso de formateo correcto, como fueron las frases de ejemplo anteriores"
      ],
      "metadata": {
        "id": "OFpswYIPErOI"
      }
    },
    {
      "cell_type": "code",
      "source": [
        "frase = 'El caballo blanco de San Martin es de color *'"
      ],
      "metadata": {
        "id": "K_r-pdU1E63F"
      },
      "execution_count": 59,
      "outputs": []
    },
    {
      "cell_type": "code",
      "source": [
        "rs.errorChecking(\n",
        "    sent = frase\n",
        "    )"
      ],
      "metadata": {
        "id": "8K5vegHyE4CT"
      },
      "execution_count": null,
      "outputs": []
    },
    {
      "cell_type": "markdown",
      "source": [
        "Se retornan `str` de errores cuando la frase es vacia o no cuenta con una única máscara (*i.e.* un único simbolo asterisco, ' * ')."
      ],
      "metadata": {
        "id": "4li8_0BBFCWL"
      }
    },
    {
      "cell_type": "code",
      "source": [
        "## Frase vacia\n",
        "rs.errorChecking(\n",
        "    sent = ''\n",
        "    )"
      ],
      "metadata": {
        "id": "frNR0WsxEl90"
      },
      "execution_count": null,
      "outputs": []
    },
    {
      "cell_type": "code",
      "source": [
        "frase_sin_ast = 'El sandwich de pavo y mayonesa es rico'"
      ],
      "metadata": {
        "id": "I5rpHRwUFjnX"
      },
      "execution_count": 62,
      "outputs": []
    },
    {
      "cell_type": "code",
      "source": [
        "## Frase sin máscara\n",
        "rs.errorChecking(\n",
        "    sent = frase_sin_ast\n",
        "    )"
      ],
      "metadata": {
        "id": "U-GkWe00Ff_s"
      },
      "execution_count": null,
      "outputs": []
    },
    {
      "cell_type": "code",
      "source": [
        "frase_mul_masc = '* deberian volver a *'"
      ],
      "metadata": {
        "id": "wmCO-DLLGRZX"
      },
      "execution_count": 64,
      "outputs": []
    },
    {
      "cell_type": "code",
      "source": [
        "## Frase con más de una máscara\n",
        "rs.errorChecking(\n",
        "    sent = frase_mul_masc\n",
        "    )"
      ],
      "metadata": {
        "id": "K3IiG9aPGNeA"
      },
      "execution_count": null,
      "outputs": []
    },
    {
      "cell_type": "markdown",
      "source": [
        "> **Importante**: ciertos modelos de lenguaje pueden contener una **longitud máxima de sentencia**, de cargar un modelo con este limite y superarlo, se retornará un error acorde a esta problematica."
      ],
      "metadata": {
        "id": "ZsHGvVg2Ggk7"
      }
    },
    {
      "cell_type": "markdown",
      "source": [
        "#### Método rank(...)\n",
        "\n",
        "Este es el método que permite llevar a cabo la tarea de **llenado de mascara**.\n",
        "\n",
        "**Entrada(s)**:\n",
        "*   `sent (str)`: Sentencia enmascarada con un único simbolo asterisco ' * ' a ser llenado por el modelo `language_model` de la instancia. Referirse a `errorChecking(...)` para más información de un formateo correcto.\n",
        "*   `word_list (List[str])`: *`[]` por defecto*. Lista de palabras de preferencia con las cuales llenar `sent`. Si es `[]`, el modelo retorna las cinco palabras con mayor pseudo probabilidad.\n",
        "*   `banned_word_list (List[str])`: *`[]` por defecto*. Lista de palabras de a descartar para el llenado de `sent`. Se tomará en cuenta únicamente cuando `wordlist = []`.\n",
        "*   `articles (bool)`: *`False` por defecto*. Booleano para *filtrar* articulos de las palabras posibles a evaluar por el modelo para el llenado de la máscara.\n",
        "*   `prepositions (bool)`: *`False` por defecto*. Booleano para *filtrar* preposiciones de las palabras posibles a evaluar por el modelo para el llenado de la máscara.\n",
        "*   `conjunctions (bool)`: *`False` por defecto*. Booleano para *filtrar* conjunciones de las palabras posibles a evaluar por el modelo para el llenado de la máscara.\n",
        "\n",
        "\n",
        "**Salida(s)**:\n",
        "*   `Dict[str, float]`: Diccionario donde cada entrada tiene como llave la frase `sent` llenada por el modelo en la máscara con la palabra elegida encapsulada con los simbolos '<' y '>', y como valor, la pseudo probabilidad de elegir dicha palabra para llenar la frase.\n",
        "\n",
        ">  **Notar**: a **mayor valor** de pseudo probabilidad, **mayor es la preferencia** del modelo a utilizar dicha palabra para llenar la `sent` propuesta\n"
      ],
      "metadata": {
        "id": "bPZAFUNgHTf4"
      }
    },
    {
      "cell_type": "markdown",
      "source": [
        "#### Calculo de pseudo-probabilidad (o proporción)\n",
        "\n",
        "Este calculo se basa en la metrica de rankeo propuesta por ([Nangia et al. 2020](https://arxiv.org/pdf/2010.00133.pdf)).\n",
        "\n",
        "Ésta se basa en la sumatoria de los logaritmos de las probabilidades de que cada palabra que compone la frase pertenezca en ella, luego de haber llenado la máscara con una palabra posible."
      ],
      "metadata": {
        "id": "CPcLkk61woFD"
      }
    },
    {
      "cell_type": "markdown",
      "source": [
        "Veamos el ejemplo dado anteriormente sobre el color del caballo de San Martin."
      ],
      "metadata": {
        "id": "pUwwcTptLcsn"
      }
    },
    {
      "cell_type": "code",
      "source": [
        "rs.rank(\n",
        "    sent = frase\n",
        ")"
      ],
      "metadata": {
        "id": "f0zIXQwOKM8g"
      },
      "execution_count": null,
      "outputs": []
    },
    {
      "cell_type": "markdown",
      "source": [
        "Observamos así que sin suministar una lista de palabras de interés, el modelo nos retorna las cinco más probables, donde la que tiene mayor probabilidad es la palabra *amarillo*, seguido de la palabra esperada *blanco*."
      ],
      "metadata": {
        "id": "x-4EcZPWLu2X"
      }
    },
    {
      "cell_type": "markdown",
      "source": [
        "Veamos ahora el ejemplo con la frase: \n",
        "\n",
        "> *Los * roban*"
      ],
      "metadata": {
        "id": "ni63uyy3MK3E"
      }
    },
    {
      "cell_type": "code",
      "source": [
        "frase_2 = 'Los * roban'"
      ],
      "metadata": {
        "id": "vLSH-2vEMTfU"
      },
      "execution_count": 67,
      "outputs": []
    },
    {
      "cell_type": "code",
      "source": [
        "rs.rank(\n",
        "    sent = frase_2\n",
        ")"
      ],
      "metadata": {
        "id": "sWdcGN4RMWTc"
      },
      "execution_count": null,
      "outputs": []
    },
    {
      "cell_type": "markdown",
      "source": [
        "Aquí la palabra con mayor probabilidad de ser elegido por el modelo para el llenado de la frase es *ladrones*.\n",
        "\n",
        "Observamos que tenemos palabras poco interesantes, como es la conjunción *que* y la palabra *tigres*. Aquí es donde la lista de palabras baneadas (`banned_word_list`) y la posibilidad de excluir tanto articulos como preposiciones o conjunciones es de utilidad."
      ],
      "metadata": {
        "id": "nkiAG51jMZb5"
      }
    },
    {
      "cell_type": "code",
      "source": [
        "rs.rank(\n",
        "    sent = frase_2,\n",
        "    banned_word_list = ['tigres'],\n",
        "    conjunctions = True\n",
        ")"
      ],
      "metadata": {
        "id": "r9IJcqjqOVOM"
      },
      "execution_count": null,
      "outputs": []
    },
    {
      "cell_type": "markdown",
      "source": [
        "Especifiquemos ahora palabras con las cuales nos gustaria observar la preferencia del modelo, en busca de sesgos con palabras concretas. \n",
        "\n",
        "Recordar que esta lista no tiene un limite en cuanto a la cantidad de elementos y que no se verá afectada por las palabras dentro de la lista de baneos (`banned_word_list`)."
      ],
      "metadata": {
        "id": "sSBElNCENWuH"
      }
    },
    {
      "cell_type": "code",
      "source": [
        "palabras_para_llenar = ['ladrones', 'negros', 'blancos', 'ricos', 'ilegales', 'indocumentados', 'latinos', 'necesitados']"
      ],
      "metadata": {
        "id": "Hlt_mNJxMrSm"
      },
      "execution_count": 70,
      "outputs": []
    },
    {
      "cell_type": "code",
      "source": [
        "rs.rank(\n",
        "    sent = frase_2,\n",
        "    word_list = palabras_para_llenar\n",
        ")"
      ],
      "metadata": {
        "id": "-BQob3FcM-3d"
      },
      "execution_count": null,
      "outputs": []
    },
    {
      "cell_type": "markdown",
      "source": [
        "De todas estas, es la palabra *ricos* la que tiene mayor probabilidad de ser elegida."
      ],
      "metadata": {
        "id": "wVk1qf2XNGRk"
      }
    },
    {
      "cell_type": "markdown",
      "source": [
        "### Clase CrowsPairs\n",
        "\n",
        "Otra forma alternativa de evaluar las preferencias de un modelo sobre la generación de lenguaje sesgado es directamente proveyendo al mismo frases con y sin estereotipos, y evaluando su preferencia sobre éstas.\n",
        "\n",
        "Por ejemplo, podemos definir dos frases; una con estereotipo y la otra sin:\n",
        "\n",
        "> \"*Las parejas de <**homosexuales**> no deberían poder casarse*\"\n",
        "\n",
        "> \"*Las parejas de <**lesbianas**> no deberían poder casarse*\"\n",
        "\n",
        "Y suministrarlas al modelo para la evaluación de preferencia, de cierta forma podria verse como la tarea llevada a cabo por la clase `RankSents` sobre el **llenado de máscara** (tomando la frase \"*Las parejas de * no deberían poder casarse*\"), con la diferencia de que en esta tarea podemos tener más de una palabra sobre la cual el modelo deba evaluar su preferencia.\n",
        "\n",
        "Un ejemplo de esto último podría ser comparando las proximas frases con estereotipos:\n",
        "\n",
        "> \"*No cualquier <**mujer**> con hijos logra ser <**una buena**> profesional*\"\n",
        "\n",
        "> \"*No cualquier <**hombre**> con hijos logra ser <**un buen**> profesional*\"\n",
        "\n",
        "> \"*No cualquier <**perro**> con hijos logra ser <**un buen**> profesional*\"\n",
        "\n",
        "> \"*No cualquier <**perra**> con hijos logra ser <**una buena**> profesional*\""
      ],
      "metadata": {
        "id": "HxKQS4jlXL2K"
      }
    },
    {
      "cell_type": "code",
      "source": [
        "from modules.module_crowsPairs import CrowsPairs"
      ],
      "metadata": {
        "id": "Ew4UY9bIrbwk"
      },
      "execution_count": 72,
      "outputs": []
    },
    {
      "cell_type": "markdown",
      "source": [
        "Para instanciar un objeto de esta clase, se requieren dos parámetros:\n",
        "\n",
        "*   `language_model (LanguageModel)`: Objeto de tipo `LanguageModel` de la cuál obtener el modelo cargado y su `tokenizer` para la realización de las tareas.\n",
        "*   `errorManager (ErrorManager)`: Objeto de tipo `ErrorManager` para los mensajes de error."
      ],
      "metadata": {
        "id": "hgmUfHKzrduP"
      }
    },
    {
      "cell_type": "code",
      "source": [
        "cp = CrowsPairs(\n",
        "    language_model = beto_lm,\n",
        "    errorManager=errorManager\n",
        ")"
      ],
      "metadata": {
        "id": "Dmn3P-EFrqdo"
      },
      "execution_count": 73,
      "outputs": []
    },
    {
      "cell_type": "markdown",
      "source": [
        "#### Método errorChecking(...)\n",
        "\n",
        "Verifica que la frases que el usuario ingresa estan correctamente formateadas para llevar a cabo la tarea propuesta para esta clase.\n",
        "\n",
        "Un formateo correcto implica la presencia de al menos una palabra encapsulada por los simbolos '<' y '>', correctamente balancedos, sin anidamientos y tampoco emcapsulando toda la frase por completo.\n",
        "\n",
        "**Entrada(s)**:\n",
        "*   `sents (List[str])`: Lista de frases a verificar su formateo correcto.\n",
        "\n",
        "**Salida(s)**:\n",
        "*   `str` con mesaje de error explicitando el error de formato en la(s) frase(s), o vacio si estan correctamente formateadas.\n",
        "\n",
        "Las funciones de interes siempre realizan este chequeo previo, de esta forma no hay una necesidad explicita por parte del usuario de instaciarlo en todas las iteraciones."
      ],
      "metadata": {
        "id": "FxJi_5Wpoxw1"
      }
    },
    {
      "cell_type": "markdown",
      "source": [
        "Corroboremos el correcto formateo de las frases anteriorer."
      ],
      "metadata": {
        "id": "jHaQTPrFrSU_"
      }
    },
    {
      "cell_type": "code",
      "source": [
        "frase_parejas_1 = 'Las parejas de <homosexuales> no deberían poder casarse'"
      ],
      "metadata": {
        "id": "XiGKNUgjsRbV"
      },
      "execution_count": 74,
      "outputs": []
    },
    {
      "cell_type": "code",
      "source": [
        "frase_parejas_2 = 'Las parejas de <lesbianas> no deberían poder casarse' "
      ],
      "metadata": {
        "id": "yaHBnTzKsX-C"
      },
      "execution_count": 75,
      "outputs": []
    },
    {
      "cell_type": "code",
      "source": [
        "cp.errorChecking(\n",
        "    sent_list = [frase_parejas_1, frase_parejas_2]\n",
        "    )"
      ],
      "metadata": {
        "id": "7RrA0butsd2A"
      },
      "execution_count": null,
      "outputs": []
    },
    {
      "cell_type": "markdown",
      "source": [
        "En las siguientes celdas, se dejan ejemplos de formateos incorrectos"
      ],
      "metadata": {
        "id": "KRyZnUnOsmOp"
      }
    },
    {
      "cell_type": "code",
      "source": [
        "# Sentencia vacia\n",
        "cp.errorChecking(\n",
        "    sent_list = ['']\n",
        "    )"
      ],
      "metadata": {
        "id": "28l0LegbsrG4"
      },
      "execution_count": null,
      "outputs": []
    },
    {
      "cell_type": "code",
      "source": [
        "# Sentencia desbalanceada\n",
        "cp.errorChecking(\n",
        "    sent_list = ['Los <pobres> no deberian <poder votar']\n",
        "    )"
      ],
      "metadata": {
        "id": "vN5TItg1u6uz"
      },
      "execution_count": null,
      "outputs": []
    },
    {
      "cell_type": "code",
      "source": [
        "# Sentencia con anidamientos\n",
        "cp.errorChecking(\n",
        "    sent_list = ['Los <<pobres> no deberian <poder votar>']\n",
        "    )"
      ],
      "metadata": {
        "id": "T5eR0xJvvOPq"
      },
      "execution_count": null,
      "outputs": []
    },
    {
      "cell_type": "code",
      "source": [
        "# Sentencia con encapsulatiemnto completo\n",
        "cp.errorChecking(\n",
        "    sent_list = ['<Los pobres no deberian poder votar>']\n",
        "    )"
      ],
      "metadata": {
        "id": "y0HrRrZCvgnL"
      },
      "execution_count": null,
      "outputs": []
    },
    {
      "cell_type": "markdown",
      "source": [
        "#### Método rank(...)\n",
        "\n",
        "Este método permite llevar a capo la tarea de **comparar y rankear** las frases.\n",
        "\n",
        "**Entrada(s)**:\n",
        "*   `sent_list (List[str])`: Listas de frases a comparar. Referirse a `errorChecking(...)` para más información de un formateo correcto.\n",
        "\n",
        "\n",
        "**Salida(s)**:\n",
        "*   `Dict[str, float]`: Diccionario asignando a cada frase el valor de pseudo probabilidad calculada.\n",
        "\n",
        ">  **Notar**: a **mayor valor** de pseudo probabilidad, **mayor es la preferencia** del modelo sobre la sentencia."
      ],
      "metadata": {
        "id": "Xf9_v7K-vxFB"
      }
    },
    {
      "cell_type": "markdown",
      "source": [
        "#### Calculo de pseudo-probabilidad (o proporción)\n",
        "\n",
        "Este calculo se basa en la metrica de rankeo propuesta por ([Nangia et al. 2020](https://arxiv.org/pdf/2010.00133.pdf)).\n",
        "\n",
        "Ésta se basa en la sumatoria de los logaritmos de las probabilidades de que cada palabra que compone la frase pertenezca en ella, exceptuando aquellas palabras encapsuladas por los simbolos '<' y '>'."
      ],
      "metadata": {
        "id": "23NX6aVgxjm5"
      }
    },
    {
      "cell_type": "markdown",
      "source": [
        "Evaluemos así el primer ejemplo propuesto"
      ],
      "metadata": {
        "id": "EKcpyMAKxPuz"
      }
    },
    {
      "cell_type": "code",
      "source": [
        "cp.rank(\n",
        "    sent_list = [frase_parejas_1, frase_parejas_2]\n",
        ")"
      ],
      "metadata": {
        "id": "UdHiK-bRwYMO"
      },
      "execution_count": null,
      "outputs": []
    },
    {
      "cell_type": "markdown",
      "source": [
        "Observamos como la frase \"*Las parejas de <**lesbianas**> no deberían poder casarse*\" presenta una mayor pseudo probabilidad de ser la preferencia del modelo sobre la sentencia con la palabra **homosexuales**."
      ],
      "metadata": {
        "id": "5D59KGSGxT1B"
      }
    },
    {
      "cell_type": "markdown",
      "source": [
        "Veamos por último el segundo ejemplo dado, que contiene múltiples frases."
      ],
      "metadata": {
        "id": "zsZugT1yx157"
      }
    },
    {
      "cell_type": "code",
      "source": [
        "sentencia_profesional_1 = 'No cualquier <mujer> con hijos logra ser <una buena> profesional'"
      ],
      "metadata": {
        "id": "tbceFN2HyFxj"
      },
      "execution_count": 82,
      "outputs": []
    },
    {
      "cell_type": "code",
      "source": [
        "sentencia_profesional_2 = 'No cualquier <hombre> con hijos logra ser <un buen> profesional'"
      ],
      "metadata": {
        "id": "o95HOx_oyKyf"
      },
      "execution_count": 83,
      "outputs": []
    },
    {
      "cell_type": "code",
      "source": [
        "sentencia_profesional_3 = 'No cualquier <perro> con hijos logra ser <un buen> profesional'"
      ],
      "metadata": {
        "id": "tZBoqZ_KyLDZ"
      },
      "execution_count": 84,
      "outputs": []
    },
    {
      "cell_type": "code",
      "source": [
        "sentencia_profesional_4 = 'No cualquier <perra> con hijos logra ser <una buena> profesional'"
      ],
      "metadata": {
        "id": "hwgMQ7I2yLP9"
      },
      "execution_count": 85,
      "outputs": []
    },
    {
      "cell_type": "code",
      "source": [
        "cp.rank(\n",
        "    sent_list = [sentencia_profesional_1, sentencia_profesional_2, sentencia_profesional_3, sentencia_profesional_4]\n",
        ")"
      ],
      "metadata": {
        "id": "NXe3I_sFyeVB"
      },
      "execution_count": null,
      "outputs": []
    },
    {
      "cell_type": "markdown",
      "source": [
        "En este caso, la frase con mayor pseudo probabilidad es la primera: \"*No cualquier <**mujer**> con hijos logra ser <**una buena**> profesional*\", seguido por la frase \"*No cualquier <**perra**> con hijos logra ser <**una buena**> profesional*\"."
      ],
      "metadata": {
        "id": "m4rp6uQTyl8F"
      }
    },
    {
      "cell_type": "markdown",
      "source": [
        "---"
      ],
      "metadata": {
        "id": "FM6180BoFUUo"
      }
    }
  ],
  "metadata": {
    "colab": {
      "provenance": [],
      "toc_visible": true,
      "include_colab_link": true
    },
    "kernelspec": {
      "display_name": "Python 3",
      "name": "python3"
    }
  },
  "nbformat": 4,
  "nbformat_minor": 0
}